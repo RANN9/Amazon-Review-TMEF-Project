{
 "cells": [
  {
   "cell_type": "code",
   "execution_count": 6,
   "metadata": {},
   "outputs": [],
   "source": [
    "import pandas as pd\n",
    "import numpy as np\n",
    "import matplotlib.pyplot as plt\n",
    "import matplotlib.colors as mcolors\n",
    "import seaborn as sns\n",
    "from tqdm import tqdm_notebook as tqdm\n",
    "from adjustText import adjust_text\n",
    "\n",
    "import spacy\n",
    "from spacy import displacy\n",
    "nlp = spacy.load(\"en_core_web_sm\")\n",
    "\n",
    "from sklearn.feature_extraction.text import TfidfVectorizer\n",
    "from sklearn.feature_extraction.text import CountVectorizer\n",
    "from sklearn.linear_model import LassoCV\n",
    "from sklearn.linear_model import Lasso\n",
    "from sklearn.model_selection import train_test_split, GridSearchCV\n",
    "from sklearn.pipeline import make_pipeline\n",
    "from sklearn.metrics import mean_squared_error\n",
    "from sklearn.neighbors import KNeighborsRegressor\n",
    "from sklearn.preprocessing import LabelEncoder\n",
    "\n",
    "import xgboost as xgb\n",
    "from skopt import BayesSearchCV\n",
    "from skopt.space import Real, Categorical, Integer\n",
    "import pandas as pd\n",
    "\n",
    "import torch\n",
    "import torch.nn as nn\n",
    "import torch.optim as optim\n",
    "from torch.utils.data import Dataset, DataLoader\n",
    "from torch.nn.utils.rnn import pack_padded_sequence, pad_packed_sequence\n",
    "from keras.preprocessing.text import Tokenizer\n",
    "from keras.preprocessing.sequence import pad_sequences\n",
    "\n",
    "\n",
    "np.int = int"
   ]
  },
  {
   "cell_type": "code",
   "execution_count": 2,
   "metadata": {},
   "outputs": [
    {
     "name": "stderr",
     "output_type": "stream",
     "text": [
      "C:\\Users\\rzp98\\AppData\\Local\\Temp\\ipykernel_37340\\3537207761.py:1: DtypeWarning: Columns (5) have mixed types. Specify dtype option on import or set low_memory=False.\n",
      "  df_review_normalised = pd.read_csv('review_phone_normalised.csv')\n"
     ]
    }
   ],
   "source": [
    "df_review_normalised = pd.read_csv('review_phone_normalised.csv')\n",
    "df_review_normalised = df_review_normalised.dropna()"
   ]
  },
  {
   "cell_type": "code",
   "execution_count": 3,
   "metadata": {},
   "outputs": [
    {
     "data": {
      "text/plain": [
       "0"
      ]
     },
     "execution_count": 3,
     "metadata": {},
     "output_type": "execute_result"
    }
   ],
   "source": [
    "df_review_normalised[\"reviewText\"].isna().sum() "
   ]
  },
  {
   "cell_type": "code",
   "execution_count": 4,
   "metadata": {},
   "outputs": [
    {
     "name": "stdout",
     "output_type": "stream",
     "text": [
      "<class 'pandas.core.frame.DataFrame'>\n",
      "Index: 54094 entries, 328577 to 522500\n",
      "Data columns (total 10 columns):\n",
      " #   Column      Non-Null Count  Dtype  \n",
      "---  ------      --------------  -----  \n",
      " 0   overall     54094 non-null  float64\n",
      " 1   verified    54094 non-null  bool   \n",
      " 2   reviewTime  54094 non-null  object \n",
      " 3   asin        54094 non-null  object \n",
      " 4   reviewText  54094 non-null  object \n",
      " 5   vote        54094 non-null  object \n",
      " 6   image       54094 non-null  bool   \n",
      " 7   Year        54094 non-null  int64  \n",
      " 8   price       54094 non-null  float64\n",
      " 9   main_cat    54094 non-null  object \n",
      "dtypes: bool(2), float64(2), int64(1), object(5)\n",
      "memory usage: 3.8+ MB\n"
     ]
    }
   ],
   "source": [
    "df_review_normalised_subset = df_review_normalised.sample(frac=0.5, random_state=1)\n",
    "df_review_normalised_subset.info()"
   ]
  },
  {
   "cell_type": "markdown",
   "metadata": {},
   "source": [
    "# KNN"
   ]
  },
  {
   "cell_type": "code",
   "execution_count": null,
   "metadata": {},
   "outputs": [],
   "source": [
    "vectorizer = TfidfVectorizer(min_df=1)\n",
    "knn_regressor = KNeighborsRegressor(\n",
    "    n_neighbors=5\n",
    ")  # You can change the number of neighbors\n",
    "pipeline = make_pipeline(vectorizer, knn_regressor)\n",
    "\n",
    "X_train, X_test, y_train, y_test = train_test_split(\n",
    "    df_review_normalised_subset[\"reviewText\"],\n",
    "    df_review_normalised_subset[\"overall\"],\n",
    "    test_size=0.25,\n",
    "    random_state=9,\n",
    "    stratify=df_review_normalised_subset[\"overall\"],\n",
    ")\n",
    "param_grid = {\n",
    "    \"kneighborsregressor__n_neighbors\": [10, 20, 50, 100],\n",
    "    \"kneighborsregressor__weights\": [\"uniform\", \"distance\"],\n",
    "}\n",
    "\n",
    "grid_search = GridSearchCV(\n",
    "    pipeline, param_grid, cv=5, scoring=\"neg_mean_squared_error\", verbose=1\n",
    ")\n",
    "grid_search.fit(X_train, y_train)\n",
    "print(f\"Best parameters: {grid_search.best_params_}\")\n",
    "y_pred = grid_search.predict(X_test)\n",
    "mse = mean_squared_error(y_test, y_pred)\n",
    "print(f\"Mean Squared Error: {mse}\")\n",
    "\n",
    "best_vectorizer_step = grid_search.best_estimator_.named_steps[\"tfidfvectorizer\"]\n",
    "X_train_dfm = best_vectorizer_step.transform(X_train)\n",
    "X_train_dense = X_train_dfm.todense()\n",
    "feature_names = best_vectorizer_step.get_feature_names_out()\n",
    "X_train_dfm_df = pd.DataFrame(X_train_dense, columns=feature_names)"
   ]
  },
  {
   "cell_type": "markdown",
   "metadata": {},
   "source": [
    "# XGBoost (CountVectorizer)"
   ]
  },
  {
   "cell_type": "code",
   "execution_count": 7,
   "metadata": {},
   "outputs": [
    {
     "name": "stdout",
     "output_type": "stream",
     "text": [
      "Best parameters: OrderedDict([('xgbregressor__colsample_bytree', 0.705051979426657), ('xgbregressor__learning_rate', 0.08846938749167613), ('xgbregressor__max_depth', 10), ('xgbregressor__min_child_weight', 4), ('xgbregressor__n_estimators', 703), ('xgbregressor__subsample', 0.7070593162427692)])\n",
      "Best MSE score: 1.2824192315195644\n"
     ]
    }
   ],
   "source": [
    "\n",
    "X_train, X_test, y_train, y_test = train_test_split(\n",
    "    df_review_normalised_subset[\"reviewText\"],\n",
    "    df_review_normalised_subset[\"overall\"],\n",
    "    test_size=0.25,\n",
    "    random_state=42,\n",
    ")\n",
    "\n",
    "\n",
    "vectorizer = CountVectorizer(min_df=1) # also try TfidfVectorizer\n",
    "xgb_regressor = xgb.XGBRegressor(\n",
    "    objective=\"reg:squarederror\", eval_metric=\"rmse\", random_state=42\n",
    ")\n",
    "pipeline = make_pipeline(vectorizer, xgb_regressor)\n",
    "\n",
    "param_space = {\n",
    "    \"xgbregressor__n_estimators\": Integer(100, 1000),\n",
    "    \"xgbregressor__max_depth\": Integer(3, 10),\n",
    "    \"xgbregressor__learning_rate\": Real(0.01, 0.2, \"log-uniform\"),\n",
    "    \"xgbregressor__min_child_weight\": Integer(1, 10),\n",
    "    \"xgbregressor__subsample\": Real(0.5, 1.0),\n",
    "    \"xgbregressor__colsample_bytree\": Real(0.5, 1.0),\n",
    "}\n",
    "\n",
    "bayes_search = BayesSearchCV(\n",
    "    estimator=pipeline,\n",
    "    search_spaces=param_space,\n",
    "    n_iter=12,\n",
    "    random_state=42,\n",
    "    cv=3,\n",
    "    scoring=\"neg_mean_squared_error\",\n",
    "    n_jobs=-1,\n",
    "    verbose=1\n",
    ")\n",
    "\n",
    "bayes_search.fit(X_train, y_train)\n",
    "\n",
    "print(f\"Best parameters: {bayes_search.best_params_}\")\n",
    "best_score = -bayes_search.best_score_\n",
    "print(f\"Best MSE score: {best_score}\")"
   ]
  },
  {
   "cell_type": "code",
   "execution_count": 35,
   "metadata": {},
   "outputs": [
    {
     "data": {
      "image/png": "[encoded data removed]",
      "text/plain": [
       "<Figure size 1200x800 with 1 Axes>"
      ]
     },
     "metadata": {},
     "output_type": "display_data"
    }
   ],
   "source": [
    "\n",
    "best_pipeline = bayes_search.best_estimator_\n",
    "best_xgb_model = best_pipeline.named_steps['xgbregressor']\n",
    "\n",
    "feature_importances = best_xgb_model.feature_importances_\n",
    "\n",
    "\n",
    "vectorizer_step = best_pipeline.named_steps['countvectorizer']  # change to 'tfidfvectorizer' if used \n",
    "feature_names = vectorizer_step.get_feature_names_out()\n",
    "\n",
    "importances = pd.Series(feature_importances, index=feature_names)\n",
    "\n",
    "plt.figure(figsize=(12, 8))\n",
    "importances.nlargest(20).plot(kind='barh')  \n",
    "plt.title('Top 20 Feature Importances')\n",
    "plt.show()"
   ]
  },
  {
   "cell_type": "markdown",
   "metadata": {},
   "source": [
    "# XGBoost (TfidfVectorizer)"
   ]
  },
  {
   "cell_type": "code",
   "execution_count": 36,
   "metadata": {},
   "outputs": [],
   "source": [
    "# also try tfidfvectorizer"
   ]
  },
  {
   "cell_type": "code",
   "execution_count": null,
   "metadata": {},
   "outputs": [],
   "source": []
  },
  {
   "cell_type": "code",
   "execution_count": null,
   "metadata": {},
   "outputs": [],
   "source": []
  },
  {
   "cell_type": "code",
   "execution_count": null,
   "metadata": {},
   "outputs": [],
   "source": []
  },
  {
   "cell_type": "markdown",
   "metadata": {},
   "source": [
    "# Simple BiLSTM "
   ]
  },
  {
   "cell_type": "code",
   "execution_count": 7,
   "metadata": {},
   "outputs": [
    {
     "name": "stderr",
     "output_type": "stream",
     "text": [
      "C:\\Users\\rzp98\\AppData\\Local\\Temp\\ipykernel_37340\\2895166171.py:89: TqdmDeprecationWarning: This function will be removed in tqdm==5.0.0\n",
      "Please use `tqdm.notebook.tqdm` instead of `tqdm.tqdm_notebook`\n",
      "  for epoch in tqdm(range(n_epochs), desc='Epochs'):\n"
     ]
    },
    {
     "data": {
      "application/vnd.jupyter.widget-view+json": {
       "model_id": "241ef1eee73c484d8bea915ef391421c",
       "version_major": 2,
       "version_minor": 0
      },
      "text/plain": [
       "Epochs:   0%|          | 0/5 [00:00<?, ?it/s]"
      ]
     },
     "metadata": {},
     "output_type": "display_data"
    },
    {
     "name": "stderr",
     "output_type": "stream",
     "text": [
      "C:\\Users\\rzp98\\AppData\\Local\\Temp\\ipykernel_37340\\2895166171.py:75: TqdmDeprecationWarning: This function will be removed in tqdm==5.0.0\n",
      "Please use `tqdm.notebook.tqdm` instead of `tqdm.tqdm_notebook`\n",
      "  progress_bar = tqdm(iterator, desc='Training', leave=False)\n"
     ]
    },
    {
     "data": {
      "application/vnd.jupyter.widget-view+json": {
       "model_id": "b779672b00874ea089a7c80a70f5fb74",
       "version_major": 2,
       "version_minor": 0
      },
      "text/plain": [
       "Training:   0%|          | 0/2536 [00:00<?, ?it/s]"
      ]
     },
     "metadata": {},
     "output_type": "display_data"
    }
   ],
   "source": [
    "X = df_review_normalised_subset['reviewText'].values\n",
    "y = df_review_normalised_subset['overall'].values\n",
    "\n",
    "label_encoder = LabelEncoder()\n",
    "y_encoded = label_encoder.fit_transform(y)\n",
    "\n",
    "tokenizer = Tokenizer(num_words=2500)\n",
    "tokenizer.fit_on_texts(X)\n",
    "sequences = tokenizer.texts_to_sequences(X)\n",
    "max_len = max([len(x) for x in sequences])\n",
    "X_padded = pad_sequences(sequences, maxlen=max_len)\n",
    "\n",
    "X_train, X_test, y_train, y_test = train_test_split(X_padded, y_encoded, test_size=0.25, random_state=42)\n",
    "\n",
    "class ReviewsDataset(Dataset):\n",
    "    def __init__(self, reviews, targets):\n",
    "        self.reviews = reviews\n",
    "        self.targets = targets\n",
    "    \n",
    "    def __len__(self):\n",
    "        return len(self.reviews)\n",
    "    \n",
    "    def __getitem__(self, idx):\n",
    "        review = torch.tensor(self.reviews[idx], dtype=torch.long)\n",
    "        target = torch.tensor(self.targets[idx], dtype=torch.long)\n",
    "        return review, target\n",
    "\n",
    "train_dataset = ReviewsDataset(X_train, y_train)\n",
    "test_dataset = ReviewsDataset(X_test, y_test)\n",
    "\n",
    "train_loader = DataLoader(train_dataset, batch_size=16, shuffle=True)\n",
    "test_loader = DataLoader(test_dataset, batch_size=16, shuffle=False)\n",
    "\n",
    "#BiLSTM model\n",
    "class BiLSTM(nn.Module):\n",
    "    def __init__(self, vocab_size, embedding_dim, hidden_dim, output_dim, n_layers, \n",
    "                 bidirectional, dropout):\n",
    "        super().__init__()\n",
    "        self.embedding = nn.Embedding(vocab_size, embedding_dim)\n",
    "        self.rnn = nn.LSTM(embedding_dim, \n",
    "                           hidden_dim, \n",
    "                           num_layers=n_layers, \n",
    "                           bidirectional=bidirectional, \n",
    "                           dropout=dropout,\n",
    "                           batch_first=True)\n",
    "        self.fc = nn.Linear(hidden_dim * 2, output_dim)\n",
    "        self.dropout = nn.Dropout(dropout)\n",
    "        \n",
    "    def forward(self, text, text_lengths):\n",
    "        embedded = self.dropout(self.embedding(text))\n",
    "        packed_embedded = pack_padded_sequence(embedded, text_lengths.cpu(), batch_first=True, enforce_sorted=False)\n",
    "        packed_output, (hidden, cell) = self.rnn(packed_embedded)\n",
    "        output, output_lengths = pad_packed_sequence(packed_output, batch_first=True)\n",
    "        hidden = self.dropout(torch.cat((hidden[-2,:,:], hidden[-1,:,:]), dim = 1))\n",
    "        return self.fc(hidden)\n",
    "\n",
    "# Hyperparameters\n",
    "vocab_size = len(tokenizer.word_index) + 1\n",
    "embedding_dim = 64\n",
    "hidden_dim = 64   # Reduced from 256\n",
    "output_dim = 5  # Predicting ratings 1-5\n",
    "n_layers = 2 # Reduced from 2\n",
    "bidirectional = True\n",
    "dropout = 0.5\n",
    "\n",
    "model = BiLSTM(vocab_size, embedding_dim, hidden_dim, output_dim, n_layers, bidirectional, dropout)\n",
    "model = model.to('cuda')  #  GPU\n",
    "criterion = nn.CrossEntropyLoss()\n",
    "optimizer = optim.Adam(model.parameters())\n",
    "\n",
    "\n",
    "def train(model, iterator, optimizer, criterion):\n",
    "    model.train()\n",
    "    epoch_loss = 0\n",
    "    progress_bar = tqdm(iterator, desc='Training', leave=False)\n",
    "    for texts, labels in progress_bar:\n",
    "        texts, labels = texts.cuda(), labels.cuda()  # GPU\n",
    "        optimizer.zero_grad()\n",
    "        predictions = model(texts, torch.tensor([max_len]*texts.shape[0]).to('cuda'))\n",
    "        loss = criterion(predictions, labels)\n",
    "        loss.backward()\n",
    "        optimizer.step()\n",
    "        epoch_loss += loss.item()\n",
    "        progress_bar.set_postfix(loss=loss.item())\n",
    "    return epoch_loss / len(iterator)\n",
    "\n",
    "\n",
    "n_epochs = 5\n",
    "for epoch in tqdm(range(n_epochs), desc='Epochs'):\n",
    "    train_loss = train(model, train_loader, optimizer, criterion)\n",
    "    print(f'Epoch: {epoch+1:02}, Train Loss: {train_loss:.3f}')\n",
    "\n"
   ]
  },
  {
   "cell_type": "code",
   "execution_count": null,
   "metadata": {},
   "outputs": [],
   "source": []
  },
  {
   "cell_type": "code",
   "execution_count": null,
   "metadata": {},
   "outputs": [],
   "source": []
  },
  {
   "cell_type": "code",
   "execution_count": null,
   "metadata": {},
   "outputs": [],
   "source": []
  },
  {
   "cell_type": "code",
   "execution_count": null,
   "metadata": {},
   "outputs": [],
   "source": []
  },
  {
   "cell_type": "code",
   "execution_count": null,
   "metadata": {},
   "outputs": [],
   "source": []
  },
  {
   "cell_type": "code",
   "execution_count": null,
   "metadata": {},
   "outputs": [],
   "source": []
  },
  {
   "cell_type": "code",
   "execution_count": null,
   "metadata": {},
   "outputs": [],
   "source": []
  }
 ],
 "metadata": {
  "kernelspec": {
   "display_name": "base",
   "language": "python",
   "name": "python3"
  },
  "language_info": {
   "codemirror_mode": {
    "name": "ipython",
    "version": 3
   },
   "file_extension": ".py",
   "mimetype": "text/x-python",
   "name": "python",
   "nbconvert_exporter": "python",
   "pygments_lexer": "ipython3",
   "version": "3.11.5"
  }
 },
 "nbformat": 4,
 "nbformat_minor": 2
}
