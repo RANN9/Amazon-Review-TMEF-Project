{
 "cells": [
  {
   "cell_type": "markdown",
   "metadata": {},
   "source": [
    "# Import Modules"
   ]
  },
  {
   "cell_type": "code",
   "execution_count": 1,
   "metadata": {},
   "outputs": [],
   "source": [
    "import numpy as np\n",
    "import pandas as pd\n",
    "from imblearn.under_sampling import RandomUnderSampler\n",
    "import matplotlib.pyplot as plt\n",
    "from sklearn.feature_extraction.text import CountVectorizer\n",
    "from sklearn.linear_model import LassoCV\n",
    "from imblearn.pipeline import make_pipeline\n",
    "from sklearn.model_selection import train_test_split\n",
    "from sklearn.metrics import mean_squared_error\n",
    "from vaderSentiment.vaderSentiment import SentimentIntensityAnalyzer\n",
    "\n",
    "SEED = 9"
   ]
  },
  {
   "cell_type": "markdown",
   "metadata": {},
   "source": [
    "Load normalized and cleaned data from csv file"
   ]
  },
  {
   "cell_type": "code",
   "execution_count": 2,
   "metadata": {},
   "outputs": [
    {
     "name": "stderr",
     "output_type": "stream",
     "text": [
      "/var/folders/sz/c7p0p6cx3vv0tc5tvwz7f1kw0000gn/T/ipykernel_1312/1631210238.py:1: DtypeWarning: Columns (5) have mixed types. Specify dtype option on import or set low_memory=False.\n",
      "  df_review_normalised = pd.read_csv(\"review_camera_normalised.csv\")\n"
     ]
    }
   ],
   "source": [
    "df_review_normalised = pd.read_csv(\"review_camera_normalised.csv\")\n",
    "df_review_normalised = df_review_normalised.dropna()"
   ]
  },
  {
   "cell_type": "code",
   "execution_count": 3,
   "metadata": {},
   "outputs": [],
   "source": [
    "IS: pd.DataFrame\n",
    "OS: pd.DataFrame\n",
    "IS, OOS = train_test_split(\n",
    "    df_review_normalised,\n",
    "    test_size=0.2,\n",
    "    random_state=SEED,\n",
    ")"
   ]
  },
  {
   "cell_type": "code",
   "execution_count": 4,
   "metadata": {},
   "outputs": [
    {
     "name": "stdout",
     "output_type": "stream",
     "text": [
      "<class 'pandas.core.frame.DataFrame'>\n",
      "Index: 211872 entries, 738804 to 1000258\n",
      "Data columns (total 10 columns):\n",
      " #   Column      Non-Null Count   Dtype  \n",
      "---  ------      --------------   -----  \n",
      " 0   overall     211872 non-null  float64\n",
      " 1   verified    211872 non-null  bool   \n",
      " 2   reviewTime  211872 non-null  object \n",
      " 3   asin        211872 non-null  object \n",
      " 4   reviewText  211872 non-null  object \n",
      " 5   vote        211872 non-null  object \n",
      " 6   image       211872 non-null  bool   \n",
      " 7   Year        211872 non-null  int64  \n",
      " 8   price       211872 non-null  float64\n",
      " 9   main_cat    211872 non-null  object \n",
      "dtypes: bool(2), float64(2), int64(1), object(5)\n",
      "memory usage: 15.0+ MB\n"
     ]
    }
   ],
   "source": [
    "df_review_normalised_subset = IS.sample(\n",
    "    # n=int(5e4),\n",
    "    frac=1.0,\n",
    "    random_state=SEED,\n",
    ")\n",
    "df_review_normalised_subset.info()"
   ]
  },
  {
   "cell_type": "code",
   "execution_count": 5,
   "metadata": {},
   "outputs": [
    {
     "data": {
      "text/html": [
       "<div>\n",
       "<style scoped>\n",
       "    .dataframe tbody tr th:only-of-type {\n",
       "        vertical-align: middle;\n",
       "    }\n",
       "\n",
       "    .dataframe tbody tr th {\n",
       "        vertical-align: top;\n",
       "    }\n",
       "\n",
       "    .dataframe thead th {\n",
       "        text-align: right;\n",
       "    }\n",
       "</style>\n",
       "<table border=\"1\" class=\"dataframe\">\n",
       "  <thead>\n",
       "    <tr style=\"text-align: right;\">\n",
       "      <th></th>\n",
       "      <th>overall</th>\n",
       "      <th>verified</th>\n",
       "      <th>reviewTime</th>\n",
       "      <th>asin</th>\n",
       "      <th>reviewText</th>\n",
       "      <th>vote</th>\n",
       "      <th>image</th>\n",
       "      <th>Year</th>\n",
       "      <th>price</th>\n",
       "      <th>main_cat</th>\n",
       "    </tr>\n",
       "  </thead>\n",
       "  <tbody>\n",
       "    <tr>\n",
       "      <th>738804</th>\n",
       "      <td>5.0</td>\n",
       "      <td>True</td>\n",
       "      <td>2013-04-06</td>\n",
       "      <td>B0056HNTAU</td>\n",
       "      <td>positive review sure add frame upgrade pro fra...</td>\n",
       "      <td>16</td>\n",
       "      <td>False</td>\n",
       "      <td>2013</td>\n",
       "      <td>5.57</td>\n",
       "      <td>Camera &amp; Photo</td>\n",
       "    </tr>\n",
       "    <tr>\n",
       "      <th>386767</th>\n",
       "      <td>5.0</td>\n",
       "      <td>True</td>\n",
       "      <td>2016-08-15</td>\n",
       "      <td>B001FB6PJI</td>\n",
       "      <td>lens perfect real estate photography good opti...</td>\n",
       "      <td>2</td>\n",
       "      <td>False</td>\n",
       "      <td>2016</td>\n",
       "      <td>238.00</td>\n",
       "      <td>Camera &amp; Photo</td>\n",
       "    </tr>\n",
       "    <tr>\n",
       "      <th>62379</th>\n",
       "      <td>5.0</td>\n",
       "      <td>True</td>\n",
       "      <td>2013-07-06</td>\n",
       "      <td>B00007GQLS</td>\n",
       "      <td>love len dead tie usm lens forever believe bel...</td>\n",
       "      <td>5</td>\n",
       "      <td>False</td>\n",
       "      <td>2013</td>\n",
       "      <td>72.83</td>\n",
       "      <td>Camera &amp; Photo</td>\n",
       "    </tr>\n",
       "    <tr>\n",
       "      <th>1030598</th>\n",
       "      <td>5.0</td>\n",
       "      <td>True</td>\n",
       "      <td>2014-06-24</td>\n",
       "      <td>B00AXTQRSC</td>\n",
       "      <td>lot research buy camera look canon camera scou...</td>\n",
       "      <td>3</td>\n",
       "      <td>False</td>\n",
       "      <td>2014</td>\n",
       "      <td>599.99</td>\n",
       "      <td>Camera &amp; Photo</td>\n",
       "    </tr>\n",
       "    <tr>\n",
       "      <th>438194</th>\n",
       "      <td>5.0</td>\n",
       "      <td>True</td>\n",
       "      <td>2010-01-30</td>\n",
       "      <td>B001SER45G</td>\n",
       "      <td>professional photographer want little camera p...</td>\n",
       "      <td>3</td>\n",
       "      <td>False</td>\n",
       "      <td>2010</td>\n",
       "      <td>79.27</td>\n",
       "      <td>Camera &amp; Photo</td>\n",
       "    </tr>\n",
       "    <tr>\n",
       "      <th>...</th>\n",
       "      <td>...</td>\n",
       "      <td>...</td>\n",
       "      <td>...</td>\n",
       "      <td>...</td>\n",
       "      <td>...</td>\n",
       "      <td>...</td>\n",
       "      <td>...</td>\n",
       "      <td>...</td>\n",
       "      <td>...</td>\n",
       "      <td>...</td>\n",
       "    </tr>\n",
       "    <tr>\n",
       "      <th>1023342</th>\n",
       "      <td>1.0</td>\n",
       "      <td>True</td>\n",
       "      <td>2014-03-24</td>\n",
       "      <td>B00ATE7TYC</td>\n",
       "      <td>purchase camera college field trip daughter ne...</td>\n",
       "      <td>2</td>\n",
       "      <td>False</td>\n",
       "      <td>2014</td>\n",
       "      <td>95.00</td>\n",
       "      <td>Camera &amp; Photo</td>\n",
       "    </tr>\n",
       "    <tr>\n",
       "      <th>38311</th>\n",
       "      <td>5.0</td>\n",
       "      <td>False</td>\n",
       "      <td>2002-02-10</td>\n",
       "      <td>B00005QFZF</td>\n",
       "      <td>ok love fall pocket ski lift outperform hand c...</td>\n",
       "      <td>34</td>\n",
       "      <td>False</td>\n",
       "      <td>2002</td>\n",
       "      <td>34.95</td>\n",
       "      <td>Camera &amp; Photo</td>\n",
       "    </tr>\n",
       "    <tr>\n",
       "      <th>2485378</th>\n",
       "      <td>5.0</td>\n",
       "      <td>True</td>\n",
       "      <td>2018-08-14</td>\n",
       "      <td>B01EINBS14</td>\n",
       "      <td>div block section spacing small spacing mini v...</td>\n",
       "      <td>2.0</td>\n",
       "      <td>False</td>\n",
       "      <td>2018</td>\n",
       "      <td>20.70</td>\n",
       "      <td>Camera &amp; Photo</td>\n",
       "    </tr>\n",
       "    <tr>\n",
       "      <th>71541</th>\n",
       "      <td>5.0</td>\n",
       "      <td>True</td>\n",
       "      <td>2006-11-09</td>\n",
       "      <td>B000092M1T</td>\n",
       "      <td>lens camera work great camera shoot sporting e...</td>\n",
       "      <td>7</td>\n",
       "      <td>False</td>\n",
       "      <td>2006</td>\n",
       "      <td>63.68</td>\n",
       "      <td>Camera &amp; Photo</td>\n",
       "    </tr>\n",
       "    <tr>\n",
       "      <th>1000258</th>\n",
       "      <td>5.0</td>\n",
       "      <td>False</td>\n",
       "      <td>2013-09-03</td>\n",
       "      <td>B00A2BVBTG</td>\n",
       "      <td>want contribute review find detailed comment u...</td>\n",
       "      <td>29</td>\n",
       "      <td>False</td>\n",
       "      <td>2013</td>\n",
       "      <td>48.79</td>\n",
       "      <td>Camera &amp; Photo</td>\n",
       "    </tr>\n",
       "  </tbody>\n",
       "</table>\n",
       "<p>211872 rows × 10 columns</p>\n",
       "</div>"
      ],
      "text/plain": [
       "         overall  verified  reviewTime        asin  \\\n",
       "738804       5.0      True  2013-04-06  B0056HNTAU   \n",
       "386767       5.0      True  2016-08-15  B001FB6PJI   \n",
       "62379        5.0      True  2013-07-06  B00007GQLS   \n",
       "1030598      5.0      True  2014-06-24  B00AXTQRSC   \n",
       "438194       5.0      True  2010-01-30  B001SER45G   \n",
       "...          ...       ...         ...         ...   \n",
       "1023342      1.0      True  2014-03-24  B00ATE7TYC   \n",
       "38311        5.0     False  2002-02-10  B00005QFZF   \n",
       "2485378      5.0      True  2018-08-14  B01EINBS14   \n",
       "71541        5.0      True  2006-11-09  B000092M1T   \n",
       "1000258      5.0     False  2013-09-03  B00A2BVBTG   \n",
       "\n",
       "                                                reviewText vote  image  Year  \\\n",
       "738804   positive review sure add frame upgrade pro fra...   16  False  2013   \n",
       "386767   lens perfect real estate photography good opti...    2  False  2016   \n",
       "62379    love len dead tie usm lens forever believe bel...    5  False  2013   \n",
       "1030598  lot research buy camera look canon camera scou...    3  False  2014   \n",
       "438194   professional photographer want little camera p...    3  False  2010   \n",
       "...                                                    ...  ...    ...   ...   \n",
       "1023342  purchase camera college field trip daughter ne...    2  False  2014   \n",
       "38311    ok love fall pocket ski lift outperform hand c...   34  False  2002   \n",
       "2485378  div block section spacing small spacing mini v...  2.0  False  2018   \n",
       "71541    lens camera work great camera shoot sporting e...    7  False  2006   \n",
       "1000258  want contribute review find detailed comment u...   29  False  2013   \n",
       "\n",
       "          price        main_cat  \n",
       "738804     5.57  Camera & Photo  \n",
       "386767   238.00  Camera & Photo  \n",
       "62379     72.83  Camera & Photo  \n",
       "1030598  599.99  Camera & Photo  \n",
       "438194    79.27  Camera & Photo  \n",
       "...         ...             ...  \n",
       "1023342   95.00  Camera & Photo  \n",
       "38311     34.95  Camera & Photo  \n",
       "2485378   20.70  Camera & Photo  \n",
       "71541     63.68  Camera & Photo  \n",
       "1000258   48.79  Camera & Photo  \n",
       "\n",
       "[211872 rows x 10 columns]"
      ]
     },
     "execution_count": 5,
     "metadata": {},
     "output_type": "execute_result"
    }
   ],
   "source": [
    "df_review_normalised_subset"
   ]
  },
  {
   "cell_type": "code",
   "execution_count": 6,
   "metadata": {},
   "outputs": [
    {
     "data": {
      "text/html": [
       "<div>\n",
       "<style scoped>\n",
       "    .dataframe tbody tr th:only-of-type {\n",
       "        vertical-align: middle;\n",
       "    }\n",
       "\n",
       "    .dataframe tbody tr th {\n",
       "        vertical-align: top;\n",
       "    }\n",
       "\n",
       "    .dataframe thead th {\n",
       "        text-align: right;\n",
       "    }\n",
       "</style>\n",
       "<table border=\"1\" class=\"dataframe\">\n",
       "  <thead>\n",
       "    <tr style=\"text-align: right;\">\n",
       "      <th></th>\n",
       "      <th>overall</th>\n",
       "      <th>verified</th>\n",
       "      <th>reviewTime</th>\n",
       "      <th>asin</th>\n",
       "      <th>reviewText</th>\n",
       "      <th>vote</th>\n",
       "      <th>image</th>\n",
       "      <th>Year</th>\n",
       "      <th>price</th>\n",
       "      <th>main_cat</th>\n",
       "    </tr>\n",
       "  </thead>\n",
       "  <tbody>\n",
       "    <tr>\n",
       "      <th>738804</th>\n",
       "      <td>5.0</td>\n",
       "      <td>True</td>\n",
       "      <td>2013-04-06</td>\n",
       "      <td>B0056HNTAU</td>\n",
       "      <td>positive review sure add frame upgrade pro fra...</td>\n",
       "      <td>16</td>\n",
       "      <td>False</td>\n",
       "      <td>2013</td>\n",
       "      <td>5.57</td>\n",
       "      <td>Camera &amp; Photo</td>\n",
       "    </tr>\n",
       "    <tr>\n",
       "      <th>386767</th>\n",
       "      <td>5.0</td>\n",
       "      <td>True</td>\n",
       "      <td>2016-08-15</td>\n",
       "      <td>B001FB6PJI</td>\n",
       "      <td>lens perfect real estate photography good opti...</td>\n",
       "      <td>2</td>\n",
       "      <td>False</td>\n",
       "      <td>2016</td>\n",
       "      <td>238.00</td>\n",
       "      <td>Camera &amp; Photo</td>\n",
       "    </tr>\n",
       "    <tr>\n",
       "      <th>62379</th>\n",
       "      <td>5.0</td>\n",
       "      <td>True</td>\n",
       "      <td>2013-07-06</td>\n",
       "      <td>B00007GQLS</td>\n",
       "      <td>love len dead tie usm lens forever believe bel...</td>\n",
       "      <td>5</td>\n",
       "      <td>False</td>\n",
       "      <td>2013</td>\n",
       "      <td>72.83</td>\n",
       "      <td>Camera &amp; Photo</td>\n",
       "    </tr>\n",
       "    <tr>\n",
       "      <th>1030598</th>\n",
       "      <td>5.0</td>\n",
       "      <td>True</td>\n",
       "      <td>2014-06-24</td>\n",
       "      <td>B00AXTQRSC</td>\n",
       "      <td>lot research buy camera look canon camera scou...</td>\n",
       "      <td>3</td>\n",
       "      <td>False</td>\n",
       "      <td>2014</td>\n",
       "      <td>599.99</td>\n",
       "      <td>Camera &amp; Photo</td>\n",
       "    </tr>\n",
       "    <tr>\n",
       "      <th>438194</th>\n",
       "      <td>5.0</td>\n",
       "      <td>True</td>\n",
       "      <td>2010-01-30</td>\n",
       "      <td>B001SER45G</td>\n",
       "      <td>professional photographer want little camera p...</td>\n",
       "      <td>3</td>\n",
       "      <td>False</td>\n",
       "      <td>2010</td>\n",
       "      <td>79.27</td>\n",
       "      <td>Camera &amp; Photo</td>\n",
       "    </tr>\n",
       "    <tr>\n",
       "      <th>...</th>\n",
       "      <td>...</td>\n",
       "      <td>...</td>\n",
       "      <td>...</td>\n",
       "      <td>...</td>\n",
       "      <td>...</td>\n",
       "      <td>...</td>\n",
       "      <td>...</td>\n",
       "      <td>...</td>\n",
       "      <td>...</td>\n",
       "      <td>...</td>\n",
       "    </tr>\n",
       "    <tr>\n",
       "      <th>1023342</th>\n",
       "      <td>1.0</td>\n",
       "      <td>True</td>\n",
       "      <td>2014-03-24</td>\n",
       "      <td>B00ATE7TYC</td>\n",
       "      <td>purchase camera college field trip daughter ne...</td>\n",
       "      <td>2</td>\n",
       "      <td>False</td>\n",
       "      <td>2014</td>\n",
       "      <td>95.00</td>\n",
       "      <td>Camera &amp; Photo</td>\n",
       "    </tr>\n",
       "    <tr>\n",
       "      <th>38311</th>\n",
       "      <td>5.0</td>\n",
       "      <td>False</td>\n",
       "      <td>2002-02-10</td>\n",
       "      <td>B00005QFZF</td>\n",
       "      <td>ok love fall pocket ski lift outperform hand c...</td>\n",
       "      <td>34</td>\n",
       "      <td>False</td>\n",
       "      <td>2002</td>\n",
       "      <td>34.95</td>\n",
       "      <td>Camera &amp; Photo</td>\n",
       "    </tr>\n",
       "    <tr>\n",
       "      <th>2485378</th>\n",
       "      <td>5.0</td>\n",
       "      <td>True</td>\n",
       "      <td>2018-08-14</td>\n",
       "      <td>B01EINBS14</td>\n",
       "      <td>div block section spacing small spacing mini v...</td>\n",
       "      <td>2.0</td>\n",
       "      <td>False</td>\n",
       "      <td>2018</td>\n",
       "      <td>20.70</td>\n",
       "      <td>Camera &amp; Photo</td>\n",
       "    </tr>\n",
       "    <tr>\n",
       "      <th>71541</th>\n",
       "      <td>5.0</td>\n",
       "      <td>True</td>\n",
       "      <td>2006-11-09</td>\n",
       "      <td>B000092M1T</td>\n",
       "      <td>lens camera work great camera shoot sporting e...</td>\n",
       "      <td>7</td>\n",
       "      <td>False</td>\n",
       "      <td>2006</td>\n",
       "      <td>63.68</td>\n",
       "      <td>Camera &amp; Photo</td>\n",
       "    </tr>\n",
       "    <tr>\n",
       "      <th>1000258</th>\n",
       "      <td>5.0</td>\n",
       "      <td>False</td>\n",
       "      <td>2013-09-03</td>\n",
       "      <td>B00A2BVBTG</td>\n",
       "      <td>want contribute review find detailed comment u...</td>\n",
       "      <td>29</td>\n",
       "      <td>False</td>\n",
       "      <td>2013</td>\n",
       "      <td>48.79</td>\n",
       "      <td>Camera &amp; Photo</td>\n",
       "    </tr>\n",
       "  </tbody>\n",
       "</table>\n",
       "<p>143842 rows × 10 columns</p>\n",
       "</div>"
      ],
      "text/plain": [
       "         overall  verified  reviewTime        asin  \\\n",
       "738804       5.0      True  2013-04-06  B0056HNTAU   \n",
       "386767       5.0      True  2016-08-15  B001FB6PJI   \n",
       "62379        5.0      True  2013-07-06  B00007GQLS   \n",
       "1030598      5.0      True  2014-06-24  B00AXTQRSC   \n",
       "438194       5.0      True  2010-01-30  B001SER45G   \n",
       "...          ...       ...         ...         ...   \n",
       "1023342      1.0      True  2014-03-24  B00ATE7TYC   \n",
       "38311        5.0     False  2002-02-10  B00005QFZF   \n",
       "2485378      5.0      True  2018-08-14  B01EINBS14   \n",
       "71541        5.0      True  2006-11-09  B000092M1T   \n",
       "1000258      5.0     False  2013-09-03  B00A2BVBTG   \n",
       "\n",
       "                                                reviewText vote  image  Year  \\\n",
       "738804   positive review sure add frame upgrade pro fra...   16  False  2013   \n",
       "386767   lens perfect real estate photography good opti...    2  False  2016   \n",
       "62379    love len dead tie usm lens forever believe bel...    5  False  2013   \n",
       "1030598  lot research buy camera look canon camera scou...    3  False  2014   \n",
       "438194   professional photographer want little camera p...    3  False  2010   \n",
       "...                                                    ...  ...    ...   ...   \n",
       "1023342  purchase camera college field trip daughter ne...    2  False  2014   \n",
       "38311    ok love fall pocket ski lift outperform hand c...   34  False  2002   \n",
       "2485378  div block section spacing small spacing mini v...  2.0  False  2018   \n",
       "71541    lens camera work great camera shoot sporting e...    7  False  2006   \n",
       "1000258  want contribute review find detailed comment u...   29  False  2013   \n",
       "\n",
       "          price        main_cat  \n",
       "738804     5.57  Camera & Photo  \n",
       "386767   238.00  Camera & Photo  \n",
       "62379     72.83  Camera & Photo  \n",
       "1030598  599.99  Camera & Photo  \n",
       "438194    79.27  Camera & Photo  \n",
       "...         ...             ...  \n",
       "1023342   95.00  Camera & Photo  \n",
       "38311     34.95  Camera & Photo  \n",
       "2485378   20.70  Camera & Photo  \n",
       "71541     63.68  Camera & Photo  \n",
       "1000258   48.79  Camera & Photo  \n",
       "\n",
       "[143842 rows x 10 columns]"
      ]
     },
     "execution_count": 6,
     "metadata": {},
     "output_type": "execute_result"
    }
   ],
   "source": [
    "df_only_one_and_five = df_review_normalised_subset[\n",
    "    (df_review_normalised_subset[\"overall\"] == 1.0)\n",
    "    | (df_review_normalised_subset[\"overall\"] == 5.0)\n",
    "]\n",
    "df_only_one_and_five"
   ]
  },
  {
   "cell_type": "code",
   "execution_count": 7,
   "metadata": {},
   "outputs": [
    {
     "data": {
      "text/plain": [
       "<Axes: title={'center': 'Number of reviews with score 1 or 5'}, xlabel='overall'>"
      ]
     },
     "execution_count": 7,
     "metadata": {},
     "output_type": "execute_result"
    },
    {
     "data": {
      "image/png": "[encoded data removed]",
      "text/plain": [
       "<Figure size 640x480 with 1 Axes>"
      ]
     },
     "metadata": {},
     "output_type": "display_data"
    }
   ],
   "source": [
    "df_only_one_and_five[\"overall\"].value_counts().sort_index().plot.bar(alpha=0.5, title=\"Number of reviews with score 1 or 5\")"
   ]
  },
  {
   "cell_type": "markdown",
   "metadata": {},
   "source": [
    "# Lasso with CountVectorizer"
   ]
  },
  {
   "cell_type": "code",
   "execution_count": 8,
   "metadata": {},
   "outputs": [
    {
     "ename": "KeyboardInterrupt",
     "evalue": "",
     "output_type": "error",
     "traceback": [
      "\u001b[0;31m---------------------------------------------------------------------------\u001b[0m",
      "\u001b[0;31mKeyboardInterrupt\u001b[0m                         Traceback (most recent call last)",
      "Cell \u001b[0;32mIn[8], line 18\u001b[0m\n\u001b[1;32m     10\u001b[0m ml_pipeline \u001b[38;5;241m=\u001b[39m make_pipeline(vectorizer, undersampler, lasso_cv)\n\u001b[1;32m     12\u001b[0m X_train, X_test, y_train, y_test \u001b[38;5;241m=\u001b[39m train_test_split(\n\u001b[1;32m     13\u001b[0m     df_only_one_and_five[\u001b[38;5;124m\"\u001b[39m\u001b[38;5;124mreviewText\u001b[39m\u001b[38;5;124m\"\u001b[39m],\n\u001b[1;32m     14\u001b[0m     df_only_one_and_five[\u001b[38;5;124m\"\u001b[39m\u001b[38;5;124moverall\u001b[39m\u001b[38;5;124m\"\u001b[39m],\n\u001b[1;32m     15\u001b[0m     test_size\u001b[38;5;241m=\u001b[39m\u001b[38;5;241m0.25\u001b[39m,\n\u001b[1;32m     16\u001b[0m     random_state\u001b[38;5;241m=\u001b[39mSEED,\n\u001b[1;32m     17\u001b[0m )\n\u001b[0;32m---> 18\u001b[0m \u001b[43mml_pipeline\u001b[49m\u001b[38;5;241;43m.\u001b[39;49m\u001b[43mfit\u001b[49m\u001b[43m(\u001b[49m\u001b[43mX_train\u001b[49m\u001b[43m,\u001b[49m\u001b[43m \u001b[49m\u001b[43my_train\u001b[49m\u001b[43m)\u001b[49m\n\u001b[1;32m     19\u001b[0m vectorizer_step \u001b[38;5;241m=\u001b[39m ml_pipeline\u001b[38;5;241m.\u001b[39mnamed_steps[\u001b[38;5;124m\"\u001b[39m\u001b[38;5;124mcountvectorizer\u001b[39m\u001b[38;5;124m\"\u001b[39m]\n\u001b[1;32m     21\u001b[0m X_train_dfm \u001b[38;5;241m=\u001b[39m vectorizer_step\u001b[38;5;241m.\u001b[39mtransform(X_train)\n",
      "File \u001b[0;32m~/Desktop/Mike/Imperial/Courses/2 Text Mining for Economics and Finance/project/Amazon-Review-TMEF-Project/text-mining/lib/python3.11/site-packages/sklearn/base.py:1474\u001b[0m, in \u001b[0;36m_fit_context.<locals>.decorator.<locals>.wrapper\u001b[0;34m(estimator, *args, **kwargs)\u001b[0m\n\u001b[1;32m   1467\u001b[0m     estimator\u001b[38;5;241m.\u001b[39m_validate_params()\n\u001b[1;32m   1469\u001b[0m \u001b[38;5;28;01mwith\u001b[39;00m config_context(\n\u001b[1;32m   1470\u001b[0m     skip_parameter_validation\u001b[38;5;241m=\u001b[39m(\n\u001b[1;32m   1471\u001b[0m         prefer_skip_nested_validation \u001b[38;5;129;01mor\u001b[39;00m global_skip_validation\n\u001b[1;32m   1472\u001b[0m     )\n\u001b[1;32m   1473\u001b[0m ):\n\u001b[0;32m-> 1474\u001b[0m     \u001b[38;5;28;01mreturn\u001b[39;00m \u001b[43mfit_method\u001b[49m\u001b[43m(\u001b[49m\u001b[43mestimator\u001b[49m\u001b[43m,\u001b[49m\u001b[43m \u001b[49m\u001b[38;5;241;43m*\u001b[39;49m\u001b[43margs\u001b[49m\u001b[43m,\u001b[49m\u001b[43m \u001b[49m\u001b[38;5;241;43m*\u001b[39;49m\u001b[38;5;241;43m*\u001b[39;49m\u001b[43mkwargs\u001b[49m\u001b[43m)\u001b[49m\n",
      "File \u001b[0;32m~/Desktop/Mike/Imperial/Courses/2 Text Mining for Economics and Finance/project/Amazon-Review-TMEF-Project/text-mining/lib/python3.11/site-packages/imblearn/pipeline.py:326\u001b[0m, in \u001b[0;36mPipeline.fit\u001b[0;34m(self, X, y, **params)\u001b[0m\n\u001b[1;32m    324\u001b[0m     \u001b[38;5;28;01mif\u001b[39;00m \u001b[38;5;28mself\u001b[39m\u001b[38;5;241m.\u001b[39m_final_estimator \u001b[38;5;241m!=\u001b[39m \u001b[38;5;124m\"\u001b[39m\u001b[38;5;124mpassthrough\u001b[39m\u001b[38;5;124m\"\u001b[39m:\n\u001b[1;32m    325\u001b[0m         last_step_params \u001b[38;5;241m=\u001b[39m routed_params[\u001b[38;5;28mself\u001b[39m\u001b[38;5;241m.\u001b[39msteps[\u001b[38;5;241m-\u001b[39m\u001b[38;5;241m1\u001b[39m][\u001b[38;5;241m0\u001b[39m]]\n\u001b[0;32m--> 326\u001b[0m         \u001b[38;5;28;43mself\u001b[39;49m\u001b[38;5;241;43m.\u001b[39;49m\u001b[43m_final_estimator\u001b[49m\u001b[38;5;241;43m.\u001b[39;49m\u001b[43mfit\u001b[49m\u001b[43m(\u001b[49m\u001b[43mXt\u001b[49m\u001b[43m,\u001b[49m\u001b[43m \u001b[49m\u001b[43myt\u001b[49m\u001b[43m,\u001b[49m\u001b[43m \u001b[49m\u001b[38;5;241;43m*\u001b[39;49m\u001b[38;5;241;43m*\u001b[39;49m\u001b[43mlast_step_params\u001b[49m\u001b[43m[\u001b[49m\u001b[38;5;124;43m\"\u001b[39;49m\u001b[38;5;124;43mfit\u001b[39;49m\u001b[38;5;124;43m\"\u001b[39;49m\u001b[43m]\u001b[49m\u001b[43m)\u001b[49m\n\u001b[1;32m    327\u001b[0m \u001b[38;5;28;01mreturn\u001b[39;00m \u001b[38;5;28mself\u001b[39m\n",
      "File \u001b[0;32m~/Desktop/Mike/Imperial/Courses/2 Text Mining for Economics and Finance/project/Amazon-Review-TMEF-Project/text-mining/lib/python3.11/site-packages/sklearn/base.py:1474\u001b[0m, in \u001b[0;36m_fit_context.<locals>.decorator.<locals>.wrapper\u001b[0;34m(estimator, *args, **kwargs)\u001b[0m\n\u001b[1;32m   1467\u001b[0m     estimator\u001b[38;5;241m.\u001b[39m_validate_params()\n\u001b[1;32m   1469\u001b[0m \u001b[38;5;28;01mwith\u001b[39;00m config_context(\n\u001b[1;32m   1470\u001b[0m     skip_parameter_validation\u001b[38;5;241m=\u001b[39m(\n\u001b[1;32m   1471\u001b[0m         prefer_skip_nested_validation \u001b[38;5;129;01mor\u001b[39;00m global_skip_validation\n\u001b[1;32m   1472\u001b[0m     )\n\u001b[1;32m   1473\u001b[0m ):\n\u001b[0;32m-> 1474\u001b[0m     \u001b[38;5;28;01mreturn\u001b[39;00m \u001b[43mfit_method\u001b[49m\u001b[43m(\u001b[49m\u001b[43mestimator\u001b[49m\u001b[43m,\u001b[49m\u001b[43m \u001b[49m\u001b[38;5;241;43m*\u001b[39;49m\u001b[43margs\u001b[49m\u001b[43m,\u001b[49m\u001b[43m \u001b[49m\u001b[38;5;241;43m*\u001b[39;49m\u001b[38;5;241;43m*\u001b[39;49m\u001b[43mkwargs\u001b[49m\u001b[43m)\u001b[49m\n",
      "File \u001b[0;32m~/Desktop/Mike/Imperial/Courses/2 Text Mining for Economics and Finance/project/Amazon-Review-TMEF-Project/text-mining/lib/python3.11/site-packages/sklearn/linear_model/_coordinate_descent.py:1751\u001b[0m, in \u001b[0;36mLinearModelCV.fit\u001b[0;34m(self, X, y, sample_weight, **params)\u001b[0m\n\u001b[1;32m   1731\u001b[0m \u001b[38;5;66;03m# We do a double for loop folded in one, in order to be able to\u001b[39;00m\n\u001b[1;32m   1732\u001b[0m \u001b[38;5;66;03m# iterate in parallel on l1_ratio and folds\u001b[39;00m\n\u001b[1;32m   1733\u001b[0m jobs \u001b[38;5;241m=\u001b[39m (\n\u001b[1;32m   1734\u001b[0m     delayed(_path_residuals)(\n\u001b[1;32m   1735\u001b[0m         X,\n\u001b[0;32m   (...)\u001b[0m\n\u001b[1;32m   1749\u001b[0m     \u001b[38;5;28;01mfor\u001b[39;00m train, test \u001b[38;5;129;01min\u001b[39;00m folds\n\u001b[1;32m   1750\u001b[0m )\n\u001b[0;32m-> 1751\u001b[0m mse_paths \u001b[38;5;241m=\u001b[39m \u001b[43mParallel\u001b[49m\u001b[43m(\u001b[49m\n\u001b[1;32m   1752\u001b[0m \u001b[43m    \u001b[49m\u001b[43mn_jobs\u001b[49m\u001b[38;5;241;43m=\u001b[39;49m\u001b[38;5;28;43mself\u001b[39;49m\u001b[38;5;241;43m.\u001b[39;49m\u001b[43mn_jobs\u001b[49m\u001b[43m,\u001b[49m\n\u001b[1;32m   1753\u001b[0m \u001b[43m    \u001b[49m\u001b[43mverbose\u001b[49m\u001b[38;5;241;43m=\u001b[39;49m\u001b[38;5;28;43mself\u001b[39;49m\u001b[38;5;241;43m.\u001b[39;49m\u001b[43mverbose\u001b[49m\u001b[43m,\u001b[49m\n\u001b[1;32m   1754\u001b[0m \u001b[43m    \u001b[49m\u001b[43mprefer\u001b[49m\u001b[38;5;241;43m=\u001b[39;49m\u001b[38;5;124;43m\"\u001b[39;49m\u001b[38;5;124;43mthreads\u001b[39;49m\u001b[38;5;124;43m\"\u001b[39;49m\u001b[43m,\u001b[49m\n\u001b[1;32m   1755\u001b[0m \u001b[43m\u001b[49m\u001b[43m)\u001b[49m\u001b[43m(\u001b[49m\u001b[43mjobs\u001b[49m\u001b[43m)\u001b[49m\n\u001b[1;32m   1756\u001b[0m mse_paths \u001b[38;5;241m=\u001b[39m np\u001b[38;5;241m.\u001b[39mreshape(mse_paths, (n_l1_ratio, \u001b[38;5;28mlen\u001b[39m(folds), \u001b[38;5;241m-\u001b[39m\u001b[38;5;241m1\u001b[39m))\n\u001b[1;32m   1757\u001b[0m \u001b[38;5;66;03m# The mean is computed over folds.\u001b[39;00m\n",
      "File \u001b[0;32m~/Desktop/Mike/Imperial/Courses/2 Text Mining for Economics and Finance/project/Amazon-Review-TMEF-Project/text-mining/lib/python3.11/site-packages/sklearn/utils/parallel.py:67\u001b[0m, in \u001b[0;36mParallel.__call__\u001b[0;34m(self, iterable)\u001b[0m\n\u001b[1;32m     62\u001b[0m config \u001b[38;5;241m=\u001b[39m get_config()\n\u001b[1;32m     63\u001b[0m iterable_with_config \u001b[38;5;241m=\u001b[39m (\n\u001b[1;32m     64\u001b[0m     (_with_config(delayed_func, config), args, kwargs)\n\u001b[1;32m     65\u001b[0m     \u001b[38;5;28;01mfor\u001b[39;00m delayed_func, args, kwargs \u001b[38;5;129;01min\u001b[39;00m iterable\n\u001b[1;32m     66\u001b[0m )\n\u001b[0;32m---> 67\u001b[0m \u001b[38;5;28;01mreturn\u001b[39;00m \u001b[38;5;28;43msuper\u001b[39;49m\u001b[43m(\u001b[49m\u001b[43m)\u001b[49m\u001b[38;5;241;43m.\u001b[39;49m\u001b[38;5;21;43m__call__\u001b[39;49m\u001b[43m(\u001b[49m\u001b[43miterable_with_config\u001b[49m\u001b[43m)\u001b[49m\n",
      "File \u001b[0;32m~/Desktop/Mike/Imperial/Courses/2 Text Mining for Economics and Finance/project/Amazon-Review-TMEF-Project/text-mining/lib/python3.11/site-packages/joblib/parallel.py:1952\u001b[0m, in \u001b[0;36mParallel.__call__\u001b[0;34m(self, iterable)\u001b[0m\n\u001b[1;32m   1946\u001b[0m \u001b[38;5;66;03m# The first item from the output is blank, but it makes the interpreter\u001b[39;00m\n\u001b[1;32m   1947\u001b[0m \u001b[38;5;66;03m# progress until it enters the Try/Except block of the generator and\u001b[39;00m\n\u001b[1;32m   1948\u001b[0m \u001b[38;5;66;03m# reach the first `yield` statement. This starts the aynchronous\u001b[39;00m\n\u001b[1;32m   1949\u001b[0m \u001b[38;5;66;03m# dispatch of the tasks to the workers.\u001b[39;00m\n\u001b[1;32m   1950\u001b[0m \u001b[38;5;28mnext\u001b[39m(output)\n\u001b[0;32m-> 1952\u001b[0m \u001b[38;5;28;01mreturn\u001b[39;00m output \u001b[38;5;28;01mif\u001b[39;00m \u001b[38;5;28mself\u001b[39m\u001b[38;5;241m.\u001b[39mreturn_generator \u001b[38;5;28;01melse\u001b[39;00m \u001b[38;5;28;43mlist\u001b[39;49m\u001b[43m(\u001b[49m\u001b[43moutput\u001b[49m\u001b[43m)\u001b[49m\n",
      "File \u001b[0;32m~/Desktop/Mike/Imperial/Courses/2 Text Mining for Economics and Finance/project/Amazon-Review-TMEF-Project/text-mining/lib/python3.11/site-packages/joblib/parallel.py:1595\u001b[0m, in \u001b[0;36mParallel._get_outputs\u001b[0;34m(self, iterator, pre_dispatch)\u001b[0m\n\u001b[1;32m   1592\u001b[0m     \u001b[38;5;28;01myield\u001b[39;00m\n\u001b[1;32m   1594\u001b[0m     \u001b[38;5;28;01mwith\u001b[39;00m \u001b[38;5;28mself\u001b[39m\u001b[38;5;241m.\u001b[39m_backend\u001b[38;5;241m.\u001b[39mretrieval_context():\n\u001b[0;32m-> 1595\u001b[0m         \u001b[38;5;28;01myield from\u001b[39;00m \u001b[38;5;28mself\u001b[39m\u001b[38;5;241m.\u001b[39m_retrieve()\n\u001b[1;32m   1597\u001b[0m \u001b[38;5;28;01mexcept\u001b[39;00m \u001b[38;5;167;01mGeneratorExit\u001b[39;00m:\n\u001b[1;32m   1598\u001b[0m     \u001b[38;5;66;03m# The generator has been garbage collected before being fully\u001b[39;00m\n\u001b[1;32m   1599\u001b[0m     \u001b[38;5;66;03m# consumed. This aborts the remaining tasks if possible and warn\u001b[39;00m\n\u001b[1;32m   1600\u001b[0m     \u001b[38;5;66;03m# the user if necessary.\u001b[39;00m\n\u001b[1;32m   1601\u001b[0m     \u001b[38;5;28mself\u001b[39m\u001b[38;5;241m.\u001b[39m_exception \u001b[38;5;241m=\u001b[39m \u001b[38;5;28;01mTrue\u001b[39;00m\n",
      "File \u001b[0;32m~/Desktop/Mike/Imperial/Courses/2 Text Mining for Economics and Finance/project/Amazon-Review-TMEF-Project/text-mining/lib/python3.11/site-packages/joblib/parallel.py:1707\u001b[0m, in \u001b[0;36mParallel._retrieve\u001b[0;34m(self)\u001b[0m\n\u001b[1;32m   1702\u001b[0m \u001b[38;5;66;03m# If the next job is not ready for retrieval yet, we just wait for\u001b[39;00m\n\u001b[1;32m   1703\u001b[0m \u001b[38;5;66;03m# async callbacks to progress.\u001b[39;00m\n\u001b[1;32m   1704\u001b[0m \u001b[38;5;28;01mif\u001b[39;00m ((\u001b[38;5;28mlen\u001b[39m(\u001b[38;5;28mself\u001b[39m\u001b[38;5;241m.\u001b[39m_jobs) \u001b[38;5;241m==\u001b[39m \u001b[38;5;241m0\u001b[39m) \u001b[38;5;129;01mor\u001b[39;00m\n\u001b[1;32m   1705\u001b[0m     (\u001b[38;5;28mself\u001b[39m\u001b[38;5;241m.\u001b[39m_jobs[\u001b[38;5;241m0\u001b[39m]\u001b[38;5;241m.\u001b[39mget_status(\n\u001b[1;32m   1706\u001b[0m         timeout\u001b[38;5;241m=\u001b[39m\u001b[38;5;28mself\u001b[39m\u001b[38;5;241m.\u001b[39mtimeout) \u001b[38;5;241m==\u001b[39m TASK_PENDING)):\n\u001b[0;32m-> 1707\u001b[0m     time\u001b[38;5;241m.\u001b[39msleep(\u001b[38;5;241m0.01\u001b[39m)\n\u001b[1;32m   1708\u001b[0m     \u001b[38;5;28;01mcontinue\u001b[39;00m\n\u001b[1;32m   1710\u001b[0m \u001b[38;5;66;03m# We need to be careful: the job list can be filling up as\u001b[39;00m\n\u001b[1;32m   1711\u001b[0m \u001b[38;5;66;03m# we empty it and Python list are not thread-safe by\u001b[39;00m\n\u001b[1;32m   1712\u001b[0m \u001b[38;5;66;03m# default hence the use of the lock\u001b[39;00m\n",
      "\u001b[0;31mKeyboardInterrupt\u001b[0m: "
     ]
    }
   ],
   "source": [
    "# Lasso CV\n",
    "vectorizer = CountVectorizer(min_df=1)\n",
    "undersampler = RandomUnderSampler()\n",
    "lasso_cv = LassoCV(\n",
    "    cv=5,\n",
    "    random_state=SEED,\n",
    "    alphas=[0.001, 0.01, 0.1, 1, 10, 100],\n",
    "    n_jobs=-1,\n",
    ")\n",
    "ml_pipeline = make_pipeline(vectorizer, undersampler, lasso_cv)\n",
    "\n",
    "X_train, X_test, y_train, y_test = train_test_split(\n",
    "    df_only_one_and_five[\"reviewText\"],\n",
    "    df_only_one_and_five[\"overall\"],\n",
    "    test_size=0.25,\n",
    "    random_state=SEED,\n",
    ")\n",
    "ml_pipeline.fit(X_train, y_train)\n",
    "vectorizer_step = ml_pipeline.named_steps[\"countvectorizer\"]\n",
    "\n",
    "X_train_dfm = vectorizer_step.transform(X_train)\n",
    "X_train_dense = X_train_dfm.todense()\n",
    "feature_names = vectorizer_step.get_feature_names_out()\n",
    "X_train_dfm_df = pd.DataFrame(X_train_dense, columns=feature_names)\n",
    "\n",
    "y_pred = ml_pipeline.predict(X_test)\n",
    "mse = mean_squared_error(y_test, y_pred)\n",
    "print(f\"Mean Squared Error: {mse}\")\n",
    "best_alpha = ml_pipeline.named_steps[\"lassocv\"].alpha_\n",
    "print(f\"Best alpha: {best_alpha}\")"
   ]
  },
  {
   "cell_type": "code",
   "execution_count": null,
   "metadata": {},
   "outputs": [
    {
     "data": {
      "text/plain": [
       "<Axes: title={'center': 'Out of sample rating distribution'}, xlabel='overall'>"
      ]
     },
     "execution_count": 12,
     "metadata": {},
     "output_type": "execute_result"
    },
    {
     "data": {
      "image/png": "[encoded data removed]",
      "text/plain": [
       "<Figure size 640x480 with 1 Axes>"
      ]
     },
     "metadata": {},
     "output_type": "display_data"
    }
   ],
   "source": [
    "OOS[\"overall\"].value_counts().plot.bar(alpha=0.5, title=\"Out of sample rating distribution\")"
   ]
  },
  {
   "cell_type": "code",
   "execution_count": null,
   "metadata": {},
   "outputs": [
    {
     "data": {
      "text/html": [
       "<div>\n",
       "<style scoped>\n",
       "    .dataframe tbody tr th:only-of-type {\n",
       "        vertical-align: middle;\n",
       "    }\n",
       "\n",
       "    .dataframe tbody tr th {\n",
       "        vertical-align: top;\n",
       "    }\n",
       "\n",
       "    .dataframe thead th {\n",
       "        text-align: right;\n",
       "    }\n",
       "</style>\n",
       "<table border=\"1\" class=\"dataframe\">\n",
       "  <thead>\n",
       "    <tr style=\"text-align: right;\">\n",
       "      <th></th>\n",
       "      <th>Score</th>\n",
       "      <th>Mean</th>\n",
       "      <th>Std</th>\n",
       "    </tr>\n",
       "  </thead>\n",
       "  <tbody>\n",
       "    <tr>\n",
       "      <th>0</th>\n",
       "      <td>1</td>\n",
       "      <td>2.045556</td>\n",
       "      <td>0.950748</td>\n",
       "    </tr>\n",
       "    <tr>\n",
       "      <th>1</th>\n",
       "      <td>2</td>\n",
       "      <td>2.371530</td>\n",
       "      <td>0.941886</td>\n",
       "    </tr>\n",
       "    <tr>\n",
       "      <th>2</th>\n",
       "      <td>3</td>\n",
       "      <td>2.893670</td>\n",
       "      <td>0.950336</td>\n",
       "    </tr>\n",
       "    <tr>\n",
       "      <th>3</th>\n",
       "      <td>4</td>\n",
       "      <td>3.633759</td>\n",
       "      <td>1.065282</td>\n",
       "    </tr>\n",
       "    <tr>\n",
       "      <th>4</th>\n",
       "      <td>5</td>\n",
       "      <td>3.948595</td>\n",
       "      <td>1.061044</td>\n",
       "    </tr>\n",
       "  </tbody>\n",
       "</table>\n",
       "</div>"
      ],
      "text/plain": [
       "   Score      Mean       Std\n",
       "0      1  2.045556  0.950748\n",
       "1      2  2.371530  0.941886\n",
       "2      3  2.893670  0.950336\n",
       "3      4  3.633759  1.065282\n",
       "4      5  3.948595  1.061044"
      ]
     },
     "execution_count": 13,
     "metadata": {},
     "output_type": "execute_result"
    }
   ],
   "source": [
    "results = []\n",
    "for i in range(1, 6):\n",
    "    df_given_score = OOS[(OOS[\"overall\"] == float(i))]\n",
    "    y_pred: np.ndarray = ml_pipeline.predict(df_given_score[\"reviewText\"])\n",
    "    results.append([i, y_pred.mean(), y_pred.std()])\n",
    "results = pd.DataFrame(results, columns=[\"Score\", \"Mean\", \"Std\"])\n",
    "results"
   ]
  },
  {
   "cell_type": "code",
   "execution_count": null,
   "metadata": {},
   "outputs": [],
   "source": [
    "results.to_csv(\"lasso-result.csv\")"
   ]
  },
  {
   "cell_type": "code",
   "execution_count": null,
   "metadata": {},
   "outputs": [],
   "source": [
    "results = pd.read_csv(\"lasso-result.csv\")"
   ]
  },
  {
   "cell_type": "code",
   "execution_count": null,
   "metadata": {},
   "outputs": [
    {
     "data": {
      "image/png": "[encoded data removed]",
      "text/plain": [
       "<Figure size 640x480 with 1 Axes>"
      ]
     },
     "metadata": {},
     "output_type": "display_data"
    }
   ],
   "source": [
    "plt.title('The mean and std predicted values of the different reviewer (grouped by their actual score)')\n",
    "plt.bar(\n",
    "    list(range(1, 6)),\n",
    "    results[\"Mean\"],\n",
    "    yerr=results[\"Std\"],\n",
    "    align=\"center\",\n",
    "    alpha=0.5,\n",
    "    ecolor=\"black\",\n",
    "    capsize=10,\n",
    ")\n",
    "plt.show()"
   ]
  },
  {
   "cell_type": "code",
   "execution_count": null,
   "metadata": {},
   "outputs": [
    {
     "data": {
      "image/png": "[encoded data removed]",
      "text/plain": [
       "<Figure size 640x480 with 1 Axes>"
      ]
     },
     "metadata": {},
     "output_type": "display_data"
    }
   ],
   "source": [
    "plt.title('The std predicted values of the different reviewer (grouped by their actual score)')\n",
    "plt.bar(\n",
    "    list(range(1, 6)),\n",
    "    results[\"Std\"],\n",
    "    align=\"center\",\n",
    "    alpha=0.5,\n",
    ")\n",
    "plt.show()"
   ]
  },
  {
   "cell_type": "markdown",
   "metadata": {},
   "source": [
    "# Vader Sentiment"
   ]
  },
  {
   "cell_type": "code",
   "execution_count": null,
   "metadata": {},
   "outputs": [],
   "source": [
    "analyser = SentimentIntensityAnalyzer()"
   ]
  },
  {
   "cell_type": "code",
   "execution_count": null,
   "metadata": {},
   "outputs": [
    {
     "data": {
      "text/html": [
       "<div>\n",
       "<style scoped>\n",
       "    .dataframe tbody tr th:only-of-type {\n",
       "        vertical-align: middle;\n",
       "    }\n",
       "\n",
       "    .dataframe tbody tr th {\n",
       "        vertical-align: top;\n",
       "    }\n",
       "\n",
       "    .dataframe thead th {\n",
       "        text-align: right;\n",
       "    }\n",
       "</style>\n",
       "<table border=\"1\" class=\"dataframe\">\n",
       "  <thead>\n",
       "    <tr style=\"text-align: right;\">\n",
       "      <th></th>\n",
       "      <th>Score</th>\n",
       "      <th>review</th>\n",
       "      <th>polarity</th>\n",
       "    </tr>\n",
       "  </thead>\n",
       "  <tbody>\n",
       "    <tr>\n",
       "      <th>0</th>\n",
       "      <td>1</td>\n",
       "      <td>purchase daughter trip arrival fully charge ba...</td>\n",
       "      <td>-0.5994</td>\n",
       "    </tr>\n",
       "    <tr>\n",
       "      <th>1</th>\n",
       "      <td>1</td>\n",
       "      <td>camera great take photo good iq review purchas...</td>\n",
       "      <td>0.9552</td>\n",
       "    </tr>\n",
       "    <tr>\n",
       "      <th>2</th>\n",
       "      <td>1</td>\n",
       "      <td>buy possible portable spot scope impossible ho...</td>\n",
       "      <td>0.1531</td>\n",
       "    </tr>\n",
       "    <tr>\n",
       "      <th>3</th>\n",
       "      <td>1</td>\n",
       "      <td>camera work superior quality problem fix twice...</td>\n",
       "      <td>0.5106</td>\n",
       "    </tr>\n",
       "    <tr>\n",
       "      <th>4</th>\n",
       "      <td>1</td>\n",
       "      <td>terrible think acceptable</td>\n",
       "      <td>-0.2023</td>\n",
       "    </tr>\n",
       "    <tr>\n",
       "      <th>...</th>\n",
       "      <td>...</td>\n",
       "      <td>...</td>\n",
       "      <td>...</td>\n",
       "    </tr>\n",
       "    <tr>\n",
       "      <th>211867</th>\n",
       "      <td>5</td>\n",
       "      <td>lightweight comfortable nice snap feature down...</td>\n",
       "      <td>0.8481</td>\n",
       "    </tr>\n",
       "    <tr>\n",
       "      <th>211868</th>\n",
       "      <td>5</td>\n",
       "      <td>good product layer security like customization...</td>\n",
       "      <td>0.8625</td>\n",
       "    </tr>\n",
       "    <tr>\n",
       "      <th>211869</th>\n",
       "      <td>5</td>\n",
       "      <td>problem resolve quickly impressed fast issue f...</td>\n",
       "      <td>0.6705</td>\n",
       "    </tr>\n",
       "    <tr>\n",
       "      <th>211870</th>\n",
       "      <td>5</td>\n",
       "      <td>video backdrop picture help quality business alot</td>\n",
       "      <td>0.4019</td>\n",
       "    </tr>\n",
       "    <tr>\n",
       "      <th>211871</th>\n",
       "      <td>5</td>\n",
       "      <td>ok port hdmi port bright simple job robust lit...</td>\n",
       "      <td>0.7579</td>\n",
       "    </tr>\n",
       "  </tbody>\n",
       "</table>\n",
       "<p>211872 rows × 3 columns</p>\n",
       "</div>"
      ],
      "text/plain": [
       "        Score                                             review  polarity\n",
       "0           1  purchase daughter trip arrival fully charge ba...   -0.5994\n",
       "1           1  camera great take photo good iq review purchas...    0.9552\n",
       "2           1  buy possible portable spot scope impossible ho...    0.1531\n",
       "3           1  camera work superior quality problem fix twice...    0.5106\n",
       "4           1                          terrible think acceptable   -0.2023\n",
       "...       ...                                                ...       ...\n",
       "211867      5  lightweight comfortable nice snap feature down...    0.8481\n",
       "211868      5  good product layer security like customization...    0.8625\n",
       "211869      5  problem resolve quickly impressed fast issue f...    0.6705\n",
       "211870      5  video backdrop picture help quality business alot    0.4019\n",
       "211871      5  ok port hdmi port bright simple job robust lit...    0.7579\n",
       "\n",
       "[211872 rows x 3 columns]"
      ]
     },
     "execution_count": 24,
     "metadata": {},
     "output_type": "execute_result"
    }
   ],
   "source": [
    "results = []\n",
    "for i in range(1, 6):\n",
    "    reviewText_given_score = IS[(IS[\"overall\"] == float(i))][\"reviewText\"].tolist()\n",
    "    for review in reviewText_given_score:\n",
    "        results.append([i, review, analyser.polarity_scores(review)[\"compound\"]])\n",
    "results = pd.DataFrame(results, columns=[\"Score\", \"review\", \"polarity\"])\n",
    "results"
   ]
  },
  {
   "cell_type": "code",
   "execution_count": null,
   "metadata": {},
   "outputs": [],
   "source": [
    "results.to_csv(\"vader-result.csv\")"
   ]
  },
  {
   "cell_type": "code",
   "execution_count": 39,
   "metadata": {},
   "outputs": [],
   "source": [
    "results = pd.read_csv(\"vader-result.csv\", index_col=0)"
   ]
  },
  {
   "cell_type": "code",
   "execution_count": 43,
   "metadata": {},
   "outputs": [
    {
     "data": {
      "text/plain": [
       "'shooter lense use shoot test canon mkiii result test lens len high iso lot detail work save high percentage shot detail canon clean initially picture fit monitor plasma tv look tad clean noise noticeable think look clean small picture display shot monitor tv look nice general camera look awful recoverable look acceptable small pic heck buy expensive camera display small crappy look picture frames easy winner canon shoot practice think pretty good camera olympic style sport camera resolution easy winner file detailed like explain picture look real crop photo size look stunning wonder well version wait friend receive find jpeg easy winner camera canon jpeg phenomenal processing remarkable raw easy winner shoot issue canon color red think color overblown time detail loss recoverable happen twice photo keep detail autofocus canon awesomely quick autofocus determine difference caveat focus well lowlight autofocus assist lamp focus light autofocus assist lamp heck canon include autofocus assist lamp face detection extremely useful focus right eyeball easy winner canon build flash flash work surprisingly dynamic range easy winner knock park get lot blow highlight shot white clothing realistic blue skys lot headroom highlight shadow edit well shadow highlight share technology video suprisingly think lead video maintain surprisingly video awesome canon video bit detail definitely little sharp canon test uncompressed hdmi useful feature like raw hdmi output video canon adopt uncompressed hdmi price easy winner canon lense buy canon need think twice sell well canon comfort weight feel nice hand canon possibly slightly comfortable big hand nikon maybe comfortable small hand fine usb transfer win skip card reader altogether plug camera computer convenient transfer speed fast old usb save lot time canon slightly well screen direct sunlight face sun well directly face sun screen crisper like weatherproofing shooting light mist drizzle shoot camera canon mkiii develop fogging inside viewfinder screen wipe away inside camera long picture normally live view problem continue shoot rest wet condition issue plan shoot camera definitely bummer lense lense great canon tad fast focus slightly sharp corner canon comparable lens assortment wallet will happy buy new lense camera keep return possibly water damage canon mkiii phenomenal camera definitely outclass mkiii round maybe come strong version definitely catch thank read review post review page good luck photog enjoy phenomenal camera'"
      ]
     },
     "execution_count": 43,
     "metadata": {},
     "output_type": "execute_result"
    }
   ],
   "source": [
    "results[results[\"Score\"] == 1].sort_values(\"polarity\", ascending=False).iloc[0][\"review\"]"
   ]
  },
  {
   "cell_type": "code",
   "execution_count": 44,
   "metadata": {},
   "outputs": [
    {
     "data": {
      "text/plain": [
       "'advertise cover send fine print exclude coverage thing improper packaging transportation representative result damage product transit include improperly secure product transportation accident cover action cams transit neglect accident cause negligent conduct cover cause control battery failure leakage inadequate plumbing environmental condition exposure weather condition external peril nature include limit fire flood smoke sand dirt lightning humidity storm wind hail earthquake accident cause negligent conduct cover collision collapse explosion object accident excluded liquid screen breakage evidence sale receipt dropping accident exclude adh plan describe accidental protection plan adh plan modifications adjustment alteration manipulation repair service technician authorize manufacturer service center authorized noise squeak camcorder exception exception adh plan plan repair damage result drop liquid connection screen breakage provide repair damage sudden unforeseen accident sudden unforeseen buy way description give opportunity acquaint exclusion send document decide agree term let refund money'"
      ]
     },
     "execution_count": 44,
     "metadata": {},
     "output_type": "execute_result"
    }
   ],
   "source": [
    "results[results[\"Score\"] == 1].sort_values(\"polarity\", ascending=True).iloc[0][\"review\"]"
   ]
  },
  {
   "cell_type": "code",
   "execution_count": 10,
   "metadata": {},
   "outputs": [
    {
     "data": {
      "text/html": [
       "<div>\n",
       "<style scoped>\n",
       "    .dataframe tbody tr th:only-of-type {\n",
       "        vertical-align: middle;\n",
       "    }\n",
       "\n",
       "    .dataframe tbody tr th {\n",
       "        vertical-align: top;\n",
       "    }\n",
       "\n",
       "    .dataframe thead th {\n",
       "        text-align: right;\n",
       "    }\n",
       "</style>\n",
       "<table border=\"1\" class=\"dataframe\">\n",
       "  <thead>\n",
       "    <tr style=\"text-align: right;\">\n",
       "      <th></th>\n",
       "      <th>Score</th>\n",
       "      <th>polarity mean</th>\n",
       "      <th>polarity std</th>\n",
       "    </tr>\n",
       "  </thead>\n",
       "  <tbody>\n",
       "    <tr>\n",
       "      <th>0</th>\n",
       "      <td>1</td>\n",
       "      <td>0.066097</td>\n",
       "      <td>0.592353</td>\n",
       "    </tr>\n",
       "    <tr>\n",
       "      <th>1</th>\n",
       "      <td>2</td>\n",
       "      <td>0.324125</td>\n",
       "      <td>0.580421</td>\n",
       "    </tr>\n",
       "    <tr>\n",
       "      <th>2</th>\n",
       "      <td>3</td>\n",
       "      <td>0.516455</td>\n",
       "      <td>0.510162</td>\n",
       "    </tr>\n",
       "    <tr>\n",
       "      <th>3</th>\n",
       "      <td>4</td>\n",
       "      <td>0.713073</td>\n",
       "      <td>0.388313</td>\n",
       "    </tr>\n",
       "    <tr>\n",
       "      <th>4</th>\n",
       "      <td>5</td>\n",
       "      <td>0.762948</td>\n",
       "      <td>0.327301</td>\n",
       "    </tr>\n",
       "  </tbody>\n",
       "</table>\n",
       "</div>"
      ],
      "text/plain": [
       "   Score  polarity mean  polarity std\n",
       "0      1       0.066097      0.592353\n",
       "1      2       0.324125      0.580421\n",
       "2      3       0.516455      0.510162\n",
       "3      4       0.713073      0.388313\n",
       "4      5       0.762948      0.327301"
      ]
     },
     "execution_count": 10,
     "metadata": {},
     "output_type": "execute_result"
    }
   ],
   "source": [
    "aggregated = (\n",
    "    results.groupby(['Score'])[\"polarity\"].agg([('polarity mean', 'mean'), ('polarity std', 'std')])\n",
    "    .reset_index()                                          # make groupers into columns\n",
    ")\n",
    "aggregated"
   ]
  },
  {
   "cell_type": "code",
   "execution_count": 49,
   "metadata": {},
   "outputs": [
    {
     "data": {
      "image/png": "[encoded data removed]",
      "text/plain": [
       "<Figure size 600x800 with 1 Axes>"
      ]
     },
     "metadata": {},
     "output_type": "display_data"
    }
   ],
   "source": [
    "plt.figure(figsize=(6, 8))\n",
    "plt.bar(\n",
    "    list(range(1, 6)),\n",
    "    aggregated[\"polarity mean\"],\n",
    "    yerr=aggregated[\"polarity std\"],\n",
    "    align=\"center\",\n",
    "    alpha=0.5,\n",
    "    ecolor=\"black\",\n",
    "    capsize=10,\n",
    ")\n",
    "plt.title(\"Mean VADER Sentiment Score of Different Ratings\", fontsize=18)\n",
    "plt.xlabel(\"Rating\", fontsize=18)\n",
    "plt.ylabel(\"VADER Sentiment\", fontsize=18)\n",
    "plt.grid(axis=\"y\")\n",
    "plt.show()"
   ]
  },
  {
   "cell_type": "code",
   "execution_count": 59,
   "metadata": {},
   "outputs": [
    {
     "data": {
      "image/png": "[encoded data removed]",
      "text/plain": [
       "<Figure size 700x800 with 1 Axes>"
      ]
     },
     "metadata": {},
     "output_type": "display_data"
    }
   ],
   "source": [
    "plt.figure(figsize=(7, 8))\n",
    "plt.bar(\n",
    "    list(range(1, 6)),\n",
    "    aggregated[\"polarity std\"],\n",
    "    align=\"center\",\n",
    "    alpha=0.5,\n",
    ")\n",
    "plt.title('VADER Sentiment Score\\nStandard Deviation of Different Ratings', fontsize=18)\n",
    "plt.xlabel(\"Rating\", fontsize=18)\n",
    "plt.ylabel(\"VADER Sentiment\", fontsize=18)\n",
    "plt.grid(axis=\"y\")\n",
    "plt.show()"
   ]
  },
  {
   "cell_type": "markdown",
   "metadata": {},
   "source": [
    "# Distilbert "
   ]
  },
  {
   "cell_type": "code",
   "execution_count": null,
   "metadata": {},
   "outputs": [
    {
     "name": "stderr",
     "output_type": "stream",
     "text": [
      "c:\\Users\\mikec\\Desktop\\Imperial\\TMEF\\Amazon-Review-TMEF-Project\\text-mining\\Lib\\site-packages\\tqdm\\auto.py:21: TqdmWarning: IProgress not found. Please update jupyter and ipywidgets. See https://ipywidgets.readthedocs.io/en/stable/user_install.html\n",
      "  from .autonotebook import tqdm as notebook_tqdm\n"
     ]
    }
   ],
   "source": [
    "import torch.nn.functional as F\n",
    "from transformers import AutoTokenizer, AutoModelForSequenceClassification\n",
    "\n",
    "tokenizer = AutoTokenizer.from_pretrained(\"assemblyai/distilbert-base-uncased-sst2\")\n",
    "model = AutoModelForSequenceClassification.from_pretrained(\n",
    "    \"assemblyai/distilbert-base-uncased-sst2\"\n",
    ")"
   ]
  },
  {
   "cell_type": "code",
   "execution_count": null,
   "metadata": {},
   "outputs": [
    {
     "data": {
      "text/html": [
       "<div>\n",
       "<style scoped>\n",
       "    .dataframe tbody tr th:only-of-type {\n",
       "        vertical-align: middle;\n",
       "    }\n",
       "\n",
       "    .dataframe tbody tr th {\n",
       "        vertical-align: top;\n",
       "    }\n",
       "\n",
       "    .dataframe thead th {\n",
       "        text-align: right;\n",
       "    }\n",
       "</style>\n",
       "<table border=\"1\" class=\"dataframe\">\n",
       "  <thead>\n",
       "    <tr style=\"text-align: right;\">\n",
       "      <th></th>\n",
       "      <th>Score</th>\n",
       "      <th>review</th>\n",
       "      <th>polarity</th>\n",
       "    </tr>\n",
       "  </thead>\n",
       "  <tbody>\n",
       "    <tr>\n",
       "      <th>0</th>\n",
       "      <td>1</td>\n",
       "      <td>purchase daughter trip arrival fully charge ba...</td>\n",
       "      <td>0.186164</td>\n",
       "    </tr>\n",
       "    <tr>\n",
       "      <th>1</th>\n",
       "      <td>1</td>\n",
       "      <td>camera great take photo good iq review purchas...</td>\n",
       "      <td>0.529751</td>\n",
       "    </tr>\n",
       "    <tr>\n",
       "      <th>2</th>\n",
       "      <td>1</td>\n",
       "      <td>buy possible portable spot scope impossible ho...</td>\n",
       "      <td>0.328670</td>\n",
       "    </tr>\n",
       "    <tr>\n",
       "      <th>3</th>\n",
       "      <td>1</td>\n",
       "      <td>camera work superior quality problem fix twice...</td>\n",
       "      <td>0.169831</td>\n",
       "    </tr>\n",
       "    <tr>\n",
       "      <th>4</th>\n",
       "      <td>1</td>\n",
       "      <td>terrible think acceptable</td>\n",
       "      <td>0.065454</td>\n",
       "    </tr>\n",
       "    <tr>\n",
       "      <th>...</th>\n",
       "      <td>...</td>\n",
       "      <td>...</td>\n",
       "      <td>...</td>\n",
       "    </tr>\n",
       "    <tr>\n",
       "      <th>211867</th>\n",
       "      <td>5</td>\n",
       "      <td>lightweight comfortable nice snap feature down...</td>\n",
       "      <td>0.970728</td>\n",
       "    </tr>\n",
       "    <tr>\n",
       "      <th>211868</th>\n",
       "      <td>5</td>\n",
       "      <td>good product layer security like customization...</td>\n",
       "      <td>0.612275</td>\n",
       "    </tr>\n",
       "    <tr>\n",
       "      <th>211869</th>\n",
       "      <td>5</td>\n",
       "      <td>problem resolve quickly impressed fast issue f...</td>\n",
       "      <td>0.922280</td>\n",
       "    </tr>\n",
       "    <tr>\n",
       "      <th>211870</th>\n",
       "      <td>5</td>\n",
       "      <td>video backdrop picture help quality business alot</td>\n",
       "      <td>0.911837</td>\n",
       "    </tr>\n",
       "    <tr>\n",
       "      <th>211871</th>\n",
       "      <td>5</td>\n",
       "      <td>ok port hdmi port bright simple job robust lit...</td>\n",
       "      <td>0.969454</td>\n",
       "    </tr>\n",
       "  </tbody>\n",
       "</table>\n",
       "<p>211872 rows × 3 columns</p>\n",
       "</div>"
      ],
      "text/plain": [
       "        Score                                             review  polarity\n",
       "0           1  purchase daughter trip arrival fully charge ba...  0.186164\n",
       "1           1  camera great take photo good iq review purchas...  0.529751\n",
       "2           1  buy possible portable spot scope impossible ho...  0.328670\n",
       "3           1  camera work superior quality problem fix twice...  0.169831\n",
       "4           1                          terrible think acceptable  0.065454\n",
       "...       ...                                                ...       ...\n",
       "211867      5  lightweight comfortable nice snap feature down...  0.970728\n",
       "211868      5  good product layer security like customization...  0.612275\n",
       "211869      5  problem resolve quickly impressed fast issue f...  0.922280\n",
       "211870      5  video backdrop picture help quality business alot  0.911837\n",
       "211871      5  ok port hdmi port bright simple job robust lit...  0.969454\n",
       "\n",
       "[211872 rows x 3 columns]"
      ]
     },
     "execution_count": 32,
     "metadata": {},
     "output_type": "execute_result"
    }
   ],
   "source": [
    "results = []\n",
    "for i in range(1, 6):\n",
    "    reviewText_given_score = IS[(IS[\"overall\"] == float(i))][\"reviewText\"].tolist()\n",
    "    for review in reviewText_given_score:\n",
    "        tokenized_segments = tokenizer(\n",
    "            [review],\n",
    "            return_tensors=\"pt\",\n",
    "            padding=True,\n",
    "            truncation=True,\n",
    "        )\n",
    "        tokenized_segments_input_ids, tokenized_segments_attention_mask = (\n",
    "            tokenized_segments.input_ids,\n",
    "            tokenized_segments.attention_mask,\n",
    "        )\n",
    "        model_predictions = F.softmax(\n",
    "            model(\n",
    "                input_ids=tokenized_segments_input_ids,\n",
    "                attention_mask=tokenized_segments_attention_mask,\n",
    "            )[\"logits\"],\n",
    "            dim=1,\n",
    "        )\n",
    "        # Positive probability\n",
    "        results.append([i, review, model_predictions[0][1].item()])\n",
    "results = pd.DataFrame(results, columns=[\"Score\", \"review\", \"polarity\"])\n",
    "results"
   ]
  },
  {
   "cell_type": "code",
   "execution_count": null,
   "metadata": {},
   "outputs": [],
   "source": [
    "results.to_csv(\"distilbert-result.csv\")"
   ]
  },
  {
   "cell_type": "code",
   "execution_count": null,
   "metadata": {},
   "outputs": [],
   "source": [
    "results = pd.read_csv(\"distilbert-result.csv\")"
   ]
  },
  {
   "cell_type": "code",
   "execution_count": null,
   "metadata": {},
   "outputs": [
    {
     "data": {
      "text/html": [
       "<div>\n",
       "<style scoped>\n",
       "    .dataframe tbody tr th:only-of-type {\n",
       "        vertical-align: middle;\n",
       "    }\n",
       "\n",
       "    .dataframe tbody tr th {\n",
       "        vertical-align: top;\n",
       "    }\n",
       "\n",
       "    .dataframe thead th {\n",
       "        text-align: right;\n",
       "    }\n",
       "</style>\n",
       "<table border=\"1\" class=\"dataframe\">\n",
       "  <thead>\n",
       "    <tr style=\"text-align: right;\">\n",
       "      <th></th>\n",
       "      <th>Score</th>\n",
       "      <th>polarity mean</th>\n",
       "      <th>polarity std</th>\n",
       "    </tr>\n",
       "  </thead>\n",
       "  <tbody>\n",
       "    <tr>\n",
       "      <th>0</th>\n",
       "      <td>1</td>\n",
       "      <td>0.278845</td>\n",
       "      <td>0.233929</td>\n",
       "    </tr>\n",
       "    <tr>\n",
       "      <th>1</th>\n",
       "      <td>2</td>\n",
       "      <td>0.368180</td>\n",
       "      <td>0.248247</td>\n",
       "    </tr>\n",
       "    <tr>\n",
       "      <th>2</th>\n",
       "      <td>3</td>\n",
       "      <td>0.457225</td>\n",
       "      <td>0.258633</td>\n",
       "    </tr>\n",
       "    <tr>\n",
       "      <th>3</th>\n",
       "      <td>4</td>\n",
       "      <td>0.588520</td>\n",
       "      <td>0.259220</td>\n",
       "    </tr>\n",
       "    <tr>\n",
       "      <th>4</th>\n",
       "      <td>5</td>\n",
       "      <td>0.697189</td>\n",
       "      <td>0.254882</td>\n",
       "    </tr>\n",
       "  </tbody>\n",
       "</table>\n",
       "</div>"
      ],
      "text/plain": [
       "   Score  polarity mean  polarity std\n",
       "0      1       0.278845      0.233929\n",
       "1      2       0.368180      0.248247\n",
       "2      3       0.457225      0.258633\n",
       "3      4       0.588520      0.259220\n",
       "4      5       0.697189      0.254882"
      ]
     },
     "execution_count": 35,
     "metadata": {},
     "output_type": "execute_result"
    }
   ],
   "source": [
    "aggregated = (\n",
    "    results.groupby(['Score'])[\"polarity\"].agg([('polarity mean', 'mean'), ('polarity std', 'std')])\n",
    "    .reset_index()                                          # make groupers into columns\n",
    ")\n",
    "aggregated"
   ]
  },
  {
   "cell_type": "code",
   "execution_count": null,
   "metadata": {},
   "outputs": [
    {
     "data": {
      "image/png": "[encoded data removed]",
      "text/plain": [
       "<Figure size 640x480 with 1 Axes>"
      ]
     },
     "metadata": {},
     "output_type": "display_data"
    }
   ],
   "source": [
    "plt.bar(\n",
    "    list(range(1, 6)),\n",
    "    aggregated[\"polarity mean\"],\n",
    ")\n",
    "plt.errorbar(\n",
    "    list(range(1, 6)),\n",
    "    aggregated[\"polarity mean\"],\n",
    "    yerr=aggregated[\"polarity std\"],\n",
    "    fmt=\"o\",\n",
    "    color=\"r\",\n",
    ")\n",
    "plt.show()"
   ]
  },
  {
   "cell_type": "code",
   "execution_count": null,
   "metadata": {},
   "outputs": [
    {
     "data": {
      "image/png": "[encoded data removed]",
      "text/plain": [
       "<Figure size 640x480 with 1 Axes>"
      ]
     },
     "metadata": {},
     "output_type": "display_data"
    }
   ],
   "source": [
    "plt.bar(\n",
    "    list(range(1, 6)),\n",
    "    aggregated[\"polarity std\"],\n",
    ")\n",
    "plt.show()"
   ]
  },
  {
   "cell_type": "code",
   "execution_count": null,
   "metadata": {},
   "outputs": [],
   "source": []
  }
 ],
 "metadata": {
  "kernelspec": {
   "display_name": "text-mining",
   "language": "python",
   "name": "python3"
  },
  "language_info": {
   "codemirror_mode": {
    "name": "ipython",
    "version": 3
   },
   "file_extension": ".py",
   "mimetype": "text/x-python",
   "name": "python",
   "nbconvert_exporter": "python",
   "pygments_lexer": "ipython3",
   "version": "3.11.0"
  }
 },
 "nbformat": 4,
 "nbformat_minor": 2
}
