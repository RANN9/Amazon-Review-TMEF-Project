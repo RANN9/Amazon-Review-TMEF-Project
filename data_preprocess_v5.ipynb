{
 "cells": [
  {
   "cell_type": "markdown",
   "id": "7b0958e6",
   "metadata": {},
   "source": [
    "# Data preprocessing notebook\n",
    "* load raw json format\n",
    "* clean dataset\n",
    "* output to csv"
   ]
  },
  {
   "cell_type": "code",
   "execution_count": 1,
   "id": "14d172e8-ec32-483d-bd9d-6e175e5b13e3",
   "metadata": {
    "tags": []
   },
   "outputs": [
    {
     "name": "stderr",
     "output_type": "stream",
     "text": [
      "/var/folders/nq/z_km61px217dlw3_jg7krlvc0000gn/T/ipykernel_65905/3259503239.py:3: DeprecationWarning: \n",
      "Pyarrow will become a required dependency of pandas in the next major release of pandas (pandas 3.0),\n",
      "(to allow more performant data types, such as the Arrow string type, and better interoperability with other libraries)\n",
      "but was not found to be installed on your system.\n",
      "If this would cause problems for you,\n",
      "please provide us feedback at https://github.com/pandas-dev/pandas/issues/54466\n",
      "        \n",
      "  import pandas as pd\n"
     ]
    }
   ],
   "source": [
    "import json\n",
    "from tqdm import tqdm\n",
    "import pandas as pd\n",
    "import os\n",
    "\n",
    "import html\n",
    "import re \n",
    "import numpy as np"
   ]
  },
  {
   "cell_type": "code",
   "execution_count": 2,
   "id": "4e6e36fc-4397-4ac8-9450-fe7aa18bde1a",
   "metadata": {},
   "outputs": [
    {
     "data": {
      "text/plain": [
       "11508470738"
      ]
     },
     "execution_count": 2,
     "metadata": {},
     "output_type": "execute_result"
    }
   ],
   "source": [
    "os.path.getsize(\"Electronics.json\")"
   ]
  },
  {
   "cell_type": "code",
   "execution_count": 3,
   "id": "55675ccb",
   "metadata": {},
   "outputs": [
    {
     "data": {
      "text/plain": [
       "10995631365"
      ]
     },
     "execution_count": 3,
     "metadata": {},
     "output_type": "execute_result"
    }
   ],
   "source": [
    "os.path.getsize(\"meta_Electronics.json\")"
   ]
  },
  {
   "cell_type": "markdown",
   "id": "d2293774-d67a-4339-be3f-534fbfc5b106",
   "metadata": {},
   "source": [
    "## metadata dataset (product data)"
   ]
  },
  {
   "cell_type": "code",
   "execution_count": 4,
   "id": "53a4dd61-01b3-4f11-bedf-e1bfcdfb3656",
   "metadata": {
    "tags": []
   },
   "outputs": [],
   "source": [
    "def get_row_counts(file_path):\n",
    "    with open(file_path, \"r\") as file:\n",
    "        row_counts = 0\n",
    "        for rows in file:\n",
    "            row_counts += 1\n",
    "    return row_counts\n",
    "\n",
    "def load_json_to_df(file_path, partition = 1):\n",
    "    row_counts = get_row_counts(file_path)\n",
    "    with open(file_path, \"r\") as file:\n",
    "        # start from first partition\n",
    "        rows_rolling = 0\n",
    "        json_object = []\n",
    "        for rows in tqdm(file):\n",
    "            if rows_rolling > row_counts / partition:\n",
    "                print(f\"Total rows processed {rows_rolling}/{row_counts}\")\n",
    "                break\n",
    "            else:\n",
    "                json_obj = json.loads(rows.strip())\n",
    "                json_object.append(json_obj)\n",
    "                rows_rolling += 1\n",
    "                if rows_rolling % 100000 == 0:\n",
    "                    print(f\"Processing row: {rows_rolling}/{row_counts}\")\n",
    "                if rows_rolling == row_counts:\n",
    "                    print(f\"All rows loaded to json objects: {rows_rolling}/{row_counts}\")\n",
    "                    \n",
    "    print(\"pushing json objects to pd.df\")\n",
    "    return pd.DataFrame(json_object)"
   ]
  },
  {
   "cell_type": "code",
   "execution_count": 6,
   "id": "a8b9b8b3",
   "metadata": {},
   "outputs": [
    {
     "name": "stderr",
     "output_type": "stream",
     "text": [
      "105339it [00:03, 36742.15it/s]"
     ]
    },
    {
     "name": "stdout",
     "output_type": "stream",
     "text": [
      "Processing row: 100000/786445\n"
     ]
    },
    {
     "name": "stderr",
     "output_type": "stream",
     "text": [
      "205085it [00:06, 36533.10it/s]"
     ]
    },
    {
     "name": "stdout",
     "output_type": "stream",
     "text": [
      "Processing row: 200000/786445\n"
     ]
    },
    {
     "name": "stderr",
     "output_type": "stream",
     "text": [
      "306979it [00:10, 29539.64it/s]"
     ]
    },
    {
     "name": "stdout",
     "output_type": "stream",
     "text": [
      "Processing row: 300000/786445\n"
     ]
    },
    {
     "name": "stderr",
     "output_type": "stream",
     "text": [
      "405943it [00:14, 32039.04it/s]"
     ]
    },
    {
     "name": "stdout",
     "output_type": "stream",
     "text": [
      "Processing row: 400000/786445\n"
     ]
    },
    {
     "name": "stderr",
     "output_type": "stream",
     "text": [
      "505660it [00:19, 30119.01it/s]"
     ]
    },
    {
     "name": "stdout",
     "output_type": "stream",
     "text": [
      "Processing row: 500000/786445\n"
     ]
    },
    {
     "name": "stderr",
     "output_type": "stream",
     "text": [
      "603418it [00:25, 24126.34it/s]"
     ]
    },
    {
     "name": "stdout",
     "output_type": "stream",
     "text": [
      "Processing row: 600000/786445\n"
     ]
    },
    {
     "name": "stderr",
     "output_type": "stream",
     "text": [
      "703363it [00:29, 26663.08it/s]"
     ]
    },
    {
     "name": "stdout",
     "output_type": "stream",
     "text": [
      "Processing row: 700000/786445\n"
     ]
    },
    {
     "name": "stderr",
     "output_type": "stream",
     "text": [
      "786445it [00:40, 19235.35it/s]\n"
     ]
    },
    {
     "name": "stdout",
     "output_type": "stream",
     "text": [
      "All rows loaded to json objects: 786445/786445\n",
      "pushing json objects to pd.df\n"
     ]
    }
   ],
   "source": [
    "df_product = load_json_to_df(file_path=\"meta_Electronics.json\", partition = 1)"
   ]
  },
  {
   "cell_type": "code",
   "execution_count": 7,
   "id": "8140d210",
   "metadata": {},
   "outputs": [
    {
     "name": "stdout",
     "output_type": "stream",
     "text": [
      "<class 'pandas.core.frame.DataFrame'>\n",
      "RangeIndex: 786445 entries, 0 to 786444\n",
      "Data columns (total 19 columns):\n",
      " #   Column           Non-Null Count   Dtype \n",
      "---  ------           --------------   ----- \n",
      " 0   category         786445 non-null  object\n",
      " 1   tech1            786445 non-null  object\n",
      " 2   description      786445 non-null  object\n",
      " 3   fit              786445 non-null  object\n",
      " 4   title            786445 non-null  object\n",
      " 5   also_buy         786445 non-null  object\n",
      " 6   tech2            786445 non-null  object\n",
      " 7   brand            786445 non-null  object\n",
      " 8   feature          786445 non-null  object\n",
      " 9   rank             786445 non-null  object\n",
      " 10  also_view        786445 non-null  object\n",
      " 11  main_cat         786445 non-null  object\n",
      " 12  similar_item     786445 non-null  object\n",
      " 13  date             786445 non-null  object\n",
      " 14  price            786445 non-null  object\n",
      " 15  asin             786445 non-null  object\n",
      " 16  imageURL         786445 non-null  object\n",
      " 17  imageURLHighRes  786445 non-null  object\n",
      " 18  details          785607 non-null  object\n",
      "dtypes: object(19)\n",
      "memory usage: 114.0+ MB\n"
     ]
    }
   ],
   "source": [
    "df_product.info()"
   ]
  },
  {
   "cell_type": "markdown",
   "id": "9f9b5271",
   "metadata": {},
   "source": [
    "### df_product: data definition and keep/drop rule\n",
    "* category: product category and sub-catecory information - *REDUNDANT, DROP*\n",
    "* tech1: primary product specification informtion in HTML format - *REDUNDANT, DROP*\n",
    "* description: product description - *IMPORTANT, MUST KEEP*\n",
    "* fit: this column contains wearable electronic product information in HTML format - *REDUNDANT, DROP*\n",
    "* title: product title - *IMPORTANT, MUST KEEP*\n",
    "* also_buy: list of asin of product which customer who bought this also bought - *REDUNDANT, CONSIDER DROPPING*\n",
    "* tech2: secondary product specification informtion in HTML format - *REDUNDANT, DROP*\n",
    "* brand: brand of product - *IMPORTANT, MUST KEEP*\n",
    "* feature: product features - *REDUNDANT, CONSIDER DROPPING*\n",
    "* rank: product rank, need to be clearned as formating is not unified - *IMPORTANT, TO BE CLEANED, MUST KEEP*\n",
    "* also_view: list of asin of product which customer who viewed this also viewed - *REDUNDANT, DROP*\n",
    "* main_cat: main product category - *IMPORTANT, MUST KEEP*\n",
    "* similar_item: similar item, html content - *REDUNDANT, DROP*\n",
    "* date: product date - *IMPORTANT, MUST KEEP*\n",
    "* price: price information - *IMPORTANT, MUST KEEP*\n",
    "* asin: product id - *IMPORTANT, MUST KEEP*\n",
    "* imageURL: URL of product image - *REDUNDANT, DROP*\n",
    "* imageURLHighRes: URL of product image - *REDUNDANT, DROP*\n",
    "* details: - *REDUNDANT, DROP*\n"
   ]
  },
  {
   "cell_type": "code",
   "execution_count": 8,
   "id": "3edccc69",
   "metadata": {},
   "outputs": [],
   "source": [
    "columns_to_drop = [\n",
    "    'category', 'tech1', 'fit', 'also_buy', 'tech2', \n",
    "    'feature', 'also_view', 'similar_item', 'imageURL', \n",
    "    'imageURLHighRes', 'details'\n",
    "    ]\n",
    "# Dropping the redundant columns\n",
    "df_product = df_product.drop(columns=columns_to_drop)"
   ]
  },
  {
   "cell_type": "code",
   "execution_count": 9,
   "id": "34afc361",
   "metadata": {},
   "outputs": [
    {
     "name": "stdout",
     "output_type": "stream",
     "text": [
      "<class 'pandas.core.frame.DataFrame'>\n",
      "RangeIndex: 786445 entries, 0 to 786444\n",
      "Data columns (total 8 columns):\n",
      " #   Column       Non-Null Count   Dtype \n",
      "---  ------       --------------   ----- \n",
      " 0   description  786445 non-null  object\n",
      " 1   title        786445 non-null  object\n",
      " 2   brand        786445 non-null  object\n",
      " 3   rank         786445 non-null  object\n",
      " 4   main_cat     786445 non-null  object\n",
      " 5   date         786445 non-null  object\n",
      " 6   price        786445 non-null  object\n",
      " 7   asin         786445 non-null  object\n",
      "dtypes: object(8)\n",
      "memory usage: 48.0+ MB\n"
     ]
    }
   ],
   "source": [
    "df_product.info()"
   ]
  },
  {
   "cell_type": "markdown",
   "id": "48fc518f",
   "metadata": {},
   "source": [
    "## Data Clearning"
   ]
  },
  {
   "cell_type": "code",
   "execution_count": 10,
   "id": "b435952a",
   "metadata": {},
   "outputs": [],
   "source": [
    "## Define function for description and value \n",
    "\n",
    "def clean_description(description):\n",
    "    # Check if the input is a list, and convert it to a string if so\n",
    "    if isinstance(description, list):\n",
    "        # Join the list elements into a single string separated by spaces\n",
    "        description = ' '.join(description)\n",
    "    \n",
    "    description = html.unescape(description)\n",
    "    # Remove HTML tags\n",
    "    description = re.sub('<.*?>', ' ', description)\n",
    "    # Replace non-alphanumeric characters with spaces\n",
    "    description = re.sub('[^0-9a-zA-Z]+', ' ', description)\n",
    "    # Normalise whitespace to single space\n",
    "    description = re.sub('\\s+', ' ', description)\n",
    "    # Trim leading and trailing spaces\n",
    "    description = description.strip()\n",
    "    # Convert to lowercase\n",
    "    description = description.lower()\n",
    "    \n",
    "    return description\n",
    "\n",
    "\n",
    "def clean_main_cat(main_cat):\n",
    "    # Convert any HTML entities to their corresponding characters\n",
    "    main_cat = html.unescape(main_cat)\n",
    "    # amazon fashion category is compromised contain url so normalise it to just amazon fashion\n",
    "    main_cat = main_cat.replace('AMAZON FASHION', 'Amazon Fashion')\n",
    "    \n",
    "    return main_cat"
   ]
  },
  {
   "cell_type": "code",
   "execution_count": 11,
   "id": "2663e2fa",
   "metadata": {},
   "outputs": [],
   "source": [
    "## Start cleaning\n",
    "\n",
    "# Removing all $ signs from the 'price' column\n",
    "df_product['price'] = df_product['price'].str.replace('$', '', regex=False)\n",
    "\n",
    "# Convert price column to correct dtype to save memory\n",
    "df_product['price'] = pd.to_numeric(df_product['price'], errors='coerce')\n",
    "\n",
    "# Clean description and value\n",
    "df_product['description'] = df_product['description'].apply(clean_description)\n",
    "df_product['main_cat'] = df_product['main_cat'].apply(clean_main_cat)\n",
    "\n"
   ]
  },
  {
   "cell_type": "code",
   "execution_count": 12,
   "id": "67b03d8f",
   "metadata": {},
   "outputs": [
    {
     "name": "stdout",
     "output_type": "stream",
     "text": [
      "<class 'pandas.core.frame.DataFrame'>\n",
      "RangeIndex: 786445 entries, 0 to 786444\n",
      "Data columns (total 8 columns):\n",
      " #   Column       Non-Null Count   Dtype  \n",
      "---  ------       --------------   -----  \n",
      " 0   description  786445 non-null  object \n",
      " 1   title        786445 non-null  object \n",
      " 2   brand        786445 non-null  object \n",
      " 3   rank         786445 non-null  object \n",
      " 4   main_cat     786445 non-null  object \n",
      " 5   date         786445 non-null  object \n",
      " 6   price        303289 non-null  float64\n",
      " 7   asin         786445 non-null  object \n",
      "dtypes: float64(1), object(7)\n",
      "memory usage: 48.0+ MB\n"
     ]
    }
   ],
   "source": [
    "df_product.info()"
   ]
  },
  {
   "cell_type": "code",
   "execution_count": 13,
   "id": "03bd37b3",
   "metadata": {},
   "outputs": [],
   "source": [
    "# drop duplicated rows\n",
    "df_product = df_product.drop_duplicates(subset=['asin'])\n"
   ]
  },
  {
   "cell_type": "code",
   "execution_count": 14,
   "id": "11a788b6",
   "metadata": {},
   "outputs": [
    {
     "name": "stdout",
     "output_type": "stream",
     "text": [
      "<class 'pandas.core.frame.DataFrame'>\n",
      "Index: 756077 entries, 0 to 786444\n",
      "Data columns (total 8 columns):\n",
      " #   Column       Non-Null Count   Dtype  \n",
      "---  ------       --------------   -----  \n",
      " 0   description  756077 non-null  object \n",
      " 1   title        756077 non-null  object \n",
      " 2   brand        756077 non-null  object \n",
      " 3   rank         756077 non-null  object \n",
      " 4   main_cat     756077 non-null  object \n",
      " 5   date         756077 non-null  object \n",
      " 6   price        293928 non-null  float64\n",
      " 7   asin         756077 non-null  object \n",
      "dtypes: float64(1), object(7)\n",
      "memory usage: 51.9+ MB\n"
     ]
    }
   ],
   "source": [
    "df_product.info()\n"
   ]
  },
  {
   "cell_type": "markdown",
   "id": "1e043c85",
   "metadata": {},
   "source": [
    "Some columns were delibertly left out to maintain the integrity of column asin\n",
    "* description - cleaned to just alphanumeric text\n",
    "* title - cleaned\n",
    "* brand - cleaned\n",
    "* rank - untouched, contain multiple category rankings\n",
    "* main_cat - cleaned\n",
    "* date - untouched, some dates are still compromise\n",
    "* price - cleaned\n",
    "* asin - cleaned"
   ]
  },
  {
   "cell_type": "code",
   "execution_count": 15,
   "id": "b6ebf5db",
   "metadata": {},
   "outputs": [],
   "source": [
    "# output to CSV\n",
    "df_product.to_csv('product_cleaned.csv', index=False)"
   ]
  },
  {
   "cell_type": "code",
   "execution_count": null,
   "id": "2f917ada",
   "metadata": {},
   "outputs": [],
   "source": []
  },
  {
   "cell_type": "code",
   "execution_count": null,
   "id": "8ddfcb5e",
   "metadata": {},
   "outputs": [],
   "source": []
  },
  {
   "cell_type": "code",
   "execution_count": null,
   "id": "39ab1c55",
   "metadata": {},
   "outputs": [],
   "source": []
  },
  {
   "cell_type": "markdown",
   "id": "e04d78c1-92b9-4fbf-8ab7-d0ebca6efde8",
   "metadata": {},
   "source": [
    "# main dataset"
   ]
  },
  {
   "cell_type": "code",
   "execution_count": 5,
   "id": "58e9988a",
   "metadata": {},
   "outputs": [
    {
     "name": "stderr",
     "output_type": "stream",
     "text": [
      "138423it [00:00, 290788.60it/s]"
     ]
    },
    {
     "name": "stdout",
     "output_type": "stream",
     "text": [
      "Processing row: 100000/20994353\n"
     ]
    },
    {
     "name": "stderr",
     "output_type": "stream",
     "text": [
      "245800it [00:00, 287487.79it/s]"
     ]
    },
    {
     "name": "stdout",
     "output_type": "stream",
     "text": [
      "Processing row: 200000/20994353\n"
     ]
    },
    {
     "name": "stderr",
     "output_type": "stream",
     "text": [
      "348533it [00:01, 282360.77it/s]"
     ]
    },
    {
     "name": "stdout",
     "output_type": "stream",
     "text": [
      "Processing row: 300000/20994353\n"
     ]
    },
    {
     "name": "stderr",
     "output_type": "stream",
     "text": [
      "382894it [00:01, 298406.71it/s]"
     ]
    },
    {
     "name": "stdout",
     "output_type": "stream",
     "text": [
      "Processing row: 400000/20994353\n"
     ]
    },
    {
     "name": "stderr",
     "output_type": "stream",
     "text": [
      "557139it [00:02, 308385.45it/s]"
     ]
    },
    {
     "name": "stdout",
     "output_type": "stream",
     "text": [
      "Processing row: 500000/20994353\n"
     ]
    },
    {
     "name": "stderr",
     "output_type": "stream",
     "text": [
      "664951it [00:02, 263670.67it/s]"
     ]
    },
    {
     "name": "stdout",
     "output_type": "stream",
     "text": [
      "Processing row: 600000/20994353\n"
     ]
    },
    {
     "name": "stderr",
     "output_type": "stream",
     "text": [
      "768923it [00:02, 311955.32it/s]"
     ]
    },
    {
     "name": "stdout",
     "output_type": "stream",
     "text": [
      "Processing row: 700000/20994353\n"
     ]
    },
    {
     "name": "stderr",
     "output_type": "stream",
     "text": [
      "836613it [00:03, 206702.86it/s]"
     ]
    },
    {
     "name": "stdout",
     "output_type": "stream",
     "text": [
      "Processing row: 800000/20994353\n"
     ]
    },
    {
     "name": "stderr",
     "output_type": "stream",
     "text": [
      "939537it [00:03, 279721.98it/s]"
     ]
    },
    {
     "name": "stdout",
     "output_type": "stream",
     "text": [
      "Processing row: 900000/20994353\n"
     ]
    },
    {
     "name": "stderr",
     "output_type": "stream",
     "text": [
      "1009359it [00:03, 312725.05it/s]"
     ]
    },
    {
     "name": "stdout",
     "output_type": "stream",
     "text": [
      "Processing row: 1000000/20994353\n"
     ]
    },
    {
     "name": "stderr",
     "output_type": "stream",
     "text": [
      "1142627it [00:04, 238751.46it/s]"
     ]
    },
    {
     "name": "stdout",
     "output_type": "stream",
     "text": [
      "Processing row: 1100000/20994353\n"
     ]
    },
    {
     "name": "stderr",
     "output_type": "stream",
     "text": [
      "1248787it [00:04, 305691.36it/s]"
     ]
    },
    {
     "name": "stdout",
     "output_type": "stream",
     "text": [
      "Processing row: 1200000/20994353\n"
     ]
    },
    {
     "name": "stderr",
     "output_type": "stream",
     "text": [
      "1321992it [00:05, 334309.69it/s]"
     ]
    },
    {
     "name": "stdout",
     "output_type": "stream",
     "text": [
      "Processing row: 1300000/20994353\n"
     ]
    },
    {
     "name": "stderr",
     "output_type": "stream",
     "text": [
      "1463049it [00:05, 232998.45it/s]"
     ]
    },
    {
     "name": "stdout",
     "output_type": "stream",
     "text": [
      "Processing row: 1400000/20994353\n"
     ]
    },
    {
     "name": "stderr",
     "output_type": "stream",
     "text": [
      "1567617it [00:06, 297759.43it/s]"
     ]
    },
    {
     "name": "stdout",
     "output_type": "stream",
     "text": [
      "Processing row: 1500000/20994353\n"
     ]
    },
    {
     "name": "stderr",
     "output_type": "stream",
     "text": [
      "1638751it [00:06, 325202.49it/s]"
     ]
    },
    {
     "name": "stdout",
     "output_type": "stream",
     "text": [
      "Processing row: 1600000/20994353\n"
     ]
    },
    {
     "name": "stderr",
     "output_type": "stream",
     "text": [
      "1744628it [00:06, 340785.41it/s]"
     ]
    },
    {
     "name": "stdout",
     "output_type": "stream",
     "text": [
      "Processing row: 1700000/20994353\n"
     ]
    },
    {
     "name": "stderr",
     "output_type": "stream",
     "text": [
      "1849789it [00:07, 150951.74it/s]"
     ]
    },
    {
     "name": "stdout",
     "output_type": "stream",
     "text": [
      "Processing row: 1800000/20994353\n"
     ]
    },
    {
     "name": "stderr",
     "output_type": "stream",
     "text": [
      "1951117it [00:08, 233417.07it/s]"
     ]
    },
    {
     "name": "stdout",
     "output_type": "stream",
     "text": [
      "Processing row: 1900000/20994353\n"
     ]
    },
    {
     "name": "stderr",
     "output_type": "stream",
     "text": [
      "2051292it [00:08, 290786.50it/s]"
     ]
    },
    {
     "name": "stdout",
     "output_type": "stream",
     "text": [
      "Processing row: 2000000/20994353\n"
     ]
    },
    {
     "name": "stderr",
     "output_type": "stream",
     "text": [
      "2153597it [00:08, 322018.17it/s]"
     ]
    },
    {
     "name": "stdout",
     "output_type": "stream",
     "text": [
      "Processing row: 2100000/20994353\n"
     ]
    },
    {
     "name": "stderr",
     "output_type": "stream",
     "text": [
      "2256060it [00:08, 334531.55it/s]"
     ]
    },
    {
     "name": "stdout",
     "output_type": "stream",
     "text": [
      "Processing row: 2200000/20994353\n"
     ]
    },
    {
     "name": "stderr",
     "output_type": "stream",
     "text": [
      "2290946it [00:09, 338758.97it/s]"
     ]
    },
    {
     "name": "stdout",
     "output_type": "stream",
     "text": [
      "Processing row: 2300000/20994353\n"
     ]
    },
    {
     "name": "stderr",
     "output_type": "stream",
     "text": [
      "2457306it [00:10, 190017.25it/s]"
     ]
    },
    {
     "name": "stdout",
     "output_type": "stream",
     "text": [
      "Processing row: 2400000/20994353\n"
     ]
    },
    {
     "name": "stderr",
     "output_type": "stream",
     "text": [
      "2558170it [00:10, 268060.71it/s]"
     ]
    },
    {
     "name": "stdout",
     "output_type": "stream",
     "text": [
      "Processing row: 2500000/20994353\n"
     ]
    },
    {
     "name": "stderr",
     "output_type": "stream",
     "text": [
      "2664820it [00:11, 323517.40it/s]"
     ]
    },
    {
     "name": "stdout",
     "output_type": "stream",
     "text": [
      "Processing row: 2600000/20994353\n"
     ]
    },
    {
     "name": "stderr",
     "output_type": "stream",
     "text": [
      "2734778it [00:11, 331855.82it/s]"
     ]
    },
    {
     "name": "stdout",
     "output_type": "stream",
     "text": [
      "Processing row: 2700000/20994353\n"
     ]
    },
    {
     "name": "stderr",
     "output_type": "stream",
     "text": [
      "2839753it [00:11, 338380.35it/s]"
     ]
    },
    {
     "name": "stdout",
     "output_type": "stream",
     "text": [
      "Processing row: 2800000/20994353\n"
     ]
    },
    {
     "name": "stderr",
     "output_type": "stream",
     "text": [
      "2908256it [00:11, 335477.48it/s]"
     ]
    },
    {
     "name": "stdout",
     "output_type": "stream",
     "text": [
      "Processing row: 2900000/20994353\n"
     ]
    },
    {
     "name": "stderr",
     "output_type": "stream",
     "text": [
      "3052055it [00:13, 156435.27it/s]"
     ]
    },
    {
     "name": "stdout",
     "output_type": "stream",
     "text": [
      "Processing row: 3000000/20994353\n"
     ]
    },
    {
     "name": "stderr",
     "output_type": "stream",
     "text": [
      "3152695it [00:13, 233570.36it/s]"
     ]
    },
    {
     "name": "stdout",
     "output_type": "stream",
     "text": [
      "Processing row: 3100000/20994353\n"
     ]
    },
    {
     "name": "stderr",
     "output_type": "stream",
     "text": [
      "3252552it [00:14, 284909.12it/s]"
     ]
    },
    {
     "name": "stdout",
     "output_type": "stream",
     "text": [
      "Processing row: 3200000/20994353\n"
     ]
    },
    {
     "name": "stderr",
     "output_type": "stream",
     "text": [
      "3353305it [00:14, 309698.91it/s]"
     ]
    },
    {
     "name": "stdout",
     "output_type": "stream",
     "text": [
      "Processing row: 3300000/20994353\n"
     ]
    },
    {
     "name": "stderr",
     "output_type": "stream",
     "text": [
      "3452969it [00:14, 324244.55it/s]"
     ]
    },
    {
     "name": "stdout",
     "output_type": "stream",
     "text": [
      "Processing row: 3400000/20994353\n"
     ]
    },
    {
     "name": "stderr",
     "output_type": "stream",
     "text": [
      "3551986it [00:15, 322997.78it/s]"
     ]
    },
    {
     "name": "stdout",
     "output_type": "stream",
     "text": [
      "Processing row: 3500000/20994353\n"
     ]
    },
    {
     "name": "stderr",
     "output_type": "stream",
     "text": [
      "3646135it [00:15, 305845.96it/s]"
     ]
    },
    {
     "name": "stdout",
     "output_type": "stream",
     "text": [
      "Processing row: 3600000/20994353\n"
     ]
    },
    {
     "name": "stderr",
     "output_type": "stream",
     "text": [
      "3741691it [00:17, 76516.37it/s] "
     ]
    },
    {
     "name": "stdout",
     "output_type": "stream",
     "text": [
      "Processing row: 3700000/20994353\n"
     ]
    },
    {
     "name": "stderr",
     "output_type": "stream",
     "text": [
      "3833546it [00:17, 149823.09it/s]"
     ]
    },
    {
     "name": "stdout",
     "output_type": "stream",
     "text": [
      "Processing row: 3800000/20994353\n"
     ]
    },
    {
     "name": "stderr",
     "output_type": "stream",
     "text": [
      "3956789it [00:17, 245321.36it/s]"
     ]
    },
    {
     "name": "stdout",
     "output_type": "stream",
     "text": [
      "Processing row: 3900000/20994353\n"
     ]
    },
    {
     "name": "stderr",
     "output_type": "stream",
     "text": [
      "4053680it [00:18, 288988.92it/s]"
     ]
    },
    {
     "name": "stdout",
     "output_type": "stream",
     "text": [
      "Processing row: 4000000/20994353\n"
     ]
    },
    {
     "name": "stderr",
     "output_type": "stream",
     "text": [
      "4153077it [00:18, 316313.18it/s]"
     ]
    },
    {
     "name": "stdout",
     "output_type": "stream",
     "text": [
      "Processing row: 4100000/20994353\n"
     ]
    },
    {
     "name": "stderr",
     "output_type": "stream",
     "text": [
      "4249457it [00:18, 310609.32it/s]"
     ]
    },
    {
     "name": "stdout",
     "output_type": "stream",
     "text": [
      "Processing row: 4200000/20994353\n"
     ]
    },
    {
     "name": "stderr",
     "output_type": "stream",
     "text": [
      "4349563it [00:19, 318082.48it/s]"
     ]
    },
    {
     "name": "stdout",
     "output_type": "stream",
     "text": [
      "Processing row: 4300000/20994353\n"
     ]
    },
    {
     "name": "stderr",
     "output_type": "stream",
     "text": [
      "4449272it [00:19, 327528.65it/s]"
     ]
    },
    {
     "name": "stdout",
     "output_type": "stream",
     "text": [
      "Processing row: 4400000/20994353\n"
     ]
    },
    {
     "name": "stderr",
     "output_type": "stream",
     "text": [
      "4554835it [00:19, 338805.60it/s]"
     ]
    },
    {
     "name": "stdout",
     "output_type": "stream",
     "text": [
      "Processing row: 4500000/20994353\n"
     ]
    },
    {
     "name": "stderr",
     "output_type": "stream",
     "text": [
      "4588771it [00:19, 332859.20it/s]"
     ]
    },
    {
     "name": "stdout",
     "output_type": "stream",
     "text": [
      "Processing row: 4600000/20994353\n"
     ]
    },
    {
     "name": "stderr",
     "output_type": "stream",
     "text": [
      "4726802it [00:27, 46939.30it/s] "
     ]
    },
    {
     "name": "stdout",
     "output_type": "stream",
     "text": [
      "Processing row: 4700000/20994353\n"
     ]
    },
    {
     "name": "stderr",
     "output_type": "stream",
     "text": [
      "4844911it [00:27, 137010.94it/s]"
     ]
    },
    {
     "name": "stdout",
     "output_type": "stream",
     "text": [
      "Processing row: 4800000/20994353\n"
     ]
    },
    {
     "name": "stderr",
     "output_type": "stream",
     "text": [
      "4945348it [00:27, 228628.11it/s]"
     ]
    },
    {
     "name": "stdout",
     "output_type": "stream",
     "text": [
      "Processing row: 4900000/20994353\n"
     ]
    },
    {
     "name": "stderr",
     "output_type": "stream",
     "text": [
      "5048423it [00:28, 292546.64it/s]"
     ]
    },
    {
     "name": "stdout",
     "output_type": "stream",
     "text": [
      "Processing row: 5000000/20994353\n"
     ]
    },
    {
     "name": "stderr",
     "output_type": "stream",
     "text": [
      "5148157it [00:28, 313150.71it/s]"
     ]
    },
    {
     "name": "stdout",
     "output_type": "stream",
     "text": [
      "Processing row: 5100000/20994353\n"
     ]
    },
    {
     "name": "stderr",
     "output_type": "stream",
     "text": [
      "5250897it [00:28, 331437.46it/s]"
     ]
    },
    {
     "name": "stdout",
     "output_type": "stream",
     "text": [
      "Processing row: 5200000/20994353\n"
     ]
    },
    {
     "name": "stderr",
     "output_type": "stream",
     "text": [
      "5353391it [00:29, 329520.33it/s]"
     ]
    },
    {
     "name": "stdout",
     "output_type": "stream",
     "text": [
      "Processing row: 5300000/20994353\n"
     ]
    },
    {
     "name": "stderr",
     "output_type": "stream",
     "text": [
      "5458694it [00:29, 337195.88it/s]"
     ]
    },
    {
     "name": "stdout",
     "output_type": "stream",
     "text": [
      "Processing row: 5400000/20994353\n"
     ]
    },
    {
     "name": "stderr",
     "output_type": "stream",
     "text": [
      "5559472it [00:29, 331913.91it/s]"
     ]
    },
    {
     "name": "stdout",
     "output_type": "stream",
     "text": [
      "Processing row: 5500000/20994353\n"
     ]
    },
    {
     "name": "stderr",
     "output_type": "stream",
     "text": [
      "5658253it [00:29, 324835.31it/s]"
     ]
    },
    {
     "name": "stdout",
     "output_type": "stream",
     "text": [
      "Processing row: 5600000/20994353\n"
     ]
    },
    {
     "name": "stderr",
     "output_type": "stream",
     "text": [
      "5694037it [00:43, 334189.22it/s]"
     ]
    },
    {
     "name": "stdout",
     "output_type": "stream",
     "text": [
      "Processing row: 5700000/20994353\n"
     ]
    },
    {
     "name": "stderr",
     "output_type": "stream",
     "text": [
      "5838981it [00:44, 29880.93it/s] "
     ]
    },
    {
     "name": "stdout",
     "output_type": "stream",
     "text": [
      "Processing row: 5800000/20994353\n"
     ]
    },
    {
     "name": "stderr",
     "output_type": "stream",
     "text": [
      "5937756it [00:44, 74512.33it/s]"
     ]
    },
    {
     "name": "stdout",
     "output_type": "stream",
     "text": [
      "Processing row: 5900000/20994353\n"
     ]
    },
    {
     "name": "stderr",
     "output_type": "stream",
     "text": [
      "6035150it [00:44, 150115.51it/s]"
     ]
    },
    {
     "name": "stdout",
     "output_type": "stream",
     "text": [
      "Processing row: 6000000/20994353\n"
     ]
    },
    {
     "name": "stderr",
     "output_type": "stream",
     "text": [
      "6141238it [00:45, 245196.75it/s]"
     ]
    },
    {
     "name": "stdout",
     "output_type": "stream",
     "text": [
      "Processing row: 6100000/20994353\n"
     ]
    },
    {
     "name": "stderr",
     "output_type": "stream",
     "text": [
      "6243059it [00:45, 291848.74it/s]"
     ]
    },
    {
     "name": "stdout",
     "output_type": "stream",
     "text": [
      "Processing row: 6200000/20994353\n"
     ]
    },
    {
     "name": "stderr",
     "output_type": "stream",
     "text": [
      "6346081it [00:45, 324913.74it/s]"
     ]
    },
    {
     "name": "stdout",
     "output_type": "stream",
     "text": [
      "Processing row: 6300000/20994353\n"
     ]
    },
    {
     "name": "stderr",
     "output_type": "stream",
     "text": [
      "6447809it [00:45, 323862.89it/s]"
     ]
    },
    {
     "name": "stdout",
     "output_type": "stream",
     "text": [
      "Processing row: 6400000/20994353\n"
     ]
    },
    {
     "name": "stderr",
     "output_type": "stream",
     "text": [
      "6549737it [00:46, 333952.06it/s]"
     ]
    },
    {
     "name": "stdout",
     "output_type": "stream",
     "text": [
      "Processing row: 6500000/20994353\n"
     ]
    },
    {
     "name": "stderr",
     "output_type": "stream",
     "text": [
      "6656071it [00:46, 340324.08it/s]"
     ]
    },
    {
     "name": "stdout",
     "output_type": "stream",
     "text": [
      "Processing row: 6600000/20994353\n"
     ]
    },
    {
     "name": "stderr",
     "output_type": "stream",
     "text": [
      "6762370it [00:46, 347816.04it/s]"
     ]
    },
    {
     "name": "stdout",
     "output_type": "stream",
     "text": [
      "Processing row: 6700000/20994353\n"
     ]
    },
    {
     "name": "stderr",
     "output_type": "stream",
     "text": [
      "6873619it [00:47, 363245.64it/s]"
     ]
    },
    {
     "name": "stdout",
     "output_type": "stream",
     "text": [
      "Processing row: 6800000/20994353\n"
     ]
    },
    {
     "name": "stderr",
     "output_type": "stream",
     "text": [
      "6945603it [00:47, 341721.86it/s]"
     ]
    },
    {
     "name": "stdout",
     "output_type": "stream",
     "text": [
      "Processing row: 6900000/20994353\n"
     ]
    },
    {
     "name": "stderr",
     "output_type": "stream",
     "text": [
      "7047286it [00:47, 330663.91it/s]"
     ]
    },
    {
     "name": "stdout",
     "output_type": "stream",
     "text": [
      "Processing row: 7000000/20994353\n"
     ]
    },
    {
     "name": "stderr",
     "output_type": "stream",
     "text": [
      "7114753it [00:47, 332090.31it/s]"
     ]
    },
    {
     "name": "stdout",
     "output_type": "stream",
     "text": [
      "Processing row: 7100000/20994353\n"
     ]
    },
    {
     "name": "stderr",
     "output_type": "stream",
     "text": [
      "7260177it [01:09, 19509.96it/s] "
     ]
    },
    {
     "name": "stdout",
     "output_type": "stream",
     "text": [
      "Processing row: 7200000/20994353\n"
     ]
    },
    {
     "name": "stderr",
     "output_type": "stream",
     "text": [
      "7366759it [01:09, 55547.73it/s]"
     ]
    },
    {
     "name": "stdout",
     "output_type": "stream",
     "text": [
      "Processing row: 7300000/20994353\n"
     ]
    },
    {
     "name": "stderr",
     "output_type": "stream",
     "text": [
      "7433830it [01:09, 95806.38it/s]"
     ]
    },
    {
     "name": "stdout",
     "output_type": "stream",
     "text": [
      "Processing row: 7400000/20994353\n"
     ]
    },
    {
     "name": "stderr",
     "output_type": "stream",
     "text": [
      "7540820it [01:09, 186840.19it/s]"
     ]
    },
    {
     "name": "stdout",
     "output_type": "stream",
     "text": [
      "Processing row: 7500000/20994353\n"
     ]
    },
    {
     "name": "stderr",
     "output_type": "stream",
     "text": [
      "7650569it [01:10, 273322.37it/s]"
     ]
    },
    {
     "name": "stdout",
     "output_type": "stream",
     "text": [
      "Processing row: 7600000/20994353\n"
     ]
    },
    {
     "name": "stderr",
     "output_type": "stream",
     "text": [
      "7759820it [01:10, 322933.92it/s]"
     ]
    },
    {
     "name": "stdout",
     "output_type": "stream",
     "text": [
      "Processing row: 7700000/20994353\n"
     ]
    },
    {
     "name": "stderr",
     "output_type": "stream",
     "text": [
      "7865211it [01:10, 334038.04it/s]"
     ]
    },
    {
     "name": "stdout",
     "output_type": "stream",
     "text": [
      "Processing row: 7800000/20994353\n"
     ]
    },
    {
     "name": "stderr",
     "output_type": "stream",
     "text": [
      "7936703it [01:11, 341199.71it/s]"
     ]
    },
    {
     "name": "stdout",
     "output_type": "stream",
     "text": [
      "Processing row: 7900000/20994353\n"
     ]
    },
    {
     "name": "stderr",
     "output_type": "stream",
     "text": [
      "8043521it [01:11, 351961.84it/s]"
     ]
    },
    {
     "name": "stdout",
     "output_type": "stream",
     "text": [
      "Processing row: 8000000/20994353\n"
     ]
    },
    {
     "name": "stderr",
     "output_type": "stream",
     "text": [
      "8151168it [01:11, 355014.08it/s]"
     ]
    },
    {
     "name": "stdout",
     "output_type": "stream",
     "text": [
      "Processing row: 8100000/20994353\n"
     ]
    },
    {
     "name": "stderr",
     "output_type": "stream",
     "text": [
      "8257176it [01:12, 344106.32it/s]"
     ]
    },
    {
     "name": "stdout",
     "output_type": "stream",
     "text": [
      "Processing row: 8200000/20994353\n"
     ]
    },
    {
     "name": "stderr",
     "output_type": "stream",
     "text": [
      "8363904it [01:12, 351819.58it/s]"
     ]
    },
    {
     "name": "stdout",
     "output_type": "stream",
     "text": [
      "Processing row: 8300000/20994353\n"
     ]
    },
    {
     "name": "stderr",
     "output_type": "stream",
     "text": [
      "8434178it [01:12, 346006.29it/s]"
     ]
    },
    {
     "name": "stdout",
     "output_type": "stream",
     "text": [
      "Processing row: 8400000/20994353\n"
     ]
    },
    {
     "name": "stderr",
     "output_type": "stream",
     "text": [
      "8542317it [01:12, 351089.50it/s]"
     ]
    },
    {
     "name": "stdout",
     "output_type": "stream",
     "text": [
      "Processing row: 8500000/20994353\n"
     ]
    },
    {
     "name": "stderr",
     "output_type": "stream",
     "text": [
      "8652149it [01:13, 362829.70it/s]"
     ]
    },
    {
     "name": "stdout",
     "output_type": "stream",
     "text": [
      "Processing row: 8600000/20994353\n"
     ]
    },
    {
     "name": "stderr",
     "output_type": "stream",
     "text": [
      "8761728it [01:13, 362796.06it/s]"
     ]
    },
    {
     "name": "stdout",
     "output_type": "stream",
     "text": [
      "Processing row: 8700000/20994353\n"
     ]
    },
    {
     "name": "stderr",
     "output_type": "stream",
     "text": [
      "8798018it [01:44, 353890.07it/s]"
     ]
    },
    {
     "name": "stdout",
     "output_type": "stream",
     "text": [
      "Processing row: 8800000/20994353\n"
     ]
    },
    {
     "name": "stderr",
     "output_type": "stream",
     "text": [
      "8951626it [01:44, 19327.12it/s] "
     ]
    },
    {
     "name": "stdout",
     "output_type": "stream",
     "text": [
      "Processing row: 8900000/20994353\n"
     ]
    },
    {
     "name": "stderr",
     "output_type": "stream",
     "text": [
      "9052524it [01:44, 52635.51it/s]"
     ]
    },
    {
     "name": "stdout",
     "output_type": "stream",
     "text": [
      "Processing row: 9000000/20994353\n"
     ]
    },
    {
     "name": "stderr",
     "output_type": "stream",
     "text": [
      "9162225it [01:45, 124402.88it/s]"
     ]
    },
    {
     "name": "stdout",
     "output_type": "stream",
     "text": [
      "Processing row: 9100000/20994353\n"
     ]
    },
    {
     "name": "stderr",
     "output_type": "stream",
     "text": [
      "9266604it [01:45, 213666.39it/s]"
     ]
    },
    {
     "name": "stdout",
     "output_type": "stream",
     "text": [
      "Processing row: 9200000/20994353\n"
     ]
    },
    {
     "name": "stderr",
     "output_type": "stream",
     "text": [
      "9337165it [01:45, 266017.89it/s]"
     ]
    },
    {
     "name": "stdout",
     "output_type": "stream",
     "text": [
      "Processing row: 9300000/20994353\n"
     ]
    },
    {
     "name": "stderr",
     "output_type": "stream",
     "text": [
      "9448198it [01:46, 327164.08it/s]"
     ]
    },
    {
     "name": "stdout",
     "output_type": "stream",
     "text": [
      "Processing row: 9400000/20994353\n"
     ]
    },
    {
     "name": "stderr",
     "output_type": "stream",
     "text": [
      "9557004it [01:46, 348737.38it/s]"
     ]
    },
    {
     "name": "stdout",
     "output_type": "stream",
     "text": [
      "Processing row: 9500000/20994353\n"
     ]
    },
    {
     "name": "stderr",
     "output_type": "stream",
     "text": [
      "9669506it [01:46, 358117.95it/s]"
     ]
    },
    {
     "name": "stdout",
     "output_type": "stream",
     "text": [
      "Processing row: 9600000/20994353\n"
     ]
    },
    {
     "name": "stderr",
     "output_type": "stream",
     "text": [
      "9741153it [01:46, 345653.13it/s]"
     ]
    },
    {
     "name": "stdout",
     "output_type": "stream",
     "text": [
      "Processing row: 9700000/20994353\n"
     ]
    },
    {
     "name": "stderr",
     "output_type": "stream",
     "text": [
      "9849091it [01:47, 353371.70it/s]"
     ]
    },
    {
     "name": "stdout",
     "output_type": "stream",
     "text": [
      "Processing row: 9800000/20994353\n"
     ]
    },
    {
     "name": "stderr",
     "output_type": "stream",
     "text": [
      "9957226it [01:47, 354427.95it/s]"
     ]
    },
    {
     "name": "stdout",
     "output_type": "stream",
     "text": [
      "Processing row: 9900000/20994353\n"
     ]
    },
    {
     "name": "stderr",
     "output_type": "stream",
     "text": [
      "10067955it [01:47, 361431.24it/s]"
     ]
    },
    {
     "name": "stdout",
     "output_type": "stream",
     "text": [
      "Processing row: 10000000/20994353\n"
     ]
    },
    {
     "name": "stderr",
     "output_type": "stream",
     "text": [
      "10141844it [01:48, 365516.54it/s]"
     ]
    },
    {
     "name": "stdout",
     "output_type": "stream",
     "text": [
      "Processing row: 10100000/20994353\n"
     ]
    },
    {
     "name": "stderr",
     "output_type": "stream",
     "text": [
      "10258493it [01:48, 381398.08it/s]"
     ]
    },
    {
     "name": "stdout",
     "output_type": "stream",
     "text": [
      "Processing row: 10200000/20994353\n"
     ]
    },
    {
     "name": "stderr",
     "output_type": "stream",
     "text": [
      "10373738it [01:48, 377946.69it/s]"
     ]
    },
    {
     "name": "stdout",
     "output_type": "stream",
     "text": [
      "Processing row: 10300000/20994353\n"
     ]
    },
    {
     "name": "stderr",
     "output_type": "stream",
     "text": [
      "10449183it [01:48, 372037.75it/s]"
     ]
    },
    {
     "name": "stdout",
     "output_type": "stream",
     "text": [
      "Processing row: 10400000/20994353\n"
     ]
    },
    {
     "name": "stderr",
     "output_type": "stream",
     "text": [
      "10559967it [01:49, 361213.93it/s]"
     ]
    },
    {
     "name": "stdout",
     "output_type": "stream",
     "text": [
      "Processing row: 10500000/20994353\n"
     ]
    },
    {
     "name": "stderr",
     "output_type": "stream",
     "text": [
      "10674827it [01:49, 376340.85it/s]"
     ]
    },
    {
     "name": "stdout",
     "output_type": "stream",
     "text": [
      "Processing row: 10600000/20994353\n"
     ]
    },
    {
     "name": "stderr",
     "output_type": "stream",
     "text": [
      "10749363it [01:49, 359195.43it/s]"
     ]
    },
    {
     "name": "stdout",
     "output_type": "stream",
     "text": [
      "Processing row: 10700000/20994353\n"
     ]
    },
    {
     "name": "stderr",
     "output_type": "stream",
     "text": [
      "10856980it [01:50, 350197.46it/s]"
     ]
    },
    {
     "name": "stdout",
     "output_type": "stream",
     "text": [
      "Processing row: 10800000/20994353\n"
     ]
    },
    {
     "name": "stderr",
     "output_type": "stream",
     "text": [
      "10929184it [01:50, 356331.78it/s]"
     ]
    },
    {
     "name": "stdout",
     "output_type": "stream",
     "text": [
      "Processing row: 10900000/20994353\n"
     ]
    },
    {
     "name": "stderr",
     "output_type": "stream",
     "text": [
      "11039184it [03:31, 2926.59it/s]  "
     ]
    },
    {
     "name": "stdout",
     "output_type": "stream",
     "text": [
      "Processing row: 11000000/20994353\n"
     ]
    },
    {
     "name": "stderr",
     "output_type": "stream",
     "text": [
      "11165062it [03:31, 12424.02it/s]"
     ]
    },
    {
     "name": "stdout",
     "output_type": "stream",
     "text": [
      "Processing row: 11100000/20994353\n"
     ]
    },
    {
     "name": "stderr",
     "output_type": "stream",
     "text": [
      "11270566it [03:31, 36111.45it/s]"
     ]
    },
    {
     "name": "stdout",
     "output_type": "stream",
     "text": [
      "Processing row: 11200000/20994353\n"
     ]
    },
    {
     "name": "stderr",
     "output_type": "stream",
     "text": [
      "11340321it [03:32, 66928.16it/s]"
     ]
    },
    {
     "name": "stdout",
     "output_type": "stream",
     "text": [
      "Processing row: 11300000/20994353\n"
     ]
    },
    {
     "name": "stderr",
     "output_type": "stream",
     "text": [
      "11451091it [03:32, 148929.99it/s]"
     ]
    },
    {
     "name": "stdout",
     "output_type": "stream",
     "text": [
      "Processing row: 11400000/20994353\n"
     ]
    },
    {
     "name": "stderr",
     "output_type": "stream",
     "text": [
      "11559732it [03:32, 241756.27it/s]"
     ]
    },
    {
     "name": "stdout",
     "output_type": "stream",
     "text": [
      "Processing row: 11500000/20994353\n"
     ]
    },
    {
     "name": "stderr",
     "output_type": "stream",
     "text": [
      "11672370it [03:33, 318059.15it/s]"
     ]
    },
    {
     "name": "stdout",
     "output_type": "stream",
     "text": [
      "Processing row: 11600000/20994353\n"
     ]
    },
    {
     "name": "stderr",
     "output_type": "stream",
     "text": [
      "11746550it [03:33, 337997.80it/s]"
     ]
    },
    {
     "name": "stdout",
     "output_type": "stream",
     "text": [
      "Processing row: 11700000/20994353\n"
     ]
    },
    {
     "name": "stderr",
     "output_type": "stream",
     "text": [
      "11861765it [03:33, 367218.64it/s]"
     ]
    },
    {
     "name": "stdout",
     "output_type": "stream",
     "text": [
      "Processing row: 11800000/20994353\n"
     ]
    },
    {
     "name": "stderr",
     "output_type": "stream",
     "text": [
      "11976010it [03:33, 375552.70it/s]"
     ]
    },
    {
     "name": "stdout",
     "output_type": "stream",
     "text": [
      "Processing row: 11900000/20994353\n"
     ]
    },
    {
     "name": "stderr",
     "output_type": "stream",
     "text": [
      "12051613it [03:34, 358833.49it/s]"
     ]
    },
    {
     "name": "stdout",
     "output_type": "stream",
     "text": [
      "Processing row: 12000000/20994353\n"
     ]
    },
    {
     "name": "stderr",
     "output_type": "stream",
     "text": [
      "12167117it [03:34, 379135.76it/s]"
     ]
    },
    {
     "name": "stdout",
     "output_type": "stream",
     "text": [
      "Processing row: 12100000/20994353\n"
     ]
    },
    {
     "name": "stderr",
     "output_type": "stream",
     "text": [
      "12242514it [03:34, 367060.22it/s]"
     ]
    },
    {
     "name": "stdout",
     "output_type": "stream",
     "text": [
      "Processing row: 12200000/20994353\n"
     ]
    },
    {
     "name": "stderr",
     "output_type": "stream",
     "text": [
      "12351708it [03:34, 358546.51it/s]"
     ]
    },
    {
     "name": "stdout",
     "output_type": "stream",
     "text": [
      "Processing row: 12300000/20994353\n"
     ]
    },
    {
     "name": "stderr",
     "output_type": "stream",
     "text": [
      "12462985it [03:35, 366642.95it/s]"
     ]
    },
    {
     "name": "stdout",
     "output_type": "stream",
     "text": [
      "Processing row: 12400000/20994353\n"
     ]
    },
    {
     "name": "stderr",
     "output_type": "stream",
     "text": [
      "12574480it [03:35, 365781.70it/s]"
     ]
    },
    {
     "name": "stdout",
     "output_type": "stream",
     "text": [
      "Processing row: 12500000/20994353\n"
     ]
    },
    {
     "name": "stderr",
     "output_type": "stream",
     "text": [
      "12647100it [03:35, 354989.90it/s]"
     ]
    },
    {
     "name": "stdout",
     "output_type": "stream",
     "text": [
      "Processing row: 12600000/20994353\n"
     ]
    },
    {
     "name": "stderr",
     "output_type": "stream",
     "text": [
      "12756596it [03:35, 363529.29it/s]"
     ]
    },
    {
     "name": "stdout",
     "output_type": "stream",
     "text": [
      "Processing row: 12700000/20994353\n"
     ]
    },
    {
     "name": "stderr",
     "output_type": "stream",
     "text": [
      "12867544it [03:36, 366717.68it/s]"
     ]
    },
    {
     "name": "stdout",
     "output_type": "stream",
     "text": [
      "Processing row: 12800000/20994353\n"
     ]
    },
    {
     "name": "stderr",
     "output_type": "stream",
     "text": [
      "12941172it [03:36, 362930.17it/s]"
     ]
    },
    {
     "name": "stdout",
     "output_type": "stream",
     "text": [
      "Processing row: 12900000/20994353\n"
     ]
    },
    {
     "name": "stderr",
     "output_type": "stream",
     "text": [
      "13055853it [03:36, 354719.01it/s]"
     ]
    },
    {
     "name": "stdout",
     "output_type": "stream",
     "text": [
      "Processing row: 13000000/20994353\n"
     ]
    },
    {
     "name": "stderr",
     "output_type": "stream",
     "text": [
      "13168839it [03:37, 361094.01it/s]"
     ]
    },
    {
     "name": "stdout",
     "output_type": "stream",
     "text": [
      "Processing row: 13100000/20994353\n"
     ]
    },
    {
     "name": "stderr",
     "output_type": "stream",
     "text": [
      "13240623it [03:37, 353982.37it/s]"
     ]
    },
    {
     "name": "stdout",
     "output_type": "stream",
     "text": [
      "Processing row: 13200000/20994353\n"
     ]
    },
    {
     "name": "stderr",
     "output_type": "stream",
     "text": [
      "13356888it [03:37, 361018.91it/s]"
     ]
    },
    {
     "name": "stdout",
     "output_type": "stream",
     "text": [
      "Processing row: 13300000/20994353\n"
     ]
    },
    {
     "name": "stderr",
     "output_type": "stream",
     "text": [
      "13468117it [03:37, 368144.73it/s]"
     ]
    },
    {
     "name": "stdout",
     "output_type": "stream",
     "text": [
      "Processing row: 13400000/20994353\n"
     ]
    },
    {
     "name": "stderr",
     "output_type": "stream",
     "text": [
      "13504974it [03:38, 355237.80it/s]"
     ]
    },
    {
     "name": "stdout",
     "output_type": "stream",
     "text": [
      "Processing row: 13500000/20994353\n"
     ]
    },
    {
     "name": "stderr",
     "output_type": "stream",
     "text": [
      "13631886it [06:14, 2412.15it/s]  "
     ]
    },
    {
     "name": "stdout",
     "output_type": "stream",
     "text": [
      "Processing row: 13600000/20994353\n"
     ]
    },
    {
     "name": "stderr",
     "output_type": "stream",
     "text": [
      "13763078it [06:14, 11367.97it/s]"
     ]
    },
    {
     "name": "stdout",
     "output_type": "stream",
     "text": [
      "Processing row: 13700000/20994353\n"
     ]
    },
    {
     "name": "stderr",
     "output_type": "stream",
     "text": [
      "13864411it [06:15, 32414.58it/s]"
     ]
    },
    {
     "name": "stdout",
     "output_type": "stream",
     "text": [
      "Processing row: 13800000/20994353\n"
     ]
    },
    {
     "name": "stderr",
     "output_type": "stream",
     "text": [
      "13967896it [06:15, 82035.55it/s]"
     ]
    },
    {
     "name": "stdout",
     "output_type": "stream",
     "text": [
      "Processing row: 13900000/20994353\n"
     ]
    },
    {
     "name": "stderr",
     "output_type": "stream",
     "text": [
      "14037640it [06:15, 135481.30it/s]"
     ]
    },
    {
     "name": "stdout",
     "output_type": "stream",
     "text": [
      "Processing row: 14000000/20994353\n"
     ]
    },
    {
     "name": "stderr",
     "output_type": "stream",
     "text": [
      "14145187it [06:15, 231213.58it/s]"
     ]
    },
    {
     "name": "stdout",
     "output_type": "stream",
     "text": [
      "Processing row: 14100000/20994353\n"
     ]
    },
    {
     "name": "stderr",
     "output_type": "stream",
     "text": [
      "14254866it [06:16, 306515.92it/s]"
     ]
    },
    {
     "name": "stdout",
     "output_type": "stream",
     "text": [
      "Processing row: 14200000/20994353\n"
     ]
    },
    {
     "name": "stderr",
     "output_type": "stream",
     "text": [
      "14365995it [06:16, 335706.57it/s]"
     ]
    },
    {
     "name": "stdout",
     "output_type": "stream",
     "text": [
      "Processing row: 14300000/20994353\n"
     ]
    },
    {
     "name": "stderr",
     "output_type": "stream",
     "text": [
      "14439300it [06:16, 349759.73it/s]"
     ]
    },
    {
     "name": "stdout",
     "output_type": "stream",
     "text": [
      "Processing row: 14400000/20994353\n"
     ]
    },
    {
     "name": "stderr",
     "output_type": "stream",
     "text": [
      "14544882it [06:17, 342149.30it/s]"
     ]
    },
    {
     "name": "stdout",
     "output_type": "stream",
     "text": [
      "Processing row: 14500000/20994353\n"
     ]
    },
    {
     "name": "stderr",
     "output_type": "stream",
     "text": [
      "14653801it [06:17, 357644.51it/s]"
     ]
    },
    {
     "name": "stdout",
     "output_type": "stream",
     "text": [
      "Processing row: 14600000/20994353\n"
     ]
    },
    {
     "name": "stderr",
     "output_type": "stream",
     "text": [
      "14764636it [06:17, 360993.94it/s]"
     ]
    },
    {
     "name": "stdout",
     "output_type": "stream",
     "text": [
      "Processing row: 14700000/20994353\n"
     ]
    },
    {
     "name": "stderr",
     "output_type": "stream",
     "text": [
      "14839764it [06:17, 359975.25it/s]"
     ]
    },
    {
     "name": "stdout",
     "output_type": "stream",
     "text": [
      "Processing row: 14800000/20994353\n"
     ]
    },
    {
     "name": "stderr",
     "output_type": "stream",
     "text": [
      "14951414it [06:18, 368685.22it/s]"
     ]
    },
    {
     "name": "stdout",
     "output_type": "stream",
     "text": [
      "Processing row: 14900000/20994353\n"
     ]
    },
    {
     "name": "stderr",
     "output_type": "stream",
     "text": [
      "15061423it [06:18, 357235.86it/s]"
     ]
    },
    {
     "name": "stdout",
     "output_type": "stream",
     "text": [
      "Processing row: 15000000/20994353\n"
     ]
    },
    {
     "name": "stderr",
     "output_type": "stream",
     "text": [
      "15169944it [06:18, 357801.02it/s]"
     ]
    },
    {
     "name": "stdout",
     "output_type": "stream",
     "text": [
      "Processing row: 15100000/20994353\n"
     ]
    },
    {
     "name": "stderr",
     "output_type": "stream",
     "text": [
      "15241394it [06:19, 352814.15it/s]"
     ]
    },
    {
     "name": "stdout",
     "output_type": "stream",
     "text": [
      "Processing row: 15200000/20994353\n"
     ]
    },
    {
     "name": "stderr",
     "output_type": "stream",
     "text": [
      "15350645it [06:19, 360856.28it/s]"
     ]
    },
    {
     "name": "stdout",
     "output_type": "stream",
     "text": [
      "Processing row: 15300000/20994353\n"
     ]
    },
    {
     "name": "stderr",
     "output_type": "stream",
     "text": [
      "15458772it [06:19, 353529.52it/s]"
     ]
    },
    {
     "name": "stdout",
     "output_type": "stream",
     "text": [
      "Processing row: 15400000/20994353\n"
     ]
    },
    {
     "name": "stderr",
     "output_type": "stream",
     "text": [
      "15566688it [06:19, 357451.62it/s]"
     ]
    },
    {
     "name": "stdout",
     "output_type": "stream",
     "text": [
      "Processing row: 15500000/20994353\n"
     ]
    },
    {
     "name": "stderr",
     "output_type": "stream",
     "text": [
      "15642671it [06:20, 368414.87it/s]"
     ]
    },
    {
     "name": "stdout",
     "output_type": "stream",
     "text": [
      "Processing row: 15600000/20994353\n"
     ]
    },
    {
     "name": "stderr",
     "output_type": "stream",
     "text": [
      "15751380it [06:20, 358540.51it/s]"
     ]
    },
    {
     "name": "stdout",
     "output_type": "stream",
     "text": [
      "Processing row: 15700000/20994353\n"
     ]
    },
    {
     "name": "stderr",
     "output_type": "stream",
     "text": [
      "15860454it [06:20, 359414.87it/s]"
     ]
    },
    {
     "name": "stdout",
     "output_type": "stream",
     "text": [
      "Processing row: 15800000/20994353\n"
     ]
    },
    {
     "name": "stderr",
     "output_type": "stream",
     "text": [
      "15967837it [06:21, 354887.59it/s]"
     ]
    },
    {
     "name": "stdout",
     "output_type": "stream",
     "text": [
      "Processing row: 15900000/20994353\n"
     ]
    },
    {
     "name": "stderr",
     "output_type": "stream",
     "text": [
      "16040292it [06:21, 358557.48it/s]"
     ]
    },
    {
     "name": "stdout",
     "output_type": "stream",
     "text": [
      "Processing row: 16000000/20994353\n"
     ]
    },
    {
     "name": "stderr",
     "output_type": "stream",
     "text": [
      "16150094it [06:21, 361062.70it/s]"
     ]
    },
    {
     "name": "stdout",
     "output_type": "stream",
     "text": [
      "Processing row: 16100000/20994353\n"
     ]
    },
    {
     "name": "stderr",
     "output_type": "stream",
     "text": [
      "16257507it [06:21, 349369.13it/s]"
     ]
    },
    {
     "name": "stdout",
     "output_type": "stream",
     "text": [
      "Processing row: 16200000/20994353\n"
     ]
    },
    {
     "name": "stderr",
     "output_type": "stream",
     "text": [
      "16361940it [06:22, 342147.15it/s]"
     ]
    },
    {
     "name": "stdout",
     "output_type": "stream",
     "text": [
      "Processing row: 16300000/20994353\n"
     ]
    },
    {
     "name": "stderr",
     "output_type": "stream",
     "text": [
      "16469417it [06:22, 354205.77it/s]"
     ]
    },
    {
     "name": "stdout",
     "output_type": "stream",
     "text": [
      "Processing row: 16400000/20994353\n"
     ]
    },
    {
     "name": "stderr",
     "output_type": "stream",
     "text": [
      "16532958it [10:23, 763.44it/s]   "
     ]
    },
    {
     "name": "stdout",
     "output_type": "stream",
     "text": [
      "Processing row: 16500000/20994353\n"
     ]
    },
    {
     "name": "stderr",
     "output_type": "stream",
     "text": [
      "16658548it [10:23, 3594.74it/s]"
     ]
    },
    {
     "name": "stdout",
     "output_type": "stream",
     "text": [
      "Processing row: 16600000/20994353\n"
     ]
    },
    {
     "name": "stderr",
     "output_type": "stream",
     "text": [
      "16762334it [10:24, 11221.58it/s]"
     ]
    },
    {
     "name": "stdout",
     "output_type": "stream",
     "text": [
      "Processing row: 16700000/20994353\n"
     ]
    },
    {
     "name": "stderr",
     "output_type": "stream",
     "text": [
      "16865967it [10:24, 31174.36it/s]"
     ]
    },
    {
     "name": "stdout",
     "output_type": "stream",
     "text": [
      "Processing row: 16800000/20994353\n"
     ]
    },
    {
     "name": "stderr",
     "output_type": "stream",
     "text": [
      "16967300it [10:24, 76343.89it/s]"
     ]
    },
    {
     "name": "stdout",
     "output_type": "stream",
     "text": [
      "Processing row: 16900000/20994353\n"
     ]
    },
    {
     "name": "stderr",
     "output_type": "stream",
     "text": [
      "17070886it [10:25, 157458.35it/s]"
     ]
    },
    {
     "name": "stdout",
     "output_type": "stream",
     "text": [
      "Processing row: 17000000/20994353\n"
     ]
    },
    {
     "name": "stderr",
     "output_type": "stream",
     "text": [
      "17142274it [10:25, 221883.64it/s]"
     ]
    },
    {
     "name": "stdout",
     "output_type": "stream",
     "text": [
      "Processing row: 17100000/20994353\n"
     ]
    },
    {
     "name": "stderr",
     "output_type": "stream",
     "text": [
      "17247391it [10:25, 290221.07it/s]"
     ]
    },
    {
     "name": "stdout",
     "output_type": "stream",
     "text": [
      "Processing row: 17200000/20994353\n"
     ]
    },
    {
     "name": "stderr",
     "output_type": "stream",
     "text": [
      "17353239it [10:25, 326337.14it/s]"
     ]
    },
    {
     "name": "stdout",
     "output_type": "stream",
     "text": [
      "Processing row: 17300000/20994353\n"
     ]
    },
    {
     "name": "stderr",
     "output_type": "stream",
     "text": [
      "17457826it [10:26, 337747.76it/s]"
     ]
    },
    {
     "name": "stdout",
     "output_type": "stream",
     "text": [
      "Processing row: 17400000/20994353\n"
     ]
    },
    {
     "name": "stderr",
     "output_type": "stream",
     "text": [
      "17566728it [10:26, 354111.31it/s]"
     ]
    },
    {
     "name": "stdout",
     "output_type": "stream",
     "text": [
      "Processing row: 17500000/20994353\n"
     ]
    },
    {
     "name": "stderr",
     "output_type": "stream",
     "text": [
      "17637944it [10:26, 344280.94it/s]"
     ]
    },
    {
     "name": "stdout",
     "output_type": "stream",
     "text": [
      "Processing row: 17600000/20994353\n"
     ]
    },
    {
     "name": "stderr",
     "output_type": "stream",
     "text": [
      "17741381it [10:27, 335871.42it/s]"
     ]
    },
    {
     "name": "stdout",
     "output_type": "stream",
     "text": [
      "Processing row: 17700000/20994353\n"
     ]
    },
    {
     "name": "stderr",
     "output_type": "stream",
     "text": [
      "17845891it [10:27, 341159.25it/s]"
     ]
    },
    {
     "name": "stdout",
     "output_type": "stream",
     "text": [
      "Processing row: 17800000/20994353\n"
     ]
    },
    {
     "name": "stderr",
     "output_type": "stream",
     "text": [
      "17954983it [10:27, 349571.60it/s]"
     ]
    },
    {
     "name": "stdout",
     "output_type": "stream",
     "text": [
      "Processing row: 17900000/20994353\n"
     ]
    },
    {
     "name": "stderr",
     "output_type": "stream",
     "text": [
      "18060930it [10:27, 344264.45it/s]"
     ]
    },
    {
     "name": "stdout",
     "output_type": "stream",
     "text": [
      "Processing row: 18000000/20994353\n"
     ]
    },
    {
     "name": "stderr",
     "output_type": "stream",
     "text": [
      "18168026it [10:28, 352150.18it/s]"
     ]
    },
    {
     "name": "stdout",
     "output_type": "stream",
     "text": [
      "Processing row: 18100000/20994353\n"
     ]
    },
    {
     "name": "stderr",
     "output_type": "stream",
     "text": [
      "18240565it [10:28, 358306.65it/s]"
     ]
    },
    {
     "name": "stdout",
     "output_type": "stream",
     "text": [
      "Processing row: 18200000/20994353\n"
     ]
    },
    {
     "name": "stderr",
     "output_type": "stream",
     "text": [
      "18349780it [10:28, 361378.53it/s]"
     ]
    },
    {
     "name": "stdout",
     "output_type": "stream",
     "text": [
      "Processing row: 18300000/20994353\n"
     ]
    },
    {
     "name": "stderr",
     "output_type": "stream",
     "text": [
      "18461577it [10:29, 367651.75it/s]"
     ]
    },
    {
     "name": "stdout",
     "output_type": "stream",
     "text": [
      "Processing row: 18400000/20994353\n"
     ]
    },
    {
     "name": "stderr",
     "output_type": "stream",
     "text": [
      "18539867it [10:29, 379434.51it/s]"
     ]
    },
    {
     "name": "stdout",
     "output_type": "stream",
     "text": [
      "Processing row: 18500000/20994353\n"
     ]
    },
    {
     "name": "stderr",
     "output_type": "stream",
     "text": [
      "18655192it [10:29, 378193.04it/s]"
     ]
    },
    {
     "name": "stdout",
     "output_type": "stream",
     "text": [
      "Processing row: 18600000/20994353\n"
     ]
    },
    {
     "name": "stderr",
     "output_type": "stream",
     "text": [
      "18770603it [10:29, 380948.67it/s]"
     ]
    },
    {
     "name": "stdout",
     "output_type": "stream",
     "text": [
      "Processing row: 18700000/20994353\n"
     ]
    },
    {
     "name": "stderr",
     "output_type": "stream",
     "text": [
      "18849062it [10:30, 386207.74it/s]"
     ]
    },
    {
     "name": "stdout",
     "output_type": "stream",
     "text": [
      "Processing row: 18800000/20994353\n"
     ]
    },
    {
     "name": "stderr",
     "output_type": "stream",
     "text": [
      "18965782it [10:30, 386258.01it/s]"
     ]
    },
    {
     "name": "stdout",
     "output_type": "stream",
     "text": [
      "Processing row: 18900000/20994353\n"
     ]
    },
    {
     "name": "stderr",
     "output_type": "stream",
     "text": [
      "19044056it [10:30, 389122.41it/s]"
     ]
    },
    {
     "name": "stdout",
     "output_type": "stream",
     "text": [
      "Processing row: 19000000/20994353\n"
     ]
    },
    {
     "name": "stderr",
     "output_type": "stream",
     "text": [
      "19159800it [10:30, 380962.68it/s]"
     ]
    },
    {
     "name": "stdout",
     "output_type": "stream",
     "text": [
      "Processing row: 19100000/20994353\n"
     ]
    },
    {
     "name": "stderr",
     "output_type": "stream",
     "text": [
      "19280754it [10:31, 396164.18it/s]"
     ]
    },
    {
     "name": "stdout",
     "output_type": "stream",
     "text": [
      "Processing row: 19200000/20994353\n"
     ]
    },
    {
     "name": "stderr",
     "output_type": "stream",
     "text": [
      "19361142it [10:31, 398095.69it/s]"
     ]
    },
    {
     "name": "stdout",
     "output_type": "stream",
     "text": [
      "Processing row: 19300000/20994353\n"
     ]
    },
    {
     "name": "stderr",
     "output_type": "stream",
     "text": [
      "19442423it [10:31, 402676.42it/s]"
     ]
    },
    {
     "name": "stdout",
     "output_type": "stream",
     "text": [
      "Processing row: 19400000/20994353\n"
     ]
    },
    {
     "name": "stderr",
     "output_type": "stream",
     "text": [
      "19564326it [10:31, 401457.94it/s]"
     ]
    },
    {
     "name": "stdout",
     "output_type": "stream",
     "text": [
      "Processing row: 19500000/20994353\n"
     ]
    },
    {
     "name": "stderr",
     "output_type": "stream",
     "text": [
      "19646233it [10:32, 405793.24it/s]"
     ]
    },
    {
     "name": "stdout",
     "output_type": "stream",
     "text": [
      "Processing row: 19600000/20994353\n"
     ]
    },
    {
     "name": "stderr",
     "output_type": "stream",
     "text": [
      "19770564it [10:32, 411759.31it/s]"
     ]
    },
    {
     "name": "stdout",
     "output_type": "stream",
     "text": [
      "Processing row: 19700000/20994353\n"
     ]
    },
    {
     "name": "stderr",
     "output_type": "stream",
     "text": [
      "19853406it [10:32, 413062.31it/s]"
     ]
    },
    {
     "name": "stdout",
     "output_type": "stream",
     "text": [
      "Processing row: 19800000/20994353\n"
     ]
    },
    {
     "name": "stderr",
     "output_type": "stream",
     "text": [
      "19975456it [10:32, 398514.21it/s]"
     ]
    },
    {
     "name": "stdout",
     "output_type": "stream",
     "text": [
      "Processing row: 19900000/20994353\n"
     ]
    },
    {
     "name": "stderr",
     "output_type": "stream",
     "text": [
      "20055188it [10:33, 393661.08it/s]"
     ]
    },
    {
     "name": "stdout",
     "output_type": "stream",
     "text": [
      "Processing row: 20000000/20994353\n"
     ]
    },
    {
     "name": "stderr",
     "output_type": "stream",
     "text": [
      "20173993it [10:33, 389652.55it/s]"
     ]
    },
    {
     "name": "stdout",
     "output_type": "stream",
     "text": [
      "Processing row: 20100000/20994353\n"
     ]
    },
    {
     "name": "stderr",
     "output_type": "stream",
     "text": [
      "20251607it [10:33, 382806.14it/s]"
     ]
    },
    {
     "name": "stdout",
     "output_type": "stream",
     "text": [
      "Processing row: 20200000/20994353\n"
     ]
    },
    {
     "name": "stderr",
     "output_type": "stream",
     "text": [
      "20370150it [10:33, 391660.84it/s]"
     ]
    },
    {
     "name": "stdout",
     "output_type": "stream",
     "text": [
      "Processing row: 20300000/20994353\n"
     ]
    },
    {
     "name": "stderr",
     "output_type": "stream",
     "text": [
      "20447837it [10:34, 382055.76it/s]"
     ]
    },
    {
     "name": "stdout",
     "output_type": "stream",
     "text": [
      "Processing row: 20400000/20994353\n"
     ]
    },
    {
     "name": "stderr",
     "output_type": "stream",
     "text": [
      "20563614it [10:34, 380969.99it/s]"
     ]
    },
    {
     "name": "stdout",
     "output_type": "stream",
     "text": [
      "Processing row: 20500000/20994353\n"
     ]
    },
    {
     "name": "stderr",
     "output_type": "stream",
     "text": [
      "20678345it [10:34, 380099.86it/s]"
     ]
    },
    {
     "name": "stdout",
     "output_type": "stream",
     "text": [
      "Processing row: 20600000/20994353\n"
     ]
    },
    {
     "name": "stderr",
     "output_type": "stream",
     "text": [
      "20757280it [10:34, 387990.99it/s]"
     ]
    },
    {
     "name": "stdout",
     "output_type": "stream",
     "text": [
      "Processing row: 20700000/20994353\n"
     ]
    },
    {
     "name": "stderr",
     "output_type": "stream",
     "text": [
      "20875376it [10:35, 388382.20it/s]"
     ]
    },
    {
     "name": "stdout",
     "output_type": "stream",
     "text": [
      "Processing row: 20800000/20994353\n"
     ]
    },
    {
     "name": "stderr",
     "output_type": "stream",
     "text": [
      "20952701it [10:35, 378412.63it/s]"
     ]
    },
    {
     "name": "stdout",
     "output_type": "stream",
     "text": [
      "Processing row: 20900000/20994353\n"
     ]
    },
    {
     "name": "stderr",
     "output_type": "stream",
     "text": [
      "20994353it [10:35, 33033.31it/s] \n"
     ]
    },
    {
     "name": "stdout",
     "output_type": "stream",
     "text": [
      "All rows loaded to json objects: 20994353/20994353\n",
      "pushing json objects to pd.df\n"
     ]
    }
   ],
   "source": [
    "df_main = load_json_to_df(file_path=\"Electronics.json\", partition = 1)"
   ]
  },
  {
   "cell_type": "code",
   "execution_count": 6,
   "id": "37866098",
   "metadata": {},
   "outputs": [
    {
     "name": "stdout",
     "output_type": "stream",
     "text": [
      "<class 'pandas.core.frame.DataFrame'>\n",
      "RangeIndex: 20994353 entries, 0 to 20994352\n",
      "Data columns (total 12 columns):\n",
      " #   Column          Dtype  \n",
      "---  ------          -----  \n",
      " 0   overall         float64\n",
      " 1   verified        bool   \n",
      " 2   reviewTime      object \n",
      " 3   reviewerID      object \n",
      " 4   asin            object \n",
      " 5   style           object \n",
      " 6   reviewerName    object \n",
      " 7   reviewText      object \n",
      " 8   summary         object \n",
      " 9   unixReviewTime  int64  \n",
      " 10  vote            object \n",
      " 11  image           object \n",
      "dtypes: bool(1), float64(1), int64(1), object(9)\n",
      "memory usage: 1.7+ GB\n"
     ]
    }
   ],
   "source": [
    "df_main.info()"
   ]
  },
  {
   "cell_type": "code",
   "execution_count": 7,
   "id": "8da7d055",
   "metadata": {},
   "outputs": [
    {
     "data": {
      "text/html": [
       "<div>\n",
       "<style scoped>\n",
       "    .dataframe tbody tr th:only-of-type {\n",
       "        vertical-align: middle;\n",
       "    }\n",
       "\n",
       "    .dataframe tbody tr th {\n",
       "        vertical-align: top;\n",
       "    }\n",
       "\n",
       "    .dataframe thead th {\n",
       "        text-align: right;\n",
       "    }\n",
       "</style>\n",
       "<table border=\"1\" class=\"dataframe\">\n",
       "  <thead>\n",
       "    <tr style=\"text-align: right;\">\n",
       "      <th></th>\n",
       "      <th>overall</th>\n",
       "      <th>verified</th>\n",
       "      <th>reviewTime</th>\n",
       "      <th>reviewerID</th>\n",
       "      <th>asin</th>\n",
       "      <th>style</th>\n",
       "      <th>reviewerName</th>\n",
       "      <th>reviewText</th>\n",
       "      <th>summary</th>\n",
       "      <th>unixReviewTime</th>\n",
       "      <th>vote</th>\n",
       "      <th>image</th>\n",
       "    </tr>\n",
       "  </thead>\n",
       "  <tbody>\n",
       "    <tr>\n",
       "      <th>0</th>\n",
       "      <td>5.0</td>\n",
       "      <td>True</td>\n",
       "      <td>07 17, 2002</td>\n",
       "      <td>A1N070NS9CJQ2I</td>\n",
       "      <td>0060009810</td>\n",
       "      <td>{'Format:': ' Hardcover'}</td>\n",
       "      <td>Teri Adams</td>\n",
       "      <td>This was the first time I read Garcia-Aguilera...</td>\n",
       "      <td>Hit The Spot!</td>\n",
       "      <td>1026864000</td>\n",
       "      <td>NaN</td>\n",
       "      <td>NaN</td>\n",
       "    </tr>\n",
       "    <tr>\n",
       "      <th>1</th>\n",
       "      <td>5.0</td>\n",
       "      <td>False</td>\n",
       "      <td>07 6, 2002</td>\n",
       "      <td>A3P0KRKOBQK1KN</td>\n",
       "      <td>0060009810</td>\n",
       "      <td>{'Format:': ' Hardcover'}</td>\n",
       "      <td>Willa C.</td>\n",
       "      <td>As with all of Ms. Garcia-Aguilera's books, I ...</td>\n",
       "      <td>one hot summer is HOT HOT HOT!</td>\n",
       "      <td>1025913600</td>\n",
       "      <td>NaN</td>\n",
       "      <td>NaN</td>\n",
       "    </tr>\n",
       "    <tr>\n",
       "      <th>2</th>\n",
       "      <td>5.0</td>\n",
       "      <td>False</td>\n",
       "      <td>07 3, 2002</td>\n",
       "      <td>A192HO2ICJ75VU</td>\n",
       "      <td>0060009810</td>\n",
       "      <td>{'Format:': ' Hardcover'}</td>\n",
       "      <td>Kit</td>\n",
       "      <td>I've not read any of Ms Aguilera's works befor...</td>\n",
       "      <td>One Hot Summer</td>\n",
       "      <td>1025654400</td>\n",
       "      <td>2</td>\n",
       "      <td>NaN</td>\n",
       "    </tr>\n",
       "    <tr>\n",
       "      <th>3</th>\n",
       "      <td>4.0</td>\n",
       "      <td>False</td>\n",
       "      <td>06 30, 2002</td>\n",
       "      <td>A2T278FKFL3BLT</td>\n",
       "      <td>0060009810</td>\n",
       "      <td>{'Format:': ' Hardcover'}</td>\n",
       "      <td>Andres</td>\n",
       "      <td>This romance novel is right up there with the ...</td>\n",
       "      <td>I love this book!</td>\n",
       "      <td>1025395200</td>\n",
       "      <td>3</td>\n",
       "      <td>NaN</td>\n",
       "    </tr>\n",
       "    <tr>\n",
       "      <th>4</th>\n",
       "      <td>5.0</td>\n",
       "      <td>False</td>\n",
       "      <td>06 28, 2002</td>\n",
       "      <td>A2ZUXVTW8RXBXW</td>\n",
       "      <td>0060009810</td>\n",
       "      <td>{'Format:': ' Hardcover'}</td>\n",
       "      <td>John</td>\n",
       "      <td>Carolina Garcia Aguilera has done it again.  S...</td>\n",
       "      <td>One Hot Book</td>\n",
       "      <td>1025222400</td>\n",
       "      <td>NaN</td>\n",
       "      <td>NaN</td>\n",
       "    </tr>\n",
       "  </tbody>\n",
       "</table>\n",
       "</div>"
      ],
      "text/plain": [
       "   overall  verified   reviewTime      reviewerID        asin  \\\n",
       "0      5.0      True  07 17, 2002  A1N070NS9CJQ2I  0060009810   \n",
       "1      5.0     False   07 6, 2002  A3P0KRKOBQK1KN  0060009810   \n",
       "2      5.0     False   07 3, 2002  A192HO2ICJ75VU  0060009810   \n",
       "3      4.0     False  06 30, 2002  A2T278FKFL3BLT  0060009810   \n",
       "4      5.0     False  06 28, 2002  A2ZUXVTW8RXBXW  0060009810   \n",
       "\n",
       "                       style reviewerName  \\\n",
       "0  {'Format:': ' Hardcover'}   Teri Adams   \n",
       "1  {'Format:': ' Hardcover'}     Willa C.   \n",
       "2  {'Format:': ' Hardcover'}          Kit   \n",
       "3  {'Format:': ' Hardcover'}       Andres   \n",
       "4  {'Format:': ' Hardcover'}         John   \n",
       "\n",
       "                                          reviewText  \\\n",
       "0  This was the first time I read Garcia-Aguilera...   \n",
       "1  As with all of Ms. Garcia-Aguilera's books, I ...   \n",
       "2  I've not read any of Ms Aguilera's works befor...   \n",
       "3  This romance novel is right up there with the ...   \n",
       "4  Carolina Garcia Aguilera has done it again.  S...   \n",
       "\n",
       "                          summary  unixReviewTime vote image  \n",
       "0                   Hit The Spot!      1026864000  NaN   NaN  \n",
       "1  one hot summer is HOT HOT HOT!      1025913600  NaN   NaN  \n",
       "2                  One Hot Summer      1025654400    2   NaN  \n",
       "3               I love this book!      1025395200    3   NaN  \n",
       "4                    One Hot Book      1025222400  NaN   NaN  "
      ]
     },
     "execution_count": 7,
     "metadata": {},
     "output_type": "execute_result"
    }
   ],
   "source": [
    "df_main.head()"
   ]
  },
  {
   "cell_type": "markdown",
   "id": "a978d627",
   "metadata": {},
   "source": [
    "### df_main: data definition and keep/drop rule\n",
    "* overall: rating of the product                                               - `*IMPORTANT, MUST KEEP*`\n",
    "* verified: boolean                                                            - `*IMPORTANT, MUST KEEP*`\n",
    "* reviewTime: time of the review (raw)                                         - `*IMPORTANT, MUST KEEP*`\n",
    "* reviewerID: ID of the reviewer, e.g. A2SUAM1J3GNN3B                          - `*REDUNDANT, DROP*`\n",
    "* asin: ID of the product, e.g. 0000013714                                     - `*IMPORTANT, MUST KEEP*`\n",
    "* style: a dictionary of the product metadata, e.g., \"Format\" is \"Hardcover\"   - `*REDUNDANT, DROP*`\n",
    "* reviewerName: name of the reviewer                                           - `*REDUNDANT, DROP*`\n",
    "* reviewText: text of the review                                               - `*IMPORTANT, MUST KEEP*`\n",
    "* summary: summary of the review                                               - `*DROP*`\n",
    "* unixReviewTime: time of the review (Unix time format), e.g. 1026864000\t   - `*DROP*`\n",
    "* vote: helpful votes of the review, e.g. NaN or int                           - `*KEEP*`\n",
    "* image: images that users post after they have received the product           - `*KEEP*`"
   ]
  },
  {
   "cell_type": "code",
   "execution_count": 8,
   "id": "d63c63cb-5a7d-4660-8f04-5509151aa3a9",
   "metadata": {},
   "outputs": [
    {
     "name": "stdout",
     "output_type": "stream",
     "text": [
      "<class 'pandas.core.frame.DataFrame'>\n",
      "RangeIndex: 20994353 entries, 0 to 20994352\n",
      "Data columns (total 7 columns):\n",
      " #   Column      Dtype  \n",
      "---  ------      -----  \n",
      " 0   overall     float64\n",
      " 1   verified    bool   \n",
      " 2   reviewTime  object \n",
      " 3   asin        object \n",
      " 4   reviewText  object \n",
      " 5   vote        object \n",
      " 6   image       object \n",
      "dtypes: bool(1), float64(1), object(5)\n",
      "memory usage: 981.1+ MB\n"
     ]
    }
   ],
   "source": [
    "columns_to_drop_main = [\n",
    "    'reviewerID', 'style', 'reviewerName', 'summary', 'unixReviewTime'\n",
    "    ]\n",
    "# Dropping the redundant columns\n",
    "df_main = df_main.drop(columns=columns_to_drop_main)\n",
    "df_main.info()"
   ]
  },
  {
   "cell_type": "code",
   "execution_count": 9,
   "id": "ae6c9a90",
   "metadata": {},
   "outputs": [
    {
     "data": {
      "text/plain": [
       "image\n",
       "False    20645630\n",
       "True       348723\n",
       "Name: count, dtype: int64"
      ]
     },
     "execution_count": 9,
     "metadata": {},
     "output_type": "execute_result"
    }
   ],
   "source": [
    "# convert image url to boolean\n",
    "df_main['image'] = df_main['image'].notna() & (df_main['image'] != '')\n",
    "df_main['image'].value_counts()"
   ]
  },
  {
   "cell_type": "code",
   "execution_count": 10,
   "id": "502cdedb",
   "metadata": {},
   "outputs": [],
   "source": [
    "# convert data type\n",
    "df_main['reviewTime'] = pd.to_datetime(df_main['reviewTime'], format='%m %d, %Y')"
   ]
  },
  {
   "cell_type": "code",
   "execution_count": 11,
   "id": "117ee157",
   "metadata": {},
   "outputs": [],
   "source": [
    "# drop duplicated rows\n",
    "df_main = df_main.drop_duplicates()"
   ]
  },
  {
   "cell_type": "code",
   "execution_count": 12,
   "id": "a2e3effe",
   "metadata": {},
   "outputs": [
    {
     "name": "stdout",
     "output_type": "stream",
     "text": [
      "<class 'pandas.core.frame.DataFrame'>\n",
      "Index: 20576637 entries, 0 to 20994352\n",
      "Data columns (total 7 columns):\n",
      " #   Column      Dtype         \n",
      "---  ------      -----         \n",
      " 0   overall     float64       \n",
      " 1   verified    bool          \n",
      " 2   reviewTime  datetime64[ns]\n",
      " 3   asin        object        \n",
      " 4   reviewText  object        \n",
      " 5   vote        object        \n",
      " 6   image       bool          \n",
      "dtypes: bool(2), datetime64[ns](1), float64(1), object(3)\n",
      "memory usage: 981.2+ MB\n"
     ]
    }
   ],
   "source": [
    "df_main.info()"
   ]
  },
  {
   "cell_type": "code",
   "execution_count": 13,
   "id": "3d1e9942",
   "metadata": {},
   "outputs": [
    {
     "data": {
      "text/html": [
       "<div>\n",
       "<style scoped>\n",
       "    .dataframe tbody tr th:only-of-type {\n",
       "        vertical-align: middle;\n",
       "    }\n",
       "\n",
       "    .dataframe tbody tr th {\n",
       "        vertical-align: top;\n",
       "    }\n",
       "\n",
       "    .dataframe thead th {\n",
       "        text-align: right;\n",
       "    }\n",
       "</style>\n",
       "<table border=\"1\" class=\"dataframe\">\n",
       "  <thead>\n",
       "    <tr style=\"text-align: right;\">\n",
       "      <th></th>\n",
       "      <th>overall</th>\n",
       "      <th>verified</th>\n",
       "      <th>reviewTime</th>\n",
       "      <th>asin</th>\n",
       "      <th>reviewText</th>\n",
       "      <th>vote</th>\n",
       "      <th>image</th>\n",
       "    </tr>\n",
       "  </thead>\n",
       "  <tbody>\n",
       "    <tr>\n",
       "      <th>0</th>\n",
       "      <td>5.0</td>\n",
       "      <td>True</td>\n",
       "      <td>2002-07-17</td>\n",
       "      <td>0060009810</td>\n",
       "      <td>This was the first time I read Garcia-Aguilera...</td>\n",
       "      <td>NaN</td>\n",
       "      <td>False</td>\n",
       "    </tr>\n",
       "    <tr>\n",
       "      <th>1</th>\n",
       "      <td>5.0</td>\n",
       "      <td>False</td>\n",
       "      <td>2002-07-06</td>\n",
       "      <td>0060009810</td>\n",
       "      <td>As with all of Ms. Garcia-Aguilera's books, I ...</td>\n",
       "      <td>NaN</td>\n",
       "      <td>False</td>\n",
       "    </tr>\n",
       "    <tr>\n",
       "      <th>2</th>\n",
       "      <td>5.0</td>\n",
       "      <td>False</td>\n",
       "      <td>2002-07-03</td>\n",
       "      <td>0060009810</td>\n",
       "      <td>I've not read any of Ms Aguilera's works befor...</td>\n",
       "      <td>2</td>\n",
       "      <td>False</td>\n",
       "    </tr>\n",
       "    <tr>\n",
       "      <th>3</th>\n",
       "      <td>4.0</td>\n",
       "      <td>False</td>\n",
       "      <td>2002-06-30</td>\n",
       "      <td>0060009810</td>\n",
       "      <td>This romance novel is right up there with the ...</td>\n",
       "      <td>3</td>\n",
       "      <td>False</td>\n",
       "    </tr>\n",
       "    <tr>\n",
       "      <th>4</th>\n",
       "      <td>5.0</td>\n",
       "      <td>False</td>\n",
       "      <td>2002-06-28</td>\n",
       "      <td>0060009810</td>\n",
       "      <td>Carolina Garcia Aguilera has done it again.  S...</td>\n",
       "      <td>NaN</td>\n",
       "      <td>False</td>\n",
       "    </tr>\n",
       "  </tbody>\n",
       "</table>\n",
       "</div>"
      ],
      "text/plain": [
       "   overall  verified reviewTime        asin  \\\n",
       "0      5.0      True 2002-07-17  0060009810   \n",
       "1      5.0     False 2002-07-06  0060009810   \n",
       "2      5.0     False 2002-07-03  0060009810   \n",
       "3      4.0     False 2002-06-30  0060009810   \n",
       "4      5.0     False 2002-06-28  0060009810   \n",
       "\n",
       "                                          reviewText vote  image  \n",
       "0  This was the first time I read Garcia-Aguilera...  NaN  False  \n",
       "1  As with all of Ms. Garcia-Aguilera's books, I ...  NaN  False  \n",
       "2  I've not read any of Ms Aguilera's works befor...    2  False  \n",
       "3  This romance novel is right up there with the ...    3  False  \n",
       "4  Carolina Garcia Aguilera has done it again.  S...  NaN  False  "
      ]
     },
     "execution_count": 13,
     "metadata": {},
     "output_type": "execute_result"
    }
   ],
   "source": [
    "df_main.head()"
   ]
  },
  {
   "cell_type": "code",
   "execution_count": 15,
   "id": "fd260977",
   "metadata": {},
   "outputs": [],
   "source": [
    "# output to CSV\n",
    "df_main.to_csv('review_cleaned.csv', index=False)"
   ]
  }
 ],
 "metadata": {
  "kernelspec": {
   "display_name": "Python 3 (ipykernel)",
   "language": "python",
   "name": "python3"
  },
  "language_info": {
   "codemirror_mode": {
    "name": "ipython",
    "version": 3
   },
   "file_extension": ".py",
   "mimetype": "text/x-python",
   "name": "python",
   "nbconvert_exporter": "python",
   "pygments_lexer": "ipython3",
   "version": "3.11.4"
  }
 },
 "nbformat": 4,
 "nbformat_minor": 5
}
