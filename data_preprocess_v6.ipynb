{
 "cells": [
  {
   "cell_type": "markdown",
   "id": "7b0958e6",
   "metadata": {},
   "source": [
    "# Data Preprocessing notebook\n",
    "* Data Processing\n",
    "    * define function to load raw json format by partitioning to prevent out of memory error \n",
    "    * clean dataset (special characters and html content) and drop redundant columns (except dropping NA as some columns could be useful in other tasks)\n",
    "    * deduplication\n",
    "    * add year column\n",
    "    * output to csv (`product.csv` and `review.csv`)\n",
    "\n",
    "* Data Manipulation\n",
    "    * load `product.csv` and `review.csv` again\n",
    "    * join two columns from the product dataset to review the dataset to add product main category (`main_cat`) and price (`price`) info to review the dataset for preliminary analysis\n",
    "    * output csv `product.csv`\n",
    "\n",
    "Output of this notebook: `product.csv` and `review.csv`"
   ]
  },
  {
   "cell_type": "markdown",
   "id": "3a6fbb27",
   "metadata": {},
   "source": [
    "## Data Processing"
   ]
  },
  {
   "cell_type": "code",
   "execution_count": 1,
   "id": "14d172e8-ec32-483d-bd9d-6e175e5b13e3",
   "metadata": {
    "tags": []
   },
   "outputs": [
    {
     "name": "stderr",
     "output_type": "stream",
     "text": [
      "C:\\Users\\rzp98\\AppData\\Local\\Temp\\ipykernel_5708\\3259503239.py:3: DeprecationWarning: \n",
      "Pyarrow will become a required dependency of pandas in the next major release of pandas (pandas 3.0),\n",
      "(to allow more performant data types, such as the Arrow string type, and better interoperability with other libraries)\n",
      "but was not found to be installed on your system.\n",
      "If this would cause problems for you,\n",
      "please provide us feedback at https://github.com/pandas-dev/pandas/issues/54466\n",
      "        \n",
      "  import pandas as pd\n"
     ]
    }
   ],
   "source": [
    "import json\n",
    "from tqdm import tqdm\n",
    "import pandas as pd\n",
    "import os\n",
    "\n",
    "import html\n",
    "import re \n",
    "import numpy as np"
   ]
  },
  {
   "cell_type": "markdown",
   "id": "57191af3",
   "metadata": {},
   "source": [
    "data source https://nijianmo.github.io/amazon/index.html"
   ]
  },
  {
   "cell_type": "code",
   "execution_count": null,
   "id": "55675ccb",
   "metadata": {},
   "outputs": [],
   "source": [
    "os.path.getsize(\"meta_Electronics.json\") "
   ]
  },
  {
   "cell_type": "code",
   "execution_count": null,
   "id": "811cdb16",
   "metadata": {},
   "outputs": [],
   "source": [
    "os.path.getsize(\"Electronics.json\")"
   ]
  },
  {
   "cell_type": "code",
   "execution_count": null,
   "id": "734bf416",
   "metadata": {},
   "outputs": [],
   "source": [
    "# define a custom function which support loading partition to prevent out of memory error \n",
    "\n",
    "def get_row_counts(file_path):\n",
    "    with open(file_path, \"r\") as file:\n",
    "        row_counts = 0\n",
    "        for rows in file:\n",
    "            row_counts += 1\n",
    "    return row_counts\n",
    "\n",
    "def load_json_to_df(file_path, partition = 1):\n",
    "    row_counts = get_row_counts(file_path)\n",
    "    with open(file_path, \"r\") as file:\n",
    "        # start from first partition\n",
    "        rows_rolling = 0\n",
    "        json_object = []\n",
    "        for rows in tqdm(file):\n",
    "            if rows_rolling > row_counts / partition:\n",
    "                print(f\"Total rows processed {rows_rolling}/{row_counts}\")\n",
    "                break\n",
    "            else:\n",
    "                json_obj = json.loads(rows.strip())\n",
    "                json_object.append(json_obj)\n",
    "                rows_rolling += 1\n",
    "                if rows_rolling % 100000 == 0:\n",
    "                    print(f\"Processing row: {rows_rolling}/{row_counts}\")\n",
    "                if rows_rolling == row_counts:\n",
    "                    print(f\"All rows loaded to json objects: {rows_rolling}/{row_counts}\")\n",
    "                    \n",
    "    print(\"pushing json objects to pd.df\")\n",
    "    return pd.DataFrame(json_object)"
   ]
  },
  {
   "cell_type": "markdown",
   "id": "d2293774-d67a-4339-be3f-534fbfc5b106",
   "metadata": {},
   "source": [
    "### Product data (meta_Electronics dataset)"
   ]
  },
  {
   "cell_type": "code",
   "execution_count": null,
   "id": "a8b9b8b3",
   "metadata": {},
   "outputs": [],
   "source": [
    "df_product = load_json_to_df(file_path=\"meta_Electronics.json\", partition = 1)"
   ]
  },
  {
   "cell_type": "code",
   "execution_count": null,
   "id": "8140d210",
   "metadata": {},
   "outputs": [],
   "source": [
    "df_product.info()"
   ]
  },
  {
   "cell_type": "markdown",
   "id": "9f9b5271",
   "metadata": {},
   "source": [
    "#### df_product: data definition and keep/drop rule\n",
    "* category: product category and sub-catecory information - `*DROP*`\n",
    "* tech1: primary product specification informtion in HTML format - `*DROP*`\n",
    "* description: product description - `*KEEP*`\n",
    "* fit: this column contains wearable electronic product information in HTML format - `*DROP*`\n",
    "* title: product title - `*KEEP*`\n",
    "* also_buy: list of asin of product which customer who bought this also bought - `*DROP*`\n",
    "* tech2: secondary product specification informtion in HTML format -`*DROP*`\n",
    "* brand: brand of product - `*KEEP*`\n",
    "* feature: product features - `*DROP*`\n",
    "* rank: product rank, need to be clearned as formating is not unified - `*KEEP*`\n",
    "* also_view: list of asin of product which customer who viewed this also viewed - `*DROP*`\n",
    "* main_cat: main product category - `*KEEP*`\n",
    "* similar_item: similar item, html content - `*DROP*`\n",
    "* date: product date - `*KEEP*`\n",
    "* price: price information - `*KEEP*`\n",
    "* asin: product id - `*KEEP*`\n",
    "* imageURL: URL of product image - `*DROP*`\n",
    "* imageURLHighRes: URL of product image - `*DROP*`\n",
    "* details: - `*DROP*`\n"
   ]
  },
  {
   "cell_type": "code",
   "execution_count": null,
   "id": "3edccc69",
   "metadata": {},
   "outputs": [],
   "source": [
    "columns_to_drop_price = [\n",
    "    'category', 'tech1', 'fit', 'also_buy', 'tech2', \n",
    "    'feature', 'also_view', 'similar_item', 'imageURL', \n",
    "    'imageURLHighRes', 'details'\n",
    "    ]\n",
    "# Dropping the redundant columns\n",
    "df_product = df_product.drop(columns=columns_to_drop_price)"
   ]
  },
  {
   "cell_type": "code",
   "execution_count": null,
   "id": "34afc361",
   "metadata": {},
   "outputs": [],
   "source": [
    "df_product.info()"
   ]
  },
  {
   "cell_type": "markdown",
   "id": "48fc518f",
   "metadata": {},
   "source": [
    "#### Data Clearning (special characters and html content)"
   ]
  },
  {
   "cell_type": "code",
   "execution_count": null,
   "id": "b435952a",
   "metadata": {},
   "outputs": [],
   "source": [
    "## Define function for description and value \n",
    "\n",
    "def clean_description(description):\n",
    "    # Check if the input is a list, and convert it to a string if so\n",
    "    if isinstance(description, list):\n",
    "        # Join the list elements into a single string separated by spaces\n",
    "        description = ' '.join(description)\n",
    "    \n",
    "    description = html.unescape(description)\n",
    "    # Remove HTML tags\n",
    "    description = re.sub('<.*?>', ' ', description)\n",
    "    # Replace non-alphanumeric characters with spaces\n",
    "    description = re.sub('[^0-9a-zA-Z]+', ' ', description)\n",
    "    # Normalise whitespace to single space\n",
    "    description = re.sub(r'\\s+', ' ', description)\n",
    "    # Trim leading and trailing spaces\n",
    "    description = description.strip()\n",
    "    # Convert to lowercase\n",
    "    description = description.lower()\n",
    "    \n",
    "    return description\n",
    "\n",
    "\n",
    "def clean_main_cat(main_cat):\n",
    "    # Convert any HTML entities to their corresponding characters\n",
    "    main_cat = html.unescape(main_cat)\n",
    "    # amazon fashion category is compromised contain url so normalise it to just amazon fashion\n",
    "    main_cat = main_cat.replace('AMAZON FASHION', 'Amazon Fashion')\n",
    "    \n",
    "    return main_cat"
   ]
  },
  {
   "cell_type": "code",
   "execution_count": null,
   "id": "2663e2fa",
   "metadata": {},
   "outputs": [],
   "source": [
    "## Start cleaning\n",
    "\n",
    "# Removing all $ signs from the 'price' column\n",
    "df_product['price'] = df_product['price'].str.replace('$', '', regex=False)\n",
    "\n",
    "# Convert price column to correct dtype to save memory\n",
    "df_product['price'] = pd.to_numeric(df_product['price'], errors='coerce')\n",
    "\n",
    "# Clean description and value\n",
    "df_product['description'] = df_product['description'].apply(clean_description)\n",
    "df_product['main_cat'] = df_product['main_cat'].apply(clean_main_cat)\n",
    "\n"
   ]
  },
  {
   "cell_type": "code",
   "execution_count": null,
   "id": "67b03d8f",
   "metadata": {},
   "outputs": [],
   "source": [
    "df_product.info()"
   ]
  },
  {
   "cell_type": "code",
   "execution_count": null,
   "id": "03bd37b3",
   "metadata": {},
   "outputs": [],
   "source": [
    "# drop duplicated asin\n",
    "df_product = df_product.drop_duplicates(subset=['asin'])"
   ]
  },
  {
   "cell_type": "code",
   "execution_count": null,
   "id": "11a788b6",
   "metadata": {},
   "outputs": [],
   "source": [
    "df_product.info()\n"
   ]
  },
  {
   "cell_type": "markdown",
   "id": "1e043c85",
   "metadata": {},
   "source": [
    "Some columns were delibertly left out to be untouched to maintain the integrity of column asin\n",
    "* description - cleaned to just alphanumeric text\n",
    "* title - cleaned\n",
    "* brand - cleaned\n",
    "* rank - untouched, contain multiple category rankings\n",
    "* main_cat - cleaned\n",
    "* date - untouched, some dates are still compromise\n",
    "* price - cleaned\n",
    "* asin - cleaned"
   ]
  },
  {
   "cell_type": "code",
   "execution_count": null,
   "id": "b6ebf5db",
   "metadata": {},
   "outputs": [],
   "source": [
    "# output to CSV\n",
    "df_product.to_csv('product.csv', index=False)\n",
    "del df_product"
   ]
  },
  {
   "cell_type": "code",
   "execution_count": null,
   "id": "30e2d418",
   "metadata": {},
   "outputs": [],
   "source": []
  },
  {
   "cell_type": "code",
   "execution_count": null,
   "id": "48ccf621",
   "metadata": {},
   "outputs": [],
   "source": []
  },
  {
   "cell_type": "markdown",
   "id": "aeb0bb7b",
   "metadata": {},
   "source": [
    "### Review data (Electronics dataset)"
   ]
  },
  {
   "cell_type": "code",
   "execution_count": null,
   "id": "58e9988a",
   "metadata": {},
   "outputs": [],
   "source": [
    "df_review = load_json_to_df(file_path=\"Electronics.json\", partition = 1)"
   ]
  },
  {
   "cell_type": "code",
   "execution_count": null,
   "id": "37866098",
   "metadata": {},
   "outputs": [],
   "source": [
    "df_review.info()"
   ]
  },
  {
   "cell_type": "code",
   "execution_count": null,
   "id": "8da7d055",
   "metadata": {},
   "outputs": [],
   "source": [
    "df_review.head()"
   ]
  },
  {
   "cell_type": "markdown",
   "id": "a978d627",
   "metadata": {},
   "source": [
    "### df_review: data definition and keep/drop rule\n",
    "* overall: rating of the product                                               - `*KEEP*`\n",
    "* verified: boolean                                                            - `*KEEP*`\n",
    "* reviewTime: time of the review (raw)                                         - `*KEEP*`\n",
    "* reviewerID: ID of the reviewer, e.g. A2SUAM1J3GNN3B                          - `*DROP*`\n",
    "* asin: ID of the product, e.g. 0000013714                                     - `*KEEP*`\n",
    "* style: a dictionary of the product metadata, e.g., \"Format\" is \"Hardcover\"   - `*DROP*`\n",
    "* reviewerName: name of the reviewer                                           - `*DROP*`\n",
    "* reviewText: text of the review                                               - `*KEEP*`\n",
    "* summary: summary of the review                                               - `*DROP*`\n",
    "* unixReviewTime: time of the review (Unix time format), e.g. 1026864000\t   - `*DROP*`\n",
    "* vote: helpful votes of the review, e.g. NaN or int                           - `*KEEP*`\n",
    "* image: images that users post after they have received the product           - `*KEEP*`"
   ]
  },
  {
   "cell_type": "code",
   "execution_count": null,
   "id": "d63c63cb-5a7d-4660-8f04-5509151aa3a9",
   "metadata": {},
   "outputs": [],
   "source": [
    "columns_to_drop_review = [\n",
    "    'reviewerID', 'style', 'reviewerName', 'summary', 'unixReviewTime'\n",
    "    ]\n",
    "# Dropping the redundant columns\n",
    "df_review = df_review.drop(columns=columns_to_drop_review)\n",
    "df_review.info()"
   ]
  },
  {
   "cell_type": "code",
   "execution_count": null,
   "id": "ae6c9a90",
   "metadata": {},
   "outputs": [],
   "source": [
    "# convert image url to boolean\n",
    "df_review['image'] = df_review['image'].notna() & (df_review['image'] != '')\n",
    "df_review['image'].value_counts()"
   ]
  },
  {
   "cell_type": "code",
   "execution_count": null,
   "id": "502cdedb",
   "metadata": {},
   "outputs": [],
   "source": [
    "# convert data type\n",
    "df_review['reviewTime'] = pd.to_datetime(df_review['reviewTime'], format='%m %d, %Y')"
   ]
  },
  {
   "cell_type": "code",
   "execution_count": null,
   "id": "3315da71",
   "metadata": {},
   "outputs": [],
   "source": [
    "# add year column\n",
    "df_review['Year'] = df_review['reviewTime'].dt.year"
   ]
  },
  {
   "cell_type": "code",
   "execution_count": null,
   "id": "117ee157",
   "metadata": {},
   "outputs": [],
   "source": [
    "# drop duplicated rows\n",
    "df_review = df_review.drop_duplicates()"
   ]
  },
  {
   "cell_type": "code",
   "execution_count": null,
   "id": "7d21c086",
   "metadata": {},
   "outputs": [],
   "source": [
    "# drop NA in important columns\n",
    "df_review.dropna(subset=['overall'], inplace=True)\n",
    "df_review.dropna(subset=['reviewText'], inplace=True)"
   ]
  },
  {
   "cell_type": "code",
   "execution_count": null,
   "id": "479bed93",
   "metadata": {},
   "outputs": [],
   "source": [
    "df_review['reviewText'].isna().sum()"
   ]
  },
  {
   "cell_type": "code",
   "execution_count": null,
   "id": "a2e3effe",
   "metadata": {},
   "outputs": [],
   "source": [
    "df_review.info()"
   ]
  },
  {
   "cell_type": "code",
   "execution_count": null,
   "id": "3d1e9942",
   "metadata": {},
   "outputs": [],
   "source": [
    "df_review.head()"
   ]
  },
  {
   "cell_type": "code",
   "execution_count": null,
   "id": "fd260977",
   "metadata": {},
   "outputs": [],
   "source": [
    "# output to CSV\n",
    "df_review.to_csv('review.csv', index=False)\n",
    "del df_review"
   ]
  },
  {
   "cell_type": "markdown",
   "id": "2f14618c",
   "metadata": {},
   "source": [
    "# Data Manipulation"
   ]
  },
  {
   "cell_type": "markdown",
   "id": "4b199770",
   "metadata": {},
   "source": [
    "Join two columns from the product dataset to review the dataset to add product main category (`main_cat`) and price (`price`) info to review the dataset for preliminary analysis"
   ]
  },
  {
   "cell_type": "code",
   "execution_count": 2,
   "id": "b1777185",
   "metadata": {},
   "outputs": [
    {
     "name": "stderr",
     "output_type": "stream",
     "text": [
      "C:\\Users\\rzp98\\AppData\\Local\\Temp\\ipykernel_5708\\1604761310.py:2: DtypeWarning: Columns (5) have mixed types. Specify dtype option on import or set low_memory=False.\n",
      "  df_review = pd.read_csv('review.csv')\n"
     ]
    }
   ],
   "source": [
    "# load the cleaned data\n",
    "df_review = pd.read_csv('review.csv')\n",
    "df_product = pd.read_csv('product.csv')\n",
    "# the warning was caused by uncleaned and mixed datatype in vote column, we will deal with this when we need vote data"
   ]
  },
  {
   "cell_type": "code",
   "execution_count": 3,
   "id": "945e3bcc",
   "metadata": {},
   "outputs": [
    {
     "name": "stdout",
     "output_type": "stream",
     "text": [
      "<class 'pandas.core.frame.DataFrame'>\n",
      "RangeIndex: 20567031 entries, 0 to 20567030\n",
      "Data columns (total 8 columns):\n",
      " #   Column      Dtype  \n",
      "---  ------      -----  \n",
      " 0   overall     float64\n",
      " 1   verified    bool   \n",
      " 2   reviewTime  object \n",
      " 3   asin        object \n",
      " 4   reviewText  object \n",
      " 5   vote        object \n",
      " 6   image       bool   \n",
      " 7   Year        int64  \n",
      "dtypes: bool(2), float64(1), int64(1), object(4)\n",
      "memory usage: 980.7+ MB\n"
     ]
    }
   ],
   "source": [
    "df_review.info()"
   ]
  },
  {
   "cell_type": "code",
   "execution_count": 4,
   "id": "79b27768",
   "metadata": {},
   "outputs": [
    {
     "name": "stdout",
     "output_type": "stream",
     "text": [
      "<class 'pandas.core.frame.DataFrame'>\n",
      "RangeIndex: 756077 entries, 0 to 756076\n",
      "Data columns (total 8 columns):\n",
      " #   Column       Non-Null Count   Dtype  \n",
      "---  ------       --------------   -----  \n",
      " 0   description  643149 non-null  object \n",
      " 1   title        756060 non-null  object \n",
      " 2   brand        750665 non-null  object \n",
      " 3   rank         756077 non-null  object \n",
      " 4   main_cat     751940 non-null  object \n",
      " 5   date         643586 non-null  object \n",
      " 6   price        293928 non-null  float64\n",
      " 7   asin         756077 non-null  object \n",
      "dtypes: float64(1), object(7)\n",
      "memory usage: 46.1+ MB\n"
     ]
    }
   ],
   "source": [
    "df_product.info()"
   ]
  },
  {
   "cell_type": "code",
   "execution_count": 5,
   "id": "49a17d2a",
   "metadata": {},
   "outputs": [
    {
     "data": {
      "text/plain": [
       "667"
      ]
     },
     "execution_count": 5,
     "metadata": {},
     "output_type": "execute_result"
    }
   ],
   "source": [
    "# the previous dropna might not detect all white spaces and some other special characters\n",
    "# so we load the data again from csv and drop the NA again\n",
    "df_review['reviewText'].isna().sum()"
   ]
  },
  {
   "cell_type": "code",
   "execution_count": 6,
   "id": "6289a9c5",
   "metadata": {},
   "outputs": [
    {
     "data": {
      "text/plain": [
       "0"
      ]
     },
     "execution_count": 6,
     "metadata": {},
     "output_type": "execute_result"
    }
   ],
   "source": [
    "df_product['asin'].isna().sum()"
   ]
  },
  {
   "cell_type": "code",
   "execution_count": 7,
   "id": "f5fc8203",
   "metadata": {},
   "outputs": [
    {
     "data": {
      "text/plain": [
       "0"
      ]
     },
     "execution_count": 7,
     "metadata": {},
     "output_type": "execute_result"
    }
   ],
   "source": [
    "df_review.dropna(subset=['reviewText'], inplace=True)\n",
    "df_review['reviewText'].isna().sum()"
   ]
  },
  {
   "cell_type": "code",
   "execution_count": 8,
   "id": "d027b804",
   "metadata": {},
   "outputs": [],
   "source": [
    "df_review = df_review.merge(df_product[['asin', 'price']], on='asin', how='left')\n",
    "df_review = df_review.merge(df_product[['asin', 'main_cat']], on='asin', how='left')"
   ]
  },
  {
   "cell_type": "code",
   "execution_count": 9,
   "id": "dc6eea2d",
   "metadata": {},
   "outputs": [
    {
     "data": {
      "text/plain": [
       "0"
      ]
     },
     "execution_count": 9,
     "metadata": {},
     "output_type": "execute_result"
    }
   ],
   "source": [
    "df_review['reviewText'].isna().sum()"
   ]
  },
  {
   "cell_type": "code",
   "execution_count": 10,
   "id": "993d99b9",
   "metadata": {},
   "outputs": [
    {
     "data": {
      "text/html": [
       "<div>\n",
       "<style scoped>\n",
       "    .dataframe tbody tr th:only-of-type {\n",
       "        vertical-align: middle;\n",
       "    }\n",
       "\n",
       "    .dataframe tbody tr th {\n",
       "        vertical-align: top;\n",
       "    }\n",
       "\n",
       "    .dataframe thead th {\n",
       "        text-align: right;\n",
       "    }\n",
       "</style>\n",
       "<table border=\"1\" class=\"dataframe\">\n",
       "  <thead>\n",
       "    <tr style=\"text-align: right;\">\n",
       "      <th></th>\n",
       "      <th>overall</th>\n",
       "      <th>verified</th>\n",
       "      <th>reviewTime</th>\n",
       "      <th>asin</th>\n",
       "      <th>reviewText</th>\n",
       "      <th>vote</th>\n",
       "      <th>image</th>\n",
       "      <th>Year</th>\n",
       "      <th>price</th>\n",
       "      <th>main_cat</th>\n",
       "    </tr>\n",
       "  </thead>\n",
       "  <tbody>\n",
       "    <tr>\n",
       "      <th>0</th>\n",
       "      <td>5.0</td>\n",
       "      <td>True</td>\n",
       "      <td>2002-07-17</td>\n",
       "      <td>0060009810</td>\n",
       "      <td>This was the first time I read Garcia-Aguilera...</td>\n",
       "      <td>NaN</td>\n",
       "      <td>False</td>\n",
       "      <td>2002</td>\n",
       "      <td>11.49</td>\n",
       "      <td>Books</td>\n",
       "    </tr>\n",
       "    <tr>\n",
       "      <th>1</th>\n",
       "      <td>5.0</td>\n",
       "      <td>False</td>\n",
       "      <td>2002-07-06</td>\n",
       "      <td>0060009810</td>\n",
       "      <td>As with all of Ms. Garcia-Aguilera's books, I ...</td>\n",
       "      <td>NaN</td>\n",
       "      <td>False</td>\n",
       "      <td>2002</td>\n",
       "      <td>11.49</td>\n",
       "      <td>Books</td>\n",
       "    </tr>\n",
       "    <tr>\n",
       "      <th>2</th>\n",
       "      <td>5.0</td>\n",
       "      <td>False</td>\n",
       "      <td>2002-07-03</td>\n",
       "      <td>0060009810</td>\n",
       "      <td>I've not read any of Ms Aguilera's works befor...</td>\n",
       "      <td>2</td>\n",
       "      <td>False</td>\n",
       "      <td>2002</td>\n",
       "      <td>11.49</td>\n",
       "      <td>Books</td>\n",
       "    </tr>\n",
       "    <tr>\n",
       "      <th>3</th>\n",
       "      <td>4.0</td>\n",
       "      <td>False</td>\n",
       "      <td>2002-06-30</td>\n",
       "      <td>0060009810</td>\n",
       "      <td>This romance novel is right up there with the ...</td>\n",
       "      <td>3</td>\n",
       "      <td>False</td>\n",
       "      <td>2002</td>\n",
       "      <td>11.49</td>\n",
       "      <td>Books</td>\n",
       "    </tr>\n",
       "    <tr>\n",
       "      <th>4</th>\n",
       "      <td>5.0</td>\n",
       "      <td>False</td>\n",
       "      <td>2002-06-28</td>\n",
       "      <td>0060009810</td>\n",
       "      <td>Carolina Garcia Aguilera has done it again.  S...</td>\n",
       "      <td>NaN</td>\n",
       "      <td>False</td>\n",
       "      <td>2002</td>\n",
       "      <td>11.49</td>\n",
       "      <td>Books</td>\n",
       "    </tr>\n",
       "  </tbody>\n",
       "</table>\n",
       "</div>"
      ],
      "text/plain": [
       "   overall  verified  reviewTime        asin  \\\n",
       "0      5.0      True  2002-07-17  0060009810   \n",
       "1      5.0     False  2002-07-06  0060009810   \n",
       "2      5.0     False  2002-07-03  0060009810   \n",
       "3      4.0     False  2002-06-30  0060009810   \n",
       "4      5.0     False  2002-06-28  0060009810   \n",
       "\n",
       "                                          reviewText vote  image  Year  price  \\\n",
       "0  This was the first time I read Garcia-Aguilera...  NaN  False  2002  11.49   \n",
       "1  As with all of Ms. Garcia-Aguilera's books, I ...  NaN  False  2002  11.49   \n",
       "2  I've not read any of Ms Aguilera's works befor...    2  False  2002  11.49   \n",
       "3  This romance novel is right up there with the ...    3  False  2002  11.49   \n",
       "4  Carolina Garcia Aguilera has done it again.  S...  NaN  False  2002  11.49   \n",
       "\n",
       "  main_cat  \n",
       "0    Books  \n",
       "1    Books  \n",
       "2    Books  \n",
       "3    Books  \n",
       "4    Books  "
      ]
     },
     "execution_count": 10,
     "metadata": {},
     "output_type": "execute_result"
    }
   ],
   "source": [
    "df_review.head()"
   ]
  },
  {
   "cell_type": "code",
   "execution_count": 11,
   "id": "9f4d6eac",
   "metadata": {},
   "outputs": [],
   "source": [
    "df_review.to_csv('review.csv', index=False)"
   ]
  }
 ],
 "metadata": {
  "kernelspec": {
   "display_name": "Python 3 (ipykernel)",
   "language": "python",
   "name": "python3"
  },
  "language_info": {
   "codemirror_mode": {
    "name": "ipython",
    "version": 3
   },
   "file_extension": ".py",
   "mimetype": "text/x-python",
   "name": "python",
   "nbconvert_exporter": "python",
   "pygments_lexer": "ipython3",
   "version": "3.12.1"
  }
 },
 "nbformat": 4,
 "nbformat_minor": 5
}
