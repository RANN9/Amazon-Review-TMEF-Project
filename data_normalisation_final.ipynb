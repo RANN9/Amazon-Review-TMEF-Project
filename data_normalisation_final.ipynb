{
 "cells": [
  {
   "cell_type": "markdown",
   "metadata": {},
   "source": [
    "# Robsut Text Normalisation"
   ]
  },
  {
   "cell_type": "markdown",
   "metadata": {},
   "source": [
    "This notebook is used to apply robust normalisation to preprocessed text data before textual analysis to improve model accuracy and reduce computational time."
   ]
  },
  {
   "cell_type": "markdown",
   "metadata": {},
   "source": [
    "Entities will be removed from text are: \n",
    "- PERSON: Names of individuals.\n",
    "- ORG: Names of organizations, including companies, governmental entities, and other groups.\n",
    "- NORP: Nationalities, religious and political groups.\n",
    "- FAC: Facilities, like buildings, airports, highways, bridges.\n",
    "- GPE: Geo-political entities, such as countries, cities, states.\n",
    "- LOC: Non-GPE locations, mountain ranges, bodies of water.\n",
    "- PRODUCT: Objects, vehicles, foods, etc. (not services).\n",
    "- EVENT: Named events, such as battles, wars, sports events, hurricanes, etc.\n",
    "- WORK_OF_ART: Titles of books, songs, and other works of art.\n",
    "- LAW: Named documents made into laws, including directives, regulations, and legislative acts.\n",
    "- LANGUAGE: Any named language.\n",
    "- DATE: Absolute or relative dates or periods.\n",
    "- TIME: Times smaller than a day.\n",
    "- PERCENT: Percentage (including \"%\").\n",
    "- MONEY: Monetary values, including unit.\n",
    "- QUANTITY: Measurements, as of weight or distance.\n",
    "- ORDINAL: \"first\", \"second\", etc.\n",
    "- CARDINAL: Numerals that do not fall under another type (e.g., a counting number)."
   ]
  },
  {
   "cell_type": "markdown",
   "metadata": {},
   "source": [
    "We relied on spacy `EntityRecognizer` to identify the entities in the text. Due to our computational power constraints, the small model of spaCy web English which is `en_core_web_sm` was used instead of `en_core_web_trf` to trade some accuracy for speed and efficiency."
   ]
  },
  {
   "cell_type": "markdown",
   "metadata": {},
   "source": [
    "Output of this notebook: `review_camera_normalised.csv`, `review_phone_normalised.csv`,`review_computer_normalised.csv` and `review_subset_normalised.csv`"
   ]
  },
  {
   "cell_type": "markdown",
   "metadata": {},
   "source": [
    "## Required Libraries"
   ]
  },
  {
   "cell_type": "code",
   "execution_count": 1,
   "metadata": {},
   "outputs": [],
   "source": [
    "import pandas as pd\n",
    "import numpy as np\n",
    "from tqdm import tqdm\n",
    "\n",
    "import spacy\n",
    "from spacy.tokens import DocBin\n",
    "nlp = spacy.load(\"en_core_web_sm\")"
   ]
  },
  {
   "cell_type": "code",
   "execution_count": 2,
   "metadata": {},
   "outputs": [],
   "source": [
    "ent_labels_to_remove = [\"PERSON\", \"ORG\", \"NORP\", \"FAC\", \"GPE\", \"LOC\", \"PRODUCT\", \n",
    "                          \"EVENT\", \"WORK_OF_ART\", \"LAW\", \"LANGUAGE\", \"DATE\", \"TIME\", \n",
    "                          \"PERCENT\", \"MONEY\", \"QUANTITY\", \"ORDINAL\", \"CARDINAL\"] # all possible entity in spacy entity recognition"
   ]
  },
  {
   "cell_type": "markdown",
   "metadata": {},
   "source": [
    "## Define different normalisation functions"
   ]
  },
  {
   "cell_type": "code",
   "execution_count": 3,
   "metadata": {},
   "outputs": [],
   "source": [
    "# normalise a text string, use with .apply()\n",
    "\n",
    "def normalise_text(text):\n",
    "    text = text.replace(\"\\n\", \" \")\n",
    "    text = text.lower()\n",
    "    doc = nlp(text)\n",
    "    tokens = []\n",
    "    ents_to_exclude_index = set()\n",
    "\n",
    "    for ent in doc.ents:\n",
    "        if ent.label_ in ent_labels_to_remove:\n",
    "            ents_to_exclude_index.update(range(ent.start, ent.end))\n",
    "\n",
    "    for token in doc:\n",
    "        if (\n",
    "            not token.like_url\n",
    "            and not token.like_email\n",
    "            and not token.is_stop\n",
    "            and not token.is_punct\n",
    "            and token.is_alpha\n",
    "            and token.i not in ents_to_exclude_index):\n",
    "                tokens.append(token.lemma_.lower())\n",
    "    return \" \".join(tokens)  # return a string\n",
    "    # return tokens # return a list\n",
    "\n",
    "\n",
    "def hash_to_word(test_text):\n",
    "    word = [nlp.vocab.strings[hash] for hash in test_text]\n",
    "    return word"
   ]
  },
  {
   "cell_type": "code",
   "execution_count": 4,
   "metadata": {},
   "outputs": [],
   "source": [
    "# normalise a column in list form consists of spacy nlp object\n",
    "# this method is the fastest but consume huge memory at once\n",
    "\n",
    "def normalise_doc_at_once(nlp_object_column_list, ent_labels_to_remove):\n",
    "    results = []\n",
    "    for doc in tqdm(nlp_object_column_list):\n",
    "        tokens = []\n",
    "        for token in doc:\n",
    "            if (\n",
    "                not token.like_url\n",
    "                and not token.like_email\n",
    "                and not token.is_stop\n",
    "                and not token.is_punct\n",
    "                and token.is_alpha\n",
    "                and token.ent_type_ not in ent_labels_to_remove\n",
    "            ):\n",
    "                tokens.append(token.lemma_.lower())\n",
    "        results.append(\" \".join(tokens))\n",
    "    return results\n",
    "\n",
    "def column_to_nlp_object_list_at_once(a_df_column):\n",
    "    return list(tqdm(nlp.pipe(a_df_column.tolist())))"
   ]
  },
  {
   "cell_type": "code",
   "execution_count": 5,
   "metadata": {},
   "outputs": [],
   "source": [
    "#normalise in batches to prevent out of memory error\n",
    "\n",
    "def normalise_doc(doc, ent_labels_to_remove):\n",
    "    tokens = [\n",
    "        token.lemma_.lower() for token in doc\n",
    "        if not token.like_url\n",
    "        and not token.like_email\n",
    "        and not token.is_stop\n",
    "        and not token.is_punct\n",
    "        and token.is_alpha\n",
    "        and token.ent_type_ not in ent_labels_to_remove\n",
    "    ]\n",
    "    return \" \".join(tokens)\n",
    "\n",
    "def process_column_in_batches(df_column, batch_size=50000, n_process=1):\n",
    "    results = []\n",
    "    for i in tqdm(range(0, len(df_column), batch_size)):\n",
    "        batch = df_column[i:i+batch_size].tolist()\n",
    "        docs = nlp.pipe(batch, n_process=n_process)\n",
    "        for doc in docs:\n",
    "            normalized_text = normalise_doc(doc, ent_labels_to_remove)\n",
    "            results.append(normalized_text)\n",
    "    return results\n"
   ]
  },
  {
   "cell_type": "markdown",
   "metadata": {},
   "source": [
    "## Load preprocessed data"
   ]
  },
  {
   "cell_type": "code",
   "execution_count": 6,
   "metadata": {},
   "outputs": [
    {
     "name": "stderr",
     "output_type": "stream",
     "text": [
      "/var/folders/nq/z_km61px217dlw3_jg7krlvc0000gn/T/ipykernel_41327/3202621294.py:1: DtypeWarning: Columns (5) have mixed types. Specify dtype option on import or set low_memory=False.\n",
      "  df_review = pd.read_csv('review.csv')\n"
     ]
    }
   ],
   "source": [
    "df_review = pd.read_csv('review.csv')\n",
    "# the warning was caused by uncleaned and mixed datatype in vote column, we will deal with this when we need vote data"
   ]
  },
  {
   "cell_type": "code",
   "execution_count": 7,
   "metadata": {},
   "outputs": [
    {
     "name": "stdout",
     "output_type": "stream",
     "text": [
      "<class 'pandas.core.frame.DataFrame'>\n",
      "RangeIndex: 20566364 entries, 0 to 20566363\n",
      "Data columns (total 10 columns):\n",
      " #   Column      Dtype  \n",
      "---  ------      -----  \n",
      " 0   overall     float64\n",
      " 1   verified    bool   \n",
      " 2   reviewTime  object \n",
      " 3   asin        object \n",
      " 4   reviewText  object \n",
      " 5   vote        object \n",
      " 6   image       bool   \n",
      " 7   Year        int64  \n",
      " 8   price       float64\n",
      " 9   main_cat    object \n",
      "dtypes: bool(2), float64(2), int64(1), object(5)\n",
      "memory usage: 1.3+ GB\n"
     ]
    }
   ],
   "source": [
    "df_review.info()"
   ]
  },
  {
   "cell_type": "code",
   "execution_count": 8,
   "metadata": {},
   "outputs": [
    {
     "data": {
      "text/plain": [
       "0"
      ]
     },
     "execution_count": 8,
     "metadata": {},
     "output_type": "execute_result"
    }
   ],
   "source": [
    "# make sure there is no NA in reviewText column as this will cause error in spacy nlp.pipe\n",
    "df_review[\"reviewText\"].isna().sum()"
   ]
  },
  {
   "cell_type": "code",
   "execution_count": 9,
   "metadata": {},
   "outputs": [
    {
     "data": {
      "text/plain": [
       "Computers                    6732262\n",
       "All Electronics              3655780\n",
       "Home Audio & Theater         3301869\n",
       "Camera & Photo               2502223\n",
       "Cell Phones & Accessories    2272921\n",
       "Car Electronics               412355\n",
       "Amazon Devices                296778\n",
       "Sports & Outdoors             221047\n",
       "Tools & Home Improvement      198603\n",
       "Office Products               172867\n",
       "Name: main_cat, dtype: int64"
      ]
     },
     "execution_count": 9,
     "metadata": {},
     "output_type": "execute_result"
    }
   ],
   "source": [
    "# show top 10 main product category\n",
    "df_review['main_cat'].value_counts().head(10)"
   ]
  },
  {
   "cell_type": "markdown",
   "metadata": {},
   "source": [
    "## Normalisation"
   ]
  },
  {
   "cell_type": "markdown",
   "metadata": {},
   "source": [
    "### Normalise Camera & Photo  review"
   ]
  },
  {
   "cell_type": "code",
   "execution_count": 17,
   "metadata": {},
   "outputs": [],
   "source": [
    "df_review_camera = df_review.loc[df_review[\"main_cat\"] == \"Camera & Photo\" ]\n",
    "# df_review_camera.to_csv('review_camera.csv', index=False) # unnormalised version to csv if needed"
   ]
  },
  {
   "cell_type": "code",
   "execution_count": 18,
   "metadata": {},
   "outputs": [
    {
     "data": {
      "text/plain": [
       "12386       I was skeptical about buying a generic replace...\n",
       "12387       Battery arrived ahead of schedule and was 1/2 ...\n",
       "12388       Muy importante tener una batera cargada de rep...\n",
       "12389       The two rechargeable battery packs I ordered a...\n",
       "12390       Battery charged quickly and installed in my ca...\n",
       "                                  ...                        \n",
       "20566300    I love this dry box!!!! Besides being extremel...\n",
       "20566309    If you have more than day 5000 dollars of gear...\n",
       "20566310                                  Highly Recommended.\n",
       "20566313    I have been using this camera for about 5 mont...\n",
       "20566314    I enjoyed how durable and small this product i...\n",
       "Name: reviewText, Length: 2502223, dtype: object"
      ]
     },
     "execution_count": 18,
     "metadata": {},
     "output_type": "execute_result"
    }
   ],
   "source": [
    "df_review_camera[\"reviewText\"]"
   ]
  },
  {
   "cell_type": "code",
   "execution_count": 20,
   "metadata": {},
   "outputs": [
    {
     "name": "stderr",
     "output_type": "stream",
     "text": [
      "100%|██████████| 51/51 [3:04:29<00:00, 217.05s/it]  \n",
      "C:\\Users\\rzp98\\AppData\\Local\\Temp\\ipykernel_27388\\3079339649.py:1: SettingWithCopyWarning: \n",
      "A value is trying to be set on a copy of a slice from a DataFrame.\n",
      "Try using .loc[row_indexer,col_indexer] = value instead\n",
      "\n",
      "See the caveats in the documentation: https://pandas.pydata.org/pandas-docs/stable/user_guide/indexing.html#returning-a-view-versus-a-copy\n",
      "  df_review_camera['reviewText'] = process_column_in_batches(df_review_camera['reviewText'], batch_size=50000) # adjust batch based on memory available (16G memory could handle around 50000 per batch)\n"
     ]
    }
   ],
   "source": [
    "df_review_camera['reviewText'] = process_column_in_batches(df_review_camera['reviewText'], batch_size=50000) # adjust batch based on memory available (16G memory could handle around 50000 per batch)"
   ]
  },
  {
   "cell_type": "code",
   "execution_count": 21,
   "metadata": {},
   "outputs": [
    {
     "data": {
      "text/plain": [
       "12386       skeptical buy generic replacement battery new ...\n",
       "12387       battery arrive ahead schedule price anyplace b...\n",
       "12388       muy importante tener una batera cargada de rep...\n",
       "12389       rechargeable battery pack order work great cam...\n",
       "12390       battery charge quickly instal camera easily gr...\n",
       "                                  ...                        \n",
       "20566300    love dry box extremely functional allow displa...\n",
       "20566309    gear worth invest professional storage camera ...\n",
       "20566310                                     highly recommend\n",
       "20566313    camera truly k great video quality seriously g...\n",
       "20566314           enjoy durable small product bulky easy use\n",
       "Name: reviewText, Length: 2502223, dtype: object"
      ]
     },
     "execution_count": 21,
     "metadata": {},
     "output_type": "execute_result"
    }
   ],
   "source": [
    "df_review_camera['reviewText']"
   ]
  },
  {
   "cell_type": "code",
   "execution_count": 22,
   "metadata": {},
   "outputs": [],
   "source": [
    "df_review_camera.to_csv('review_camera_normalised.csv', index=False)\n",
    "del df_review_camera"
   ]
  },
  {
   "cell_type": "markdown",
   "metadata": {},
   "source": [
    "### Normalise Cell Phones & Accessories review"
   ]
  },
  {
   "cell_type": "code",
   "execution_count": 23,
   "metadata": {},
   "outputs": [],
   "source": [
    "df_review_phone = df_review.loc[df_review[\"main_cat\"] == \"Cell Phones & Accessories\" ]\n",
    "# df_review_phone.to_csv('review_phone.csv', index=False) # unnormalised version to csv if needed"
   ]
  },
  {
   "cell_type": "code",
   "execution_count": 24,
   "metadata": {},
   "outputs": [
    {
     "data": {
      "text/plain": [
       "1245        Stephanie has spent time filtering out many pr...\n",
       "1246        For the past two years I've taught math profic...\n",
       "1247        This book has notes, definitions,and practice ...\n",
       "1248        The resources in this book are like no other. ...\n",
       "1249        I am a High School mathematics teacher in the ...\n",
       "                                  ...                        \n",
       "20566349    Great product, great customer care. Thanks & w...\n",
       "20566350    Works great, love the longer cord. As with any...\n",
       "20566351    Perfect length. Very durable braiding. Works g...\n",
       "20566352    Ok here is an odd thing that happened to me, I...\n",
       "20566353                                          Works well.\n",
       "Name: reviewText, Length: 2272921, dtype: object"
      ]
     },
     "execution_count": 24,
     "metadata": {},
     "output_type": "execute_result"
    }
   ],
   "source": [
    "df_review_phone[\"reviewText\"]"
   ]
  },
  {
   "cell_type": "code",
   "execution_count": 25,
   "metadata": {},
   "outputs": [
    {
     "name": "stderr",
     "output_type": "stream",
     "text": [
      "  0%|          | 0/46 [00:00<?, ?it/s]"
     ]
    },
    {
     "name": "stderr",
     "output_type": "stream",
     "text": [
      "100%|██████████| 46/46 [2:07:19<00:00, 166.07s/it]  \n",
      "C:\\Users\\rzp98\\AppData\\Local\\Temp\\ipykernel_27388\\1626423066.py:1: SettingWithCopyWarning: \n",
      "A value is trying to be set on a copy of a slice from a DataFrame.\n",
      "Try using .loc[row_indexer,col_indexer] = value instead\n",
      "\n",
      "See the caveats in the documentation: https://pandas.pydata.org/pandas-docs/stable/user_guide/indexing.html#returning-a-view-versus-a-copy\n",
      "  df_review_phone['reviewText'] = process_column_in_batches(df_review_phone['reviewText'], batch_size=50000) # adjust batch based on memory available (16G memory could handle around 50000 per batch)\n"
     ]
    }
   ],
   "source": [
    "df_review_phone['reviewText'] = process_column_in_batches(df_review_phone['reviewText'], batch_size=50000) # adjust batch based on memory available (16G memory could handle around 50000 per batch)"
   ]
  },
  {
   "cell_type": "code",
   "execution_count": 26,
   "metadata": {},
   "outputs": [
    {
     "data": {
      "text/plain": [
       "1245        spend time filter problem appear test book lay...\n",
       "1246        teach math proficiency class high school senio...\n",
       "1247        book note definition practice problem explaint...\n",
       "1248        resource book like product student love teach ...\n",
       "1249        high school mathematic teacher district teach ...\n",
       "                                  ...                        \n",
       "20566349     great product great customer care thank business\n",
       "20566350    work great love long cord cord buy long expect...\n",
       "20566351    perfect length durable braiding work great rap...\n",
       "20566352    ok odd thing happen click sale item ft cable r...\n",
       "20566353                                                 work\n",
       "Name: reviewText, Length: 2272921, dtype: object"
      ]
     },
     "execution_count": 26,
     "metadata": {},
     "output_type": "execute_result"
    }
   ],
   "source": [
    "df_review_phone['reviewText']"
   ]
  },
  {
   "cell_type": "code",
   "execution_count": 27,
   "metadata": {},
   "outputs": [],
   "source": [
    "df_review_phone.to_csv('review_phone_normalised.csv', index=False)\n",
    "del df_review_phone"
   ]
  },
  {
   "cell_type": "markdown",
   "metadata": {},
   "source": [
    "### Normalise Computer review"
   ]
  },
  {
   "cell_type": "code",
   "execution_count": 28,
   "metadata": {},
   "outputs": [],
   "source": [
    "df_review_comp = df_review.loc[df_review[\"main_cat\"] == \"Computers\" ]\n",
    "# df_review_comp.to_csv('review_computer.csv', index=False) # unnormalised version to csv if needed"
   ]
  },
  {
   "cell_type": "code",
   "execution_count": 29,
   "metadata": {},
   "outputs": [
    {
     "data": {
      "text/plain": [
       "743         It does 2A and charges a DEAD Nook in a few ho...\n",
       "744         Same charger can be bought at Barnes & Noble f...\n",
       "745         Works well, a little pricey I think for a char...\n",
       "746         My son crewed my HD charger cord so I needed a...\n",
       "747         It works perfect, puppy chewed last one and I ...\n",
       "                                  ...                        \n",
       "20566359    Had it 1 day and it quit working, will be retu...\n",
       "20566360    Received item in 2 days. Product worked as adv...\n",
       "20566361    I have it plugged into a usb extension on my g...\n",
       "20566362              Fast delivery product was simple to use\n",
       "20566363           Working as advertised, so far no problems.\n",
       "Name: reviewText, Length: 6732262, dtype: object"
      ]
     },
     "execution_count": 29,
     "metadata": {},
     "output_type": "execute_result"
    }
   ],
   "source": [
    "df_review_comp[\"reviewText\"]"
   ]
  },
  {
   "cell_type": "code",
   "execution_count": 30,
   "metadata": {},
   "outputs": [
    {
     "name": "stderr",
     "output_type": "stream",
     "text": [
      "  0%|          | 0/135 [00:00<?, ?it/s]"
     ]
    },
    {
     "name": "stderr",
     "output_type": "stream",
     "text": [
      "100%|██████████| 135/135 [6:40:31<00:00, 178.01s/it]  \n",
      "C:\\Users\\rzp98\\AppData\\Local\\Temp\\ipykernel_27388\\4150549989.py:1: SettingWithCopyWarning: \n",
      "A value is trying to be set on a copy of a slice from a DataFrame.\n",
      "Try using .loc[row_indexer,col_indexer] = value instead\n",
      "\n",
      "See the caveats in the documentation: https://pandas.pydata.org/pandas-docs/stable/user_guide/indexing.html#returning-a-view-versus-a-copy\n",
      "  df_review_comp['reviewText'] = process_column_in_batches(df_review_comp['reviewText'], batch_size=50000) # adjust batch based on memory available (16G memory could handle around 5000 per batch)\n"
     ]
    }
   ],
   "source": [
    "df_review_comp['reviewText'] = process_column_in_batches(df_review_comp['reviewText'], batch_size=50000) # adjust batch based on memory available (16G memory could handle around 5000 per batch)"
   ]
  },
  {
   "cell_type": "code",
   "execution_count": 31,
   "metadata": {},
   "outputs": [
    {
     "data": {
      "text/plain": [
       "743         charge dead nook heat compare wall wort dual c...\n",
       "744         charger buy price give understand competition ...\n",
       "745         work little pricey think charge cable lose ori...\n",
       "746         son crew hd charger cord need exactly like son...\n",
       "747         work perfect puppy chew till difference price ...\n",
       "                                  ...                        \n",
       "20566359                                     quit work return\n",
       "20566360    receive item product work advertised instructi...\n",
       "20566361    plug usb extension gaming pc ideally place tra...\n",
       "20566362                     fast delivery product simple use\n",
       "20566363                           work advertise far problem\n",
       "Name: reviewText, Length: 6732262, dtype: object"
      ]
     },
     "execution_count": 31,
     "metadata": {},
     "output_type": "execute_result"
    }
   ],
   "source": [
    "df_review_comp['reviewText']"
   ]
  },
  {
   "cell_type": "code",
   "execution_count": 32,
   "metadata": {},
   "outputs": [],
   "source": [
    "df_review_comp.to_csv('review_computer_normalised.csv', index=False)\n",
    "del df_review_comp"
   ]
  },
  {
   "cell_type": "code",
   "execution_count": null,
   "metadata": {},
   "outputs": [],
   "source": []
  },
  {
   "cell_type": "markdown",
   "metadata": {},
   "source": [
    "### Normalise subset of review data "
   ]
  },
  {
   "cell_type": "code",
   "execution_count": 16,
   "metadata": {},
   "outputs": [
    {
     "data": {
      "text/plain": [
       "0           This was the first time I read Garcia-Aguilera...\n",
       "1           As with all of Ms. Garcia-Aguilera's books, I ...\n",
       "2           I've not read any of Ms Aguilera's works befor...\n",
       "3           This romance novel is right up there with the ...\n",
       "4           Carolina Garcia Aguilera has done it again.  S...\n",
       "                                  ...                        \n",
       "20566359    Had it 1 day and it quit working, will be retu...\n",
       "20566360    Received item in 2 days. Product worked as adv...\n",
       "20566361    I have it plugged into a usb extension on my g...\n",
       "20566362              Fast delivery product was simple to use\n",
       "20566363           Working as advertised, so far no problems.\n",
       "Name: reviewText, Length: 20566364, dtype: object"
      ]
     },
     "execution_count": 16,
     "metadata": {},
     "output_type": "execute_result"
    }
   ],
   "source": [
    "df_review[\"reviewText\"]"
   ]
  },
  {
   "cell_type": "code",
   "execution_count": 17,
   "metadata": {},
   "outputs": [
    {
     "name": "stdout",
     "output_type": "stream",
     "text": [
      "<class 'pandas.core.frame.DataFrame'>\n",
      "Int64Index: 4113273 entries, 6036777 to 303060\n",
      "Data columns (total 10 columns):\n",
      " #   Column      Dtype  \n",
      "---  ------      -----  \n",
      " 0   overall     float64\n",
      " 1   verified    bool   \n",
      " 2   reviewTime  object \n",
      " 3   asin        object \n",
      " 4   reviewText  object \n",
      " 5   vote        object \n",
      " 6   image       bool   \n",
      " 7   Year        int64  \n",
      " 8   price       float64\n",
      " 9   main_cat    object \n",
      "dtypes: bool(2), float64(2), int64(1), object(5)\n",
      "memory usage: 290.3+ MB\n"
     ]
    }
   ],
   "source": [
    "df_review_subset = df_review.sample(frac=0.2, random_state=9) # 1/5 of the entire review dataset = around 4M rows\n",
    "df_review_subset.info()"
   ]
  },
  {
   "cell_type": "code",
   "execution_count": 18,
   "metadata": {},
   "outputs": [
    {
     "data": {
      "text/plain": [
       "Computers                    1346617\n",
       "All Electronics               731408\n",
       "Home Audio & Theater          659954\n",
       "Camera & Photo                500418\n",
       "Cell Phones & Accessories     455020\n",
       "Car Electronics                82516\n",
       "Amazon Devices                 59060\n",
       "Sports & Outdoors              43884\n",
       "Tools & Home Improvement       39669\n",
       "Office Products                34832\n",
       "Name: main_cat, dtype: int64"
      ]
     },
     "execution_count": 18,
     "metadata": {},
     "output_type": "execute_result"
    }
   ],
   "source": [
    "df_review_subset[\"main_cat\"].value_counts().head(10)"
   ]
  },
  {
   "cell_type": "code",
   "execution_count": 19,
   "metadata": {},
   "outputs": [
    {
     "data": {
      "text/plain": [
       "6036777     It is a charger that does the job easily and q...\n",
       "13947242               It's a SDXC card...what's not to like?\n",
       "1294956     Not a bad product if you are leaning\\nthat way...\n",
       "16563154                               good tab for the price\n",
       "9143168     It does everything as promised. I can see all ...\n",
       "                                  ...                        \n",
       "20261538                Excellet for the shower! Good product\n",
       "16451992                   case fits kindle voyager perfectly\n",
       "6733777     a good clear picture very crisp you can really...\n",
       "9093831     very good, working and very clear strong and t...\n",
       "303060      I bought this KVM switch for my home office so...\n",
       "Name: reviewText, Length: 4113273, dtype: object"
      ]
     },
     "execution_count": 19,
     "metadata": {},
     "output_type": "execute_result"
    }
   ],
   "source": [
    "df_review_subset['reviewText']"
   ]
  },
  {
   "cell_type": "code",
   "execution_count": 20,
   "metadata": {},
   "outputs": [
    {
     "name": "stderr",
     "output_type": "stream",
     "text": [
      "100%|██████████| 83/83 [1:59:56<00:00, 86.71s/it]\n"
     ]
    }
   ],
   "source": [
    "df_review_subset['reviewText'] = process_column_in_batches(df_review_subset['reviewText'], batch_size=50000, n_process=-1) # adjust batch based on memory available (16G memory could handle around 50000 per batch)"
   ]
  },
  {
   "cell_type": "code",
   "execution_count": 21,
   "metadata": {},
   "outputs": [
    {
     "data": {
      "text/plain": [
       "6036777     charger job easily quickly use direction figur...\n",
       "13947242                                       sdxc card like\n",
       "1294956     bad product lean way cost reasonable operation...\n",
       "16563154                                       good tab price\n",
       "9143168     promise internet goody print network printer p...\n",
       "                                  ...                        \n",
       "20261538                         excellet shower good product\n",
       "16451992                    case fit kindle voyager perfectly\n",
       "6733777     good clear picture crisp tell s view area get ...\n",
       "9093831                    good work clear strong lot beating\n",
       "303060      buy switch home office crawl desk disconnect m...\n",
       "Name: reviewText, Length: 4113273, dtype: object"
      ]
     },
     "execution_count": 21,
     "metadata": {},
     "output_type": "execute_result"
    }
   ],
   "source": [
    "df_review_subset['reviewText']"
   ]
  },
  {
   "cell_type": "code",
   "execution_count": 22,
   "metadata": {},
   "outputs": [],
   "source": [
    "df_review_subset.to_csv('review_subset_normalised.csv', index=False)\n",
    "del df_review_subset"
   ]
  }
 ],
 "metadata": {
  "kernelspec": {
   "display_name": ".venv",
   "language": "python",
   "name": "python3"
  },
  "language_info": {
   "codemirror_mode": {
    "name": "ipython",
    "version": 3
   },
   "file_extension": ".py",
   "mimetype": "text/x-python",
   "name": "python",
   "nbconvert_exporter": "python",
   "pygments_lexer": "ipython3",
   "version": "3.11.4"
  }
 },
 "nbformat": 4,
 "nbformat_minor": 2
}
